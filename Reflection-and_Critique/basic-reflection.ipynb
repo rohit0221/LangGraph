{
 "cells": [
  {
   "cell_type": "code",
   "execution_count": 1,
   "metadata": {},
   "outputs": [],
   "source": [
    "from dotenv import load_dotenv\n",
    "import os\n",
    "load_dotenv()\n",
    "from langchain_openai import ChatOpenAI\n"
   ]
  },
  {
   "cell_type": "code",
   "execution_count": 4,
   "metadata": {},
   "outputs": [],
   "source": [
    "from langchain_core.messages import AIMessage, BaseMessage, HumanMessage\n",
    "from langchain_core.prompts import ChatPromptTemplate, MessagesPlaceholder\n",
    "from langchain_fireworks import ChatFireworks\n",
    "\n",
    "prompt = ChatPromptTemplate.from_messages(\n",
    "    [\n",
    "        (\n",
    "            \"system\",\n",
    "            \"You are an essay assistant tasked with writing excellent 5-paragraph essays.\"\n",
    "            \" Generate the best essay possible for the user's request.\"\n",
    "            \" If the user provides critique, respond with a revised version of your previous attempts.\",\n",
    "        ),\n",
    "        MessagesPlaceholder(variable_name=\"messages\"),\n",
    "    ]\n",
    ")\n",
    "llm = ChatOpenAI(model=\"gpt-3.5-turbo\")\n",
    "\n",
    "generate = prompt | llm"
   ]
  },
  {
   "cell_type": "code",
   "execution_count": 5,
   "metadata": {},
   "outputs": [
    {
     "name": "stdout",
     "output_type": "stream",
     "text": [
      "\"The Little Prince\" by Antoine de Saint-Exupéry is a timeless classic that continues to captivate readers of all ages, especially children. Despite being written in the 1940s, the themes and messages in the story remain highly relevant in modern childhood. This essay will explore why \"The Little Prince\" continues to resonate with young readers today.\n",
      "\n",
      "First and foremost, the Little Prince himself is a character that children can easily relate to. His innocent curiosity, genuine emotions, and unique perspective on the world mirror the way children see and experience the world around them. Children are drawn to the Little Prince's sense of wonder and his ability to ask meaningful questions about life, love, and friendship. In a world where children are often encouraged to grow up quickly, the Little Prince serves as a reminder to hold on to one's sense of wonder and imagination.\n",
      "\n",
      "Moreover, the themes of friendship and connection portrayed in \"The Little Prince\" are particularly relevant in modern childhood. In today's digital age, where social media often replaces face-to-face interactions, children can learn valuable lessons from the Little Prince's relationships with the fox, the rose, and the narrator. The importance of forming meaningful connections, nurturing friendships, and valuing the uniqueness of each individual are all themes that children can learn from the story.\n",
      "\n",
      "Additionally, \"The Little Prince\" addresses complex topics such as loneliness, loss, and the search for meaning in a way that is accessible and thought-provoking for young readers. Children today face a myriad of challenges and uncertainties, and the story of the Little Prince offers them a sense of comfort and reassurance that they are not alone in their struggles. Through the Little Prince's encounters with various characters on different planets, children can learn about empathy, compassion, and the importance of understanding others.\n",
      "\n",
      "Furthermore, the whimsical and poetic language used in \"The Little Prince\" appeals to children's imagination and creativity. The story is filled with vivid descriptions, enchanting illustrations, and profound philosophical insights that can spark a child's curiosity and inspire their own storytelling and artistic endeavors. By engaging with the text on a deeper level, children can develop their critical thinking skills and emotional intelligence.\n",
      "\n",
      "In conclusion, \"The Little Prince\" remains relevant in modern childhood for its timeless themes, relatable characters, and captivating storytelling. Through the story of the Little Prince's journey across the universe, children can learn valuable lessons about friendship, love, loss, and the beauty of the human experience. As children navigate the complexities of growing up in today's world, \"The Little Prince\" serves as a guiding light, reminding them to embrace their inner child, cherish their relationships, and seek out the magic in everyday life."
     ]
    }
   ],
   "source": [
    "essay = \"\"\n",
    "request = HumanMessage(\n",
    "    content=\"Write an essay on why the little prince is relevant in modern childhood\"\n",
    ")\n",
    "for chunk in generate.stream({\"messages\": [request]}):\n",
    "    print(chunk.content, end=\"\")\n",
    "    essay += chunk.content"
   ]
  },
  {
   "cell_type": "code",
   "execution_count": 6,
   "metadata": {},
   "outputs": [],
   "source": [
    "reflection_prompt = ChatPromptTemplate.from_messages(\n",
    "    [\n",
    "        (\n",
    "            \"system\",\n",
    "            \"You are a teacher grading an essay submission. Generate critique and recommendations for the user's submission.\"\n",
    "            \" Provide detailed recommendations, including requests for length, depth, style, etc.\",\n",
    "        ),\n",
    "        MessagesPlaceholder(variable_name=\"messages\"),\n",
    "    ]\n",
    ")\n",
    "reflect = reflection_prompt | llm"
   ]
  },
  {
   "cell_type": "code",
   "execution_count": 7,
   "metadata": {},
   "outputs": [
    {
     "name": "stdout",
     "output_type": "stream",
     "text": [
      "Overall, your essay on why \"The Little Prince\" is relevant in modern childhood is well-written and insightful. You have effectively highlighted key themes and messages from the book and connected them to the experiences of children today. Here are some suggestions to enhance your essay further:\n",
      "\n",
      "1. **Depth and Analysis**: While you touch upon various themes such as friendship, connection, loneliness, and imagination, consider delving deeper into each theme. Provide specific examples from the book that illustrate these themes and explain how they resonate with children today. Analyze how these themes can help children navigate their own lives and challenges.\n",
      "\n",
      "2. **Expand on the Impact**: You mention that the Little Prince's relationships can teach children about forming connections and valuing uniqueness. Expand on this by discussing how these lessons can influence children's behavior and interactions with others. Provide real-life examples or studies that support the importance of these lessons in childhood development.\n",
      "\n",
      "3. **Include Counterarguments**: To strengthen your argument, consider addressing potential counterarguments. Some may argue that \"The Little Prince\" is too idealistic or outdated for modern children. By acknowledging and refuting these counterarguments, you can demonstrate a more nuanced understanding of the book's relevance.\n",
      "\n",
      "4. **Engage with Current Events**: Connect the themes of \"The Little Prince\" to current events or trends in modern childhood. Consider discussing how the book's messages can help children navigate issues such as social media use, mental health challenges, or environmental awareness. This will show the continued relevance and applicability of the book's themes in today's world.\n",
      "\n",
      "5. **Language and Style**: Your essay is well-written, but consider varying your sentence structure and incorporating more descriptive language to engage the reader further. Use literary devices or quotes from the book to enhance your analysis and make your arguments more compelling.\n",
      "\n",
      "6. **Conclusion**: While your conclusion summarizes your main points effectively, consider ending with a thought-provoking statement or a call to action for the reader. Encourage reflection on how children can apply the lessons from \"The Little Prince\" in their own lives and communities.\n",
      "\n",
      "Overall, your essay shows a strong understanding of the enduring significance of \"The Little Prince\" in modern childhood. By incorporating these recommendations, you can further strengthen your argument and provide a more comprehensive analysis of why the book continues to resonate with young readers today."
     ]
    }
   ],
   "source": [
    "reflection = \"\"\n",
    "for chunk in reflect.stream({\"messages\": [request, HumanMessage(content=essay)]}):\n",
    "    print(chunk.content, end=\"\")\n",
    "    reflection += chunk.content"
   ]
  },
  {
   "cell_type": "code",
   "execution_count": 8,
   "metadata": {},
   "outputs": [
    {
     "name": "stdout",
     "output_type": "stream",
     "text": [
      "\"The Little Prince\" by Antoine de Saint-Exupéry remains a beloved classic that continues to resonate with modern children for a variety of reasons. One of the key themes of the book is the importance of friendship and connection. Through the Little Prince's interactions with characters like the fox and the rose, children learn about the value of forming meaningful relationships and cherishing the uniqueness of others. For example, the Little Prince's bond with the fox, who teaches him the true meaning of friendship through the ritual of taming, highlights the significance of genuine connections in a world that often prioritizes superficial interactions.\n",
      "\n",
      "In addition to friendship, \"The Little Prince\" addresses complex emotions such as loneliness and loss, which are particularly relevant in modern childhood. Children today face various challenges that can lead to feelings of isolation and confusion. By following the Little Prince's journey of self-discovery and encountering characters like the lonely lamplighter and the geographer, young readers can learn about empathy, compassion, and the importance of understanding others' perspectives. The book serves as a comforting reminder to children that they are not alone in their struggles and that reaching out and connecting with others can bring solace and understanding.\n",
      "\n",
      "Moreover, the whimsical and poetic language of \"The Little Prince\" appeals to children's imagination and creativity, encouraging them to explore their own inner worlds. The book's enchanting illustrations and profound philosophical insights spark curiosity and inspire young readers to think deeply about life's mysteries and complexities. By engaging with the text on a deeper level, children can develop their critical thinking skills and emotional intelligence, fostering a sense of wonder and awe in the world around them.\n",
      "\n",
      "Despite being written decades ago, the messages and themes in \"The Little Prince\" remain highly relevant in today's fast-paced and digitally driven world. In a society where social media often dictates social interactions, the book's emphasis on genuine connections and meaningful relationships serves as a valuable lesson for children navigating the complexities of modern childhood. By reflecting on the Little Prince's encounters and adventures, young readers can learn important life lessons about love, friendship, loss, and the beauty of human relationships that transcend time and space.\n",
      "\n",
      "In conclusion, \"The Little Prince\" continues to be a poignant and resonant tale for modern childhood, offering timeless lessons about friendship, empathy, imagination, and the human experience. Through the character of the Little Prince and his encounters with various inhabitants of the universe, children can find guidance and inspiration to navigate their own journeys of self-discovery and connection in a world that is constantly changing. As children immerse themselves in the magical world of the Little Prince, they are reminded to embrace their inner child, cherish meaningful relationships, and seek out the beauty and wonder that exist in the world around them."
     ]
    }
   ],
   "source": [
    "for chunk in generate.stream(\n",
    "    {\"messages\": [request, AIMessage(content=essay), HumanMessage(content=reflection)]}\n",
    "):\n",
    "    print(chunk.content, end=\"\")"
   ]
  },
  {
   "cell_type": "code",
   "execution_count": 9,
   "metadata": {},
   "outputs": [],
   "source": [
    "from typing import List, Sequence\n",
    "\n",
    "from langgraph.graph import END, MessageGraph\n",
    "\n",
    "\n",
    "async def generation_node(state: Sequence[BaseMessage]):\n",
    "    return await generate.ainvoke({\"messages\": state})\n",
    "\n",
    "\n",
    "async def reflection_node(messages: Sequence[BaseMessage]) -> List[BaseMessage]:\n",
    "    # Other messages we need to adjust\n",
    "    cls_map = {\"ai\": HumanMessage, \"human\": AIMessage}\n",
    "    # First message is the original user request. We hold it the same for all nodes\n",
    "    translated = [messages[0]] + [\n",
    "        cls_map[msg.type](content=msg.content) for msg in messages[1:]\n",
    "    ]\n",
    "    res = await reflect.ainvoke({\"messages\": translated})\n",
    "    # We treat the output of this as human feedback for the generator\n",
    "    return HumanMessage(content=res.content)\n",
    "\n",
    "\n",
    "builder = MessageGraph()\n",
    "builder.add_node(\"generate\", generation_node)\n",
    "builder.add_node(\"reflect\", reflection_node)\n",
    "builder.set_entry_point(\"generate\")\n",
    "\n",
    "\n",
    "def should_continue(state: List[BaseMessage]):\n",
    "    if len(state) > 6:\n",
    "        # End after 3 iterations\n",
    "        return END\n",
    "    return \"reflect\"\n",
    "\n",
    "\n",
    "builder.add_conditional_edges(\"generate\", should_continue)\n",
    "builder.add_edge(\"reflect\", \"generate\")\n",
    "graph = builder.compile()"
   ]
  },
  {
   "cell_type": "code",
   "execution_count": 10,
   "metadata": {},
   "outputs": [
    {
     "name": "stdout",
     "output_type": "stream",
     "text": [
      "{'generate': AIMessage(content='\"The Little Prince\" by Antoine de Saint-Exupéry is a timeless classic that continues to resonate with readers of all ages due to its profound messages and themes. In today\\'s fast-paced and materialistic world, the lessons from this novella are more relevant than ever. The story follows a young prince who travels from planet to planet, learning valuable life lessons along the way. One of the central messages of the book is the importance of seeing beyond the surface and cultivating meaningful connections with others.\\n\\nIn modern life, where social media and technology often dominate our interactions, the message of authentic human connections is particularly poignant. The Little Prince values the time he spends with the fox because of the bond they share, emphasizing the significance of relationships built on understanding and empathy. In a world where superficial connections are common, the book serves as a reminder to prioritize genuine relationships and to cherish the moments spent with loved ones.\\n\\nFurthermore, \"The Little Prince\" encourages readers to embrace their inner child and to view the world with a sense of wonder and curiosity. The prince\\'s innocent perspective on life challenges the jaded outlook that many adults develop over time. In today\\'s society, where stress and responsibilities can weigh heavily on individuals, the book\\'s message to maintain a sense of childlike wonder offers a refreshing perspective on life.\\n\\nMoreover, the novella delves into themes of love, loss, and the complexities of human nature. The prince\\'s encounters with different characters on his journey highlight the diversity of human experiences and emotions. In a world that can often feel divided and chaotic, \"The Little Prince\" encourages readers to approach others with compassion and understanding, recognizing the shared humanity that connects us all.\\n\\nIn conclusion, \"The Little Prince\" remains a relevant and poignant work that offers valuable lessons for navigating modern life. Its messages of cultivating meaningful relationships, embracing wonder and curiosity, and approaching others with empathy and compassion are timeless and universal. By heeding the wisdom of the little prince, readers can strive to live more fulfilling and authentic lives in today\\'s complex world.', response_metadata={'token_usage': {'completion_tokens': 410, 'prompt_tokens': 70, 'total_tokens': 480}, 'model_name': 'gpt-3.5-turbo', 'system_fingerprint': None, 'finish_reason': 'stop', 'logprobs': None}, id='run-8dd15671-7e13-420b-924d-9eb9ddec4565-0', usage_metadata={'input_tokens': 70, 'output_tokens': 410, 'total_tokens': 480})}\n",
      "---\n",
      "{'reflect': HumanMessage(content='This essay on the topicality of \"The Little Prince\" and its message in modern life covers some key aspects of the book\\'s relevance in today\\'s society. Here are some recommendations to further enhance your essay:\\n\\n1. **Introduction**: Begin your essay with a more engaging and captivating introduction that hooks the reader\\'s attention. You could start with a thought-provoking quote from the book or provide some background information about the author and the context in which the book was written.\\n\\n2. **Thesis Statement**: Clearly state your thesis at the end of the introduction to guide your essay. This will help set the tone and direction for your arguments throughout the essay.\\n\\n3. **Depth of Analysis**: While you touch upon various themes from the book, consider delving deeper into each one. For example, when discussing the importance of meaningful connections, provide specific examples from the book that illustrate this theme and analyze how these examples apply to modern life.\\n\\n4. **Examples and Evidence**: Incorporate more direct quotes and specific examples from the text to support your arguments. This will add credibility to your analysis and demonstrate a deeper understanding of the book\\'s messages.\\n\\n5. **Personal Reflection**: Consider adding a personal reflection or anecdote to connect the themes of the book to your own experiences or observations in modern society. This can make your essay more relatable and engaging for the reader.\\n\\n6. **Conclusion**: Your conclusion effectively summarizes the key points discussed in the essay. You could further strengthen it by offering a thought-provoking insight or a call to action for readers to apply the lessons from \"The Little Prince\" in their own lives.\\n\\n7. **Length and Structure**: While your essay is well-written, consider expanding on each point to provide more depth and analysis. Aim for a more structured approach with distinct paragraphs for each theme or argument to enhance clarity and organization.\\n\\nBy incorporating these recommendations, you can further develop your essay on the topicality of \"The Little Prince\" and its enduring relevance in modern life. Keep refining your analysis and insights to offer a comprehensive exploration of the book\\'s timeless messages.')}\n",
      "---\n",
      "{'generate': AIMessage(content='\"The Little Prince\" by Antoine de Saint-Exupéry continues to captivate readers with its timeless themes and messages that hold profound relevance in modern society. Written in the midst of World War II, the novella transcends its historical context to offer universal insights into human relationships, the complexities of life, and the importance of maintaining a childlike perspective. Through its allegorical narrative, \"The Little Prince\" imparts valuable lessons that resonate deeply with readers today.\\n\\nAt the heart of the book lies the theme of meaningful connections, a concept that is increasingly crucial in today\\'s fast-paced and digitally driven world. The little prince\\'s interactions with characters like the fox underscore the significance of forging genuine relationships based on understanding and empathy. As individuals grapple with virtual connections that often lack depth, the book serves as a poignant reminder to prioritize authentic human interactions and cherish moments of true connection.\\n\\nFurthermore, \"The Little Prince\" encourages readers to embrace a sense of wonder and curiosity in their approach to the world. The prince\\'s innocent perspective challenges the cynicism and disillusionment that can pervade adult life, urging individuals to rekindle their innate sense of curiosity and imagination. In an era defined by information overload and rapid technological advancements, the book\\'s message to view the world with fresh eyes offers a much-needed antidote to complacency and routine.\\n\\nThe novella also delves into themes of love, loss, and the intricacies of human nature, inviting readers to contemplate the complexities of their own experiences and emotions. Through the prince\\'s encounters with diverse characters, Saint-Exupéry highlights the universal aspects of human existence, fostering empathy and understanding among readers. In a world marked by division and discord, \"The Little Prince\" advocates for compassion, empathy, and a deeper appreciation of the shared humanity that unites us all.\\n\\nIn conclusion, \"The Little Prince\" endures as a powerful allegory that transcends time and resonates with audiences across generations. Its messages of cultivating meaningful connections, embracing wonder and curiosity, and approaching life with empathy and compassion are as relevant today as they were when the book was first published. By heeding the wisdom of the little prince, readers can navigate the complexities of modern life with a renewed sense of purpose, connection, and compassion. As Saint-Exupéry\\'s timeless tale reminds us, what is essential is often invisible to the eye, and it is through the heart that we truly see.', response_metadata={'token_usage': {'completion_tokens': 491, 'prompt_tokens': 907, 'total_tokens': 1398}, 'model_name': 'gpt-3.5-turbo', 'system_fingerprint': None, 'finish_reason': 'stop', 'logprobs': None}, id='run-03867de5-03bb-4ed3-9ee8-f62cc70ba1ab-0', usage_metadata={'input_tokens': 907, 'output_tokens': 491, 'total_tokens': 1398})}\n",
      "---\n",
      "{'reflect': HumanMessage(content='Your essay on the topicality of \"The Little Prince\" and its message in modern life is well-structured and effectively conveys the enduring relevance of the novella\\'s themes. Here are some suggestions to enhance your essay further:\\n\\n1. **Engaging Introduction**: Consider starting your essay with a captivating hook that draws the reader in. You could use a compelling quote from the book or provide a brief anecdote that sets the stage for discussing the themes of \"The Little Prince\" in modern society.\\n\\n2. **Thesis Statement**: While you touch upon the central themes of the book, consider refining your thesis statement to clearly articulate the main argument or insight you aim to convey in your essay. This will provide a concise roadmap for your analysis.\\n\\n3. **Depth of Analysis**: Expand on your analysis by providing more specific examples from the text to illustrate each theme. Delve deeper into how these examples resonate with contemporary issues or experiences in modern life to strengthen your arguments.\\n\\n4. **Connection to Modern Society**: While you discuss the relevance of the book\\'s themes in today\\'s world, consider incorporating more specific examples or statistics that highlight the contemporary challenges or trends that align with the messages of \"The Little Prince.\" This will reinforce the relevance of the novella\\'s lessons in the present day.\\n\\n5. **Personal Insight**: To add a personal touch to your essay, consider sharing your own reflections on how the themes of the book have impacted your understanding of relationships, curiosity, or empathy in your own life. This can make your analysis more relatable and engaging for readers.\\n\\n6. **Language and Style**: Your essay is well-written, but you can enhance it by varying your sentence structures and using descriptive language to evoke a deeper emotional connection with the themes of the book. Consider incorporating literary devices such as metaphors or similes to enrich your analysis.\\n\\n7. **Conclusion**: Your conclusion effectively summarizes the key points discussed in the essay. You could further strengthen it by offering a thought-provoking insight or a call to action for readers to reflect on the importance of the book\\'s messages in their own lives.\\n\\nBy incorporating these recommendations, you can further elevate your essay on the enduring relevance of \"The Little Prince\" in modern society. Keep refining your analysis and insights to offer a compelling exploration of the timeless themes and messages of this beloved novella.')}\n",
      "---\n",
      "{'generate': AIMessage(content='\"The Little Prince\" by Antoine de Saint-Exupéry continues to enchant readers with its timeless themes and profound messages that resonate deeply in modern society. Written amidst the turmoil of World War II, the novella transcends its historical backdrop to offer universal insights into human relationships, the complexities of existence, and the importance of nurturing a childlike perspective in navigating life\\'s challenges. Through its allegorical narrative, \"The Little Prince\" imparts enduring lessons that provoke introspection and reflection in readers of all ages.\\n\\nOpening with the iconic line, \"All grown-ups were once children... but only few of them remember it,\" Saint-Exupéry sets the stage for a narrative that underscores the significance of maintaining a sense of wonder and curiosity in the face of adversity. In today\\'s fast-paced and technology-driven world, where distractions abound and cynicism can overshadow innocence, the little prince\\'s unwavering curiosity serves as a poignant reminder to approach life with a fresh perspective and an open heart.\\n\\nCentral to the novella is the theme of meaningful connections, exemplified through the prince\\'s poignant interactions with characters like the fox. The fox\\'s wisdom that \"One sees clearly only with the heart\" encapsulates the essence of forging genuine relationships based on empathy and understanding. In an era where virtual connections often lack depth and authenticity, \"The Little Prince\" advocates for the cultivation of deep, heartfelt connections that transcend superficiality and resonate on a soulful level.\\n\\nMoreover, the novella delves into the complexities of human nature, exploring themes of love, loss, and the transient nature of relationships. Through the prince\\'s encounters with various characters inhabiting different planets, Saint-Exupéry illuminates the multifaceted aspects of human emotions and experiences. In a society marked by increasing polarization and disconnection, the book\\'s message of compassion, empathy, and the universal human experience serves as a beacon of hope and understanding.\\n\\nIn conclusion, \"The Little Prince\" endures as a timeless masterpiece that offers profound insights into the human condition and the enduring power of love, empathy, and connection. As readers navigate the complexities of modern life, Saint-Exupéry\\'s allegorical tale serves as a guiding light, reminding us to cherish the innocence of childhood, cultivate meaningful relationships, and approach the world with a compassionate heart. By embracing the wisdom of the little prince, we can strive to lead more fulfilling, empathetic lives and foster a deeper appreciation for the beauty and complexity of the human experience.', response_metadata={'token_usage': {'completion_tokens': 502, 'prompt_tokens': 1876, 'total_tokens': 2378}, 'model_name': 'gpt-3.5-turbo', 'system_fingerprint': None, 'finish_reason': 'stop', 'logprobs': None}, id='run-cf7a02e5-e7c4-4148-a032-aa208a014723-0', usage_metadata={'input_tokens': 1876, 'output_tokens': 502, 'total_tokens': 2378})}\n",
      "---\n",
      "{'reflect': HumanMessage(content='Your essay on the relevance of \"The Little Prince\" in modern society effectively captures the timeless themes and messages of the novella. Here are some suggestions to further enhance your essay:\\n\\n1. **In-depth Analysis**: While you touch upon the themes of maintaining a childlike perspective and fostering meaningful connections, consider elaborating on how these themes manifest in contemporary society. Provide specific examples or anecdotes that illustrate how individuals today can apply the lessons from \"The Little Prince\" in their own lives.\\n\\n2. **Contemporary Relevance**: To strengthen the connection between the novella and modern life, consider discussing current societal challenges or trends that align with the messages of the book. This can help readers see the direct relevance of the themes to their own experiences and the world around them.\\n\\n3. **Comparative Analysis**: You could explore how the themes of \"The Little Prince\" contrast with prevalent attitudes or behaviors in today\\'s society. By juxtaposing the book\\'s messages with contemporary norms, you can highlight the significance of the novella\\'s teachings in challenging or complementing modern perspectives.\\n\\n4. **Literary Devices**: Incorporating more literary devices such as metaphors, imagery, or symbolism can enhance the depth and richness of your analysis. Consider exploring how Saint-Exupéry uses language and symbolism to convey deeper meanings and provoke emotional responses in readers.\\n\\n5. **Personal Reflection**: Integrate personal reflections or experiences that relate to the themes of the book. Sharing your own insights or anecdotes can add a personal dimension to your essay and create a stronger connection with the reader.\\n\\n6. **Concluding Statement**: Consider concluding your essay with a thought-provoking insight or a call to action that encourages readers to reflect on the book\\'s messages and apply them in their daily lives. This can leave a lasting impression and prompt further contemplation.\\n\\n7. **Proofreading**: Ensure that your essay is free of any grammatical or typographical errors. Proofread carefully to maintain a polished and professional tone throughout the essay.\\n\\nBy incorporating these suggestions, you can further enrich your essay on the enduring relevance of \"The Little Prince\" in modern society. Continually refine your analysis and insights to offer a comprehensive exploration of the book\\'s profound themes and their significance in contemporary life.')}\n",
      "---\n",
      "{'generate': AIMessage(content='\"The Little Prince\" by Antoine de Saint-Exupéry continues to captivate readers with its timeless themes and profound messages that hold significant relevance in modern society. As individuals navigate the complexities of contemporary life, the novella\\'s teachings on maintaining a childlike perspective, fostering genuine connections, and embracing empathy resonate deeply, offering valuable insights for navigating the challenges of the present day.\\n\\nIn today\\'s fast-paced and technology-driven world, where cynicism and routine often overshadow wonder and curiosity, the little prince\\'s unwavering sense of curiosity serves as a powerful reminder to approach life with fresh eyes and an open heart. Saint-Exupéry\\'s exploration of the importance of maintaining a childlike perspective encourages readers to embrace a sense of wonder in their daily experiences, fostering creativity, resilience, and a deeper appreciation for the beauty of the world around them.\\n\\nCentral to the novella is the theme of meaningful connections, exemplified through the prince\\'s interactions with characters like the fox. The fox\\'s poignant lesson on taming and the heart\\'s ability to see beyond the surface underscores the significance of cultivating authentic relationships based on understanding and empathy. In an era where superficial connections often dominate, \"The Little Prince\" advocates for the nurturing of deep, heartfelt connections that transcend barriers and enrich the human experience.\\n\\nMoreover, the novella delves into the complexities of human nature, exploring themes of love, loss, and the transient nature of relationships. Through the prince\\'s encounters with diverse characters, Saint-Exupéry illuminates the multifaceted aspects of human emotions and experiences, fostering empathy and understanding among readers. In a society marked by division and discord, the book\\'s message of compassion and the shared humanity that unites us all serves as a beacon of hope and unity in a fragmented world.\\n\\nBy juxtaposing the timeless themes of \"The Little Prince\" with contemporary societal norms and challenges, readers are encouraged to reflect on the enduring relevance of Saint-Exupéry\\'s allegorical tale. In a world that often values speed over depth and material possessions over genuine connections, the book\\'s teachings on maintaining wonder, fostering empathy, and cherishing meaningful relationships offer a guiding light for individuals seeking purpose, connection, and fulfillment in the modern age. As Saint-Exupéry reminds us, what is essential is often invisible to the eye, and it is through the heart that we truly see and understand the profound beauty of life and human connection.', response_metadata={'token_usage': {'completion_tokens': 490, 'prompt_tokens': 2837, 'total_tokens': 3327}, 'model_name': 'gpt-3.5-turbo', 'system_fingerprint': None, 'finish_reason': 'stop', 'logprobs': None}, id='run-622a46b4-2a92-40e5-a3da-e64e7f4629cd-0', usage_metadata={'input_tokens': 2837, 'output_tokens': 490, 'total_tokens': 3327})}\n",
      "---\n"
     ]
    }
   ],
   "source": [
    "async for event in graph.astream(\n",
    "    [\n",
    "        HumanMessage(\n",
    "            content=\"Generate an essay on the topicality of The Little Prince and its message in modern life\"\n",
    "        )\n",
    "    ],\n",
    "):\n",
    "    print(event)\n",
    "    print(\"---\")"
   ]
  },
  {
   "cell_type": "code",
   "execution_count": 12,
   "metadata": {},
   "outputs": [
    {
     "ename": "KeyError",
     "evalue": "'__end__'",
     "output_type": "error",
     "traceback": [
      "\u001b[1;31m---------------------------------------------------------------------------\u001b[0m",
      "\u001b[1;31mKeyError\u001b[0m                                  Traceback (most recent call last)",
      "Cell \u001b[1;32mIn[12], line 1\u001b[0m\n\u001b[1;32m----> 1\u001b[0m ChatPromptTemplate\u001b[38;5;241m.\u001b[39mfrom_messages(\u001b[43mevent\u001b[49m\u001b[43m[\u001b[49m\u001b[43mEND\u001b[49m\u001b[43m]\u001b[49m)\u001b[38;5;241m.\u001b[39mpretty_print()\n",
      "\u001b[1;31mKeyError\u001b[0m: '__end__'"
     ]
    }
   ],
   "source": [
    "ChatPromptTemplate.from_messages(event[END]).pretty_print()"
   ]
  },
  {
   "cell_type": "code",
   "execution_count": null,
   "metadata": {},
   "outputs": [],
   "source": []
  }
 ],
 "metadata": {
  "kernelspec": {
   "display_name": "Python 3",
   "language": "python",
   "name": "python3"
  },
  "language_info": {
   "codemirror_mode": {
    "name": "ipython",
    "version": 3
   },
   "file_extension": ".py",
   "mimetype": "text/x-python",
   "name": "python",
   "nbconvert_exporter": "python",
   "pygments_lexer": "ipython3",
   "version": "3.10.0"
  }
 },
 "nbformat": 4,
 "nbformat_minor": 2
}
