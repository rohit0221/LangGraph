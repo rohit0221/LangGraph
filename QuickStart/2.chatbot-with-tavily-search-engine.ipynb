{
 "cells": [
  {
   "cell_type": "code",
   "execution_count": 1,
   "metadata": {},
   "outputs": [],
   "source": [
    "from dotenv import load_dotenv\n",
    "import os\n",
    "load_dotenv()\n",
    "from langchain_openai import ChatOpenAI\n",
    "llm = ChatOpenAI(model=\"gpt-4o-mini\")"
   ]
  },
  {
   "cell_type": "code",
   "execution_count": 2,
   "metadata": {},
   "outputs": [
    {
     "data": {
      "text/plain": [
       "[{'url': 'https://langchain-ai.github.io/langgraph/concepts/low_level/',\n",
       "  'content': 'Nodes¶ In LangGraph, nodes are typically python functions (sync or async) where the first positional argument is the state, and (optionally), the second positional argument is a \"config\", containing optional configurable parameters (such as a thread_id). Similar to NetworkX, you add these nodes to a graph using the add_node method:'},\n",
       " {'url': 'https://medium.com/@kbdhunga/beginners-guide-to-langgraph-understanding-state-nodes-and-edges-part-1-897e6114fa48',\n",
       "  'content': 'Each node in a LangGraph graph has the ability to access, read, and write to the state. When a node modifies the state, it effectively broadcasts this information to all other nodes within the ...'}]"
      ]
     },
     "execution_count": 2,
     "metadata": {},
     "output_type": "execute_result"
    }
   ],
   "source": [
    "# Create the tools\n",
    " \n",
    "from langchain_community.tools.tavily_search import TavilySearchResults\n",
    "\n",
    "tool = TavilySearchResults(max_results=2)\n",
    "tools = [tool]\n",
    "tool.invoke(\"What's a 'node' in LangGraph?\")"
   ]
  },
  {
   "cell_type": "code",
   "execution_count": 3,
   "metadata": {},
   "outputs": [],
   "source": [
    "llm_with_tools = llm.bind_tools(tools)\n",
    "llm= llm_with_tools"
   ]
  },
  {
   "cell_type": "code",
   "execution_count": 4,
   "metadata": {},
   "outputs": [],
   "source": [
    "from typing import Annotated\n",
    "from typing_extensions import TypedDict\n",
    "from langgraph.graph import StateGraph, START\n",
    "from langgraph.graph.message import add_messages"
   ]
  },
  {
   "cell_type": "code",
   "execution_count": 5,
   "metadata": {},
   "outputs": [],
   "source": [
    "class State(TypedDict):\n",
    "    messages: Annotated[list, add_messages]"
   ]
  },
  {
   "cell_type": "code",
   "execution_count": 6,
   "metadata": {},
   "outputs": [],
   "source": [
    "graph_builder = StateGraph(State)"
   ]
  },
  {
   "cell_type": "code",
   "execution_count": 7,
   "metadata": {},
   "outputs": [],
   "source": [
    "def chatbot(state: State):\n",
    "    return {\"messages\": [llm.invoke(state[\"messages\"])]}"
   ]
  },
  {
   "cell_type": "code",
   "execution_count": 8,
   "metadata": {},
   "outputs": [],
   "source": [
    "import json\n",
    "\n",
    "from langchain_core.messages import ToolMessage\n",
    "\n",
    "class BasicToolNode:\n",
    "    \"\"\"A node that runs the tools requested in the last AIMessage.\"\"\"\n",
    "\n",
    "    def __init__(self, tools: list) -> None:\n",
    "        self.tools_by_name = {tool.name: tool for tool in tools}\n",
    "\n",
    "    def __call__(self, inputs: dict):\n",
    "        if messages := inputs.get(\"messages\", []):\n",
    "            message = messages[-1]\n",
    "        else:\n",
    "            raise ValueError(\"No message found in input\")\n",
    "        outputs = []\n",
    "        for tool_call in message.tool_calls:\n",
    "            tool_result = self.tools_by_name[tool_call[\"name\"]].invoke(\n",
    "                tool_call[\"args\"]\n",
    "            )\n",
    "            outputs.append(\n",
    "                ToolMessage(\n",
    "                    content=json.dumps(tool_result),\n",
    "                    name=tool_call[\"name\"],\n",
    "                    tool_call_id=tool_call[\"id\"],\n",
    "                )\n",
    "            )\n",
    "        return {\"messages\": outputs}"
   ]
  },
  {
   "cell_type": "code",
   "execution_count": 9,
   "metadata": {},
   "outputs": [],
   "source": [
    "# from langgraph.prebuilt import ToolNode, tools_condition\n",
    "\n",
    "tool_node = BasicToolNode(tools=[tool])"
   ]
  },
  {
   "cell_type": "code",
   "execution_count": null,
   "metadata": {},
   "outputs": [],
   "source": []
  },
  {
   "cell_type": "code",
   "execution_count": 10,
   "metadata": {},
   "outputs": [],
   "source": [
    "from typing import Literal\n",
    "\n",
    "def route_tools(\n",
    "    state: State,\n",
    ") -> Literal[\"tools\", \"__end__\"]:\n",
    "    \"\"\"\n",
    "    Use in the conditional_edge to route to the ToolNode if the last message\n",
    "    has tool calls. Otherwise, route to the end.\n",
    "    \"\"\"\n",
    "    if isinstance(state, list):\n",
    "        ai_message = state[-1]\n",
    "    elif messages := state.get(\"messages\", []):\n",
    "        ai_message = messages[-1]\n",
    "    else:\n",
    "        raise ValueError(f\"No messages found in input state to tool_edge: {state}\")\n",
    "    if hasattr(ai_message, \"tool_calls\") and len(ai_message.tool_calls) > 0:\n",
    "        return \"tools\"\n",
    "    return \"__end__\""
   ]
  },
  {
   "cell_type": "code",
   "execution_count": 12,
   "metadata": {},
   "outputs": [],
   "source": [
    "graph_builder.set_entry_point(\"chatbot\")"
   ]
  },
  {
   "cell_type": "code",
   "execution_count": 11,
   "metadata": {},
   "outputs": [],
   "source": [
    "graph_builder.add_node(\"chatbot\", chatbot)\n",
    "graph_builder.add_node(\"tools\", tool_node)"
   ]
  },
  {
   "cell_type": "code",
   "execution_count": 13,
   "metadata": {},
   "outputs": [],
   "source": [
    "graph_builder.add_edge(\"tools\", \"chatbot\")"
   ]
  },
  {
   "cell_type": "code",
   "execution_count": 14,
   "metadata": {},
   "outputs": [],
   "source": [
    "graph_builder.add_conditional_edges(\n",
    "    \"chatbot\",\n",
    "    route_tools,\n",
    "    # The following dictionary lets you tell the graph to interpret the condition's outputs as a specific node\n",
    "    # It defaults to the identity function, but if you\n",
    "    # want to use a node named something else apart from \"tools\",\n",
    "    # You can update the value of the dictionary to something else\n",
    "    # e.g., \"tools\": \"my_tools\"\n",
    "    {\"tools\": \"tools\", \"__end__\": \"__end__\"},\n",
    ")"
   ]
  },
  {
   "cell_type": "code",
   "execution_count": 15,
   "metadata": {},
   "outputs": [],
   "source": [
    "graph = graph_builder.compile()"
   ]
  },
  {
   "cell_type": "code",
   "execution_count": 16,
   "metadata": {},
   "outputs": [
    {
     "data": {
      "image/jpeg": "[encoded data removed]",
      "text/plain": [
       "<IPython.core.display.Image object>"
      ]
     },
     "metadata": {},
     "output_type": "display_data"
    }
   ],
   "source": [
    "from IPython.display import Image, display\n",
    "\n",
    "try:\n",
    "    display(Image(graph.get_graph().draw_mermaid_png()))\n",
    "except Exception:\n",
    "    # This requires some extra dependencies and is optional\n",
    "    pass"
   ]
  },
  {
   "cell_type": "code",
   "execution_count": 17,
   "metadata": {},
   "outputs": [
    {
     "name": "stdout",
     "output_type": "stream",
     "text": [
      "Assistant: \n",
      "Assistant: [{\"url\": \"https://www.wsj.com/market-data/quotes/TSLA\", \"content\": \"The Wall Street Journal\\nTesla Inc.\\nNewsTesla Inc.TSLA\\nKey Stock Data\\nShort Interest (11/15/23)\\nStock Money Flow\\nN/A\\nResearch & Ratings\\nTesla Inc.(TSLA)\\nPer-Share Earnings, Actuals and Estimates\\nFinancials\\nTesla Inc.(TSLA)\\nCOMPETITORS (TSLA)\\nPROFILE (TSLA)\\nTesla, Inc. engages in the design, development, manufacture, and sale of fully electric vehicles and energy generation and storage systems. FactSet (a) does not make any express or implied warranties of any kind regarding the data, including, without limitation, any warranty of merchantability or fitness for a particular purpose or use; and (b) shall not be liable for any errors, incompleteness, interruption or delay, action taken in reliance on any data, or for any damages resulting therefrom. Change value during the period between open outcry settle and the commencement of the next day's trading is calculated as the difference between the last trade and the prior day's settle. Mutual Funds & ETFs: All of the mutual fund and ETF information contained in this display, with the exception of the current price and price history, was supplied by Lipper, A Refinitiv Company, subject to the following: Copyright 2019\\u00a9 Refinitiv. Source: Kantar Media\\nWSJ Membership\\nCustomer Service\\nTools & Features\\nAds\\nMore\\nDow Jones Products\"}, {\"url\": \"https://finance.yahoo.com/quote/TSLA/\", \"content\": \"Get the latest Tesla, Inc. (TSLA) stock price, news, quote and history on Yahoo Finance. See the market performance, earnings, dividends, analysis, options and more for the electric vehicle and energy company.\"}]\n",
      "Assistant: You can find the latest Tesla, Inc. (TSLA) stock price on financial news websites like [Yahoo Finance](https://finance.yahoo.com/quote/TSLA/) or [The Wall Street Journal](https://www.wsj.com/market-data/quotes/TSLA). Please visit these links for the most current information on Tesla's stock price and market performance.\n",
      "Goodbye!\n"
     ]
    }
   ],
   "source": [
    "from langchain_core.messages import BaseMessage\n",
    "\n",
    "while True:\n",
    "    user_input = input(\"User: \")\n",
    "    if user_input.lower() in [\"quit\", \"exit\", \"q\"]:\n",
    "        print(\"Goodbye!\")\n",
    "        break\n",
    "    for event in graph.stream({\"messages\": [(\"user\", user_input)]}):\n",
    "        for value in event.values():\n",
    "            if isinstance(value[\"messages\"][-1], BaseMessage):\n",
    "                print(\"Assistant:\", value[\"messages\"][-1].content)"
   ]
  },
  {
   "cell_type": "code",
   "execution_count": 19,
   "metadata": {},
   "outputs": [
    {
     "name": "stdout",
     "output_type": "stream",
     "text": [
      "Assistant: \n",
      "Assistant: [{\"url\": \"https://www.theverge.com/2023/10/18/23923048/tesla-cybertruck-ev-pickup-delivery-date-november-30\", \"content\": \"Update October 18th, 2023 6:00PM ET: Added new production targets from Tesla earnings call and quotes from Musk.\\nBritish monarchy rocked by bad Photoshop job\\nHow to watch the 2024 Academy Awards\\nThe perfect music streaming app does not exist\\nLogitech\\u2019s best gaming mouse just got better\\nThe Super Mario Bros. Movie sequel is coming in 2026\\nVerge Deals\\n/ Sign up for Verge Deals to get deals on products we've tested sent to your inbox daily.\\n Elon Musk says \\u2018we dug our own grave with Cybertruck,\\u2019 offers new delivery date\\nElon Musk says \\u2018we dug our own grave with Cybertruck,\\u2019 offers new delivery date\\nTesla\\u2019s first pickup deliveries will take place November 30th at Gigafactory Texas, as Musk tries to temper expectations.\\n Since its original announcement, other automakers have caught up, releasing their own electric pickup trucks, including Ford with the F-150 Lightning and Rivian with the R1T. Cybertruck still commands widespread interest regardless of its delays and its humongous windshield wiper that still seems unreal that it might make it to the final design.\\n More from this stream Tesla Cybertruck: all the news about Elon Musk\\u2019s futuristic pickup truck\\nWant to know what the Cybertruck can do to carrots and hot dogs?\\n By\\nUmar Shakir, a news writer fond of the electric vehicle lifestyle and things that plug in via USB-C. He spent over 15 years in IT support before joining The Verge.\\n\"}, {\"url\": \"https://ir.tesla.com/press-release/tesla-vehicle-production-deliveries-and-date-financial-results-webcast-third-quarter-2023\", \"content\": \"Tesla will post its financial results for the third quarter of 2023 after market close on Wednesday, October 18, 2023. At that time, Tesla will issue a brief advisory containing a link to the Q3 2023 update, which will be available on Tesla's Investor Relations website. Tesla management will hold a live question and answer webcast that day at ...\"}]\n",
      "Assistant: Here are some recent updates about Tesla as of October 2023:\n",
      "\n",
      "1. **Cybertruck Delivery Date**: Tesla's first Cybertruck deliveries are scheduled for November 30, 2023, at Gigafactory Texas. Elon Musk acknowledged the challenges faced in bringing the Cybertruck to market, stating, \"we dug our own grave with Cybertruck,\" as he tries to manage expectations amidst competition from other electric pickups like the Ford F-150 Lightning and Rivian R1T. Despite delays, there remains significant interest in the Cybertruck, which features a unique design, including a notably large windshield wiper. [Read more here](https://www.theverge.com/2023/10/18/23923048/tesla-cybertruck-ev-pickup-delivery-date-november-30).\n",
      "\n",
      "2. **Third Quarter Financial Results**: Tesla announced that it will release its financial results for the third quarter of 2023 after market close on October 18, 2023. Following the release, Tesla management will hold a live question and answer session regarding the financial update. [More details can be found here](https://ir.tesla.com/press-release/tesla-vehicle-production-deliveries-and-date-financial-results-webcast-third-quarter-2023).\n",
      "\n",
      "These updates highlight Tesla's ongoing developments in both product launches and financial disclosures.\n",
      "Goodbye!\n"
     ]
    }
   ],
   "source": [
    "while True:\n",
    "    user_input = input(\"User: \")\n",
    "    if user_input.lower() in [\"quit\", \"exit\", \"q\"]:\n",
    "        print(\"Goodbye!\")\n",
    "        break\n",
    "    for event in graph.stream({\"messages\": (\"user\", user_input)}):\n",
    "        for value in event.values():\n",
    "            print(\"Assistant:\", value[\"messages\"][-1].content)"
   ]
  },
  {
   "cell_type": "code",
   "execution_count": 21,
   "metadata": {},
   "outputs": [
    {
     "name": "stdout",
     "output_type": "stream",
     "text": [
      "==================================\u001b[1m Ai Message \u001b[0m==================================\n",
      "Tool Calls:\n",
      "  tavily_search_results_json (call_VgnPy9aUkKGPKFeUPjMGPC3q)\n",
      " Call ID: call_VgnPy9aUkKGPKFeUPjMGPC3q\n",
      "  Args:\n",
      "    query: Tesla news 2023\n",
      "Assistant: None\n",
      "=================================\u001b[1m Tool Message \u001b[0m=================================\n",
      "Name: tavily_search_results_json\n",
      "\n",
      "[{\"url\": \"https://www.theverge.com/2023/3/1/23620222/tesla-elon-musk-master-plan-cybertruck-investor-day\", \"content\": \"More from this stream Tesla Investor Day 2023: all the news and announcements from Elon Musk's next 'Master Plan' event. Green light. Mar 2, 2023, 1:48 PM UTC.\"}, {\"url\": \"https://www.reuters.com/technology/gigacasting-20-tesla-reinvents-carmaking-with-quiet-breakthrough-2023-09-14/\", \"content\": \"Item 1 of 2 A general view of the Tesla gigafactory in Austin, Texas, U.S., February 28, 2023. REUTERS/Go Nakamura/File Photo ... the people said Tesla would need new bigger gigapresses with ...\"}]\n",
      "Assistant: None\n",
      "==================================\u001b[1m Ai Message \u001b[0m==================================\n",
      "\n",
      "Here are some recent news articles about Tesla in 2023:\n",
      "\n",
      "1. **Tesla Investor Day 2023**: This event included announcements from Elon Musk regarding the next 'Master Plan' for Tesla. The coverage can be found [here](https://www.theverge.com/2023/3/1/23620222/tesla-elon-musk-master-plan-cybertruck-investor-day) (published on March 2, 2023).\n",
      "\n",
      "2. **Gigacasting Innovations**: An article discusses how Tesla is reinventing car manufacturing with its advancements in gigacasting technology. More details can be read [here](https://www.reuters.com/technology/gigacasting-20-tesla-reinvents-carmaking-with-quiet-breakthrough-2023-09-14/) (published on September 14, 2023). \n",
      "\n",
      "If you're looking for more specific information or updates, let me know!\n",
      "Assistant: None\n",
      "==================================\u001b[1m Ai Message \u001b[0m==================================\n",
      "\n",
      "Hello! How can I assist you today?\n",
      "Assistant: None\n",
      "==================================\u001b[1m Ai Message \u001b[0m==================================\n",
      "\n",
      "Life is a complex and multifaceted concept that encompasses biological, philosophical, and existential dimensions. Here are some key aspects:\n",
      "\n",
      "1. **Biological Perspective**: \n",
      "   - Life is characterized by the ability to grow, reproduce, maintain homeostasis, respond to stimuli, and adapt to the environment. Organisms are classified into various life forms, including plants, animals, fungi, and microorganisms.\n",
      "\n",
      "2. **Philosophical Perspective**: \n",
      "   - Philosophers have long pondered the meaning and purpose of life. Different cultures and religions offer varied interpretations, including existentialism, which emphasizes individual experience and choice, and religious views that may see life as a journey towards a higher purpose.\n",
      "\n",
      "3. **Psychological Perspective**:\n",
      "   - Human life is often studied through the lens of psychology, exploring emotions, relationships, motivations, and mental health. The quest for happiness, fulfillment, and understanding oneself is a significant part of the human experience.\n",
      "\n",
      "4. **Sociocultural Perspective**:\n",
      "   - Life is also shaped by social and cultural factors, including family dynamics, societal norms, traditions, and cultural heritage. These factors influence how individuals perceive their roles in society and their interactions with others.\n",
      "\n",
      "5. **Ecological Perspective**:\n",
      "   - Life exists within ecosystems, and all living organisms are interconnected. The balance of life is maintained through complex relationships among species, including food webs, symbiosis, and competition.\n",
      "\n",
      "6. **Technological Impact**:\n",
      "   - Advancements in technology have significantly altered human life, affecting communication, work, education, and health. The digital age has transformed how people connect and share experiences.\n",
      "\n",
      "7. **Personal Experience**: \n",
      "   - Each individual's life is a unique journey, shaped by personal experiences, choices, and circumstances. Life is often viewed as a series of moments that contribute to one's identity and legacy.\n",
      "\n",
      "In summary, life is an intricate tapestry woven from biological, philosophical, psychological, sociocultural, ecological, and technological threads. Each person's interpretation and experience of life can differ widely, making it a deeply personal and universal topic.\n",
      "Assistant: None\n",
      "Goodbye!\n"
     ]
    }
   ],
   "source": [
    "while True:\n",
    "    user_input = input(\"User: \")\n",
    "    if user_input.lower() in [\"quit\", \"exit\", \"q\"]:\n",
    "        print(\"Goodbye!\")\n",
    "        break\n",
    "    for event in graph.stream({\"messages\": (\"user\", user_input)}):\n",
    "        for value in event.values():\n",
    "            print(\"Assistant:\", value[\"messages\"][-1].pretty_print())"
   ]
  },
  {
   "cell_type": "code",
   "execution_count": null,
   "metadata": {},
   "outputs": [],
   "source": [
    "user_input = \"Remember my name?\"\n",
    "events = graph.stream(\n",
    "    {\"messages\": [(\"user\", user_input)]}, config_2, stream_mode=\"values\"\n",
    ")\n",
    "for event in events:\n",
    "    event[\"messages\"][-1].pretty_print()"
   ]
  },
  {
   "cell_type": "code",
   "execution_count": null,
   "metadata": {},
   "outputs": [],
   "source": []
  },
  {
   "cell_type": "code",
   "execution_count": null,
   "metadata": {},
   "outputs": [],
   "source": []
  },
  {
   "cell_type": "code",
   "execution_count": null,
   "metadata": {},
   "outputs": [],
   "source": []
  },
  {
   "cell_type": "code",
   "execution_count": null,
   "metadata": {},
   "outputs": [],
   "source": []
  },
  {
   "cell_type": "code",
   "execution_count": null,
   "metadata": {},
   "outputs": [],
   "source": []
  },
  {
   "cell_type": "code",
   "execution_count": null,
   "metadata": {},
   "outputs": [],
   "source": []
  },
  {
   "cell_type": "code",
   "execution_count": null,
   "metadata": {},
   "outputs": [],
   "source": []
  },
  {
   "cell_type": "code",
   "execution_count": null,
   "metadata": {},
   "outputs": [],
   "source": []
  },
  {
   "cell_type": "code",
   "execution_count": null,
   "metadata": {},
   "outputs": [],
   "source": []
  },
  {
   "cell_type": "code",
   "execution_count": null,
   "metadata": {},
   "outputs": [],
   "source": []
  },
  {
   "cell_type": "code",
   "execution_count": null,
   "metadata": {},
   "outputs": [],
   "source": []
  },
  {
   "cell_type": "code",
   "execution_count": null,
   "metadata": {},
   "outputs": [],
   "source": []
  },
  {
   "cell_type": "code",
   "execution_count": null,
   "metadata": {},
   "outputs": [],
   "source": []
  },
  {
   "cell_type": "code",
   "execution_count": null,
   "metadata": {},
   "outputs": [],
   "source": []
  },
  {
   "cell_type": "code",
   "execution_count": null,
   "metadata": {},
   "outputs": [],
   "source": []
  },
  {
   "cell_type": "code",
   "execution_count": null,
   "metadata": {},
   "outputs": [],
   "source": []
  },
  {
   "cell_type": "code",
   "execution_count": null,
   "metadata": {},
   "outputs": [],
   "source": []
  },
  {
   "cell_type": "code",
   "execution_count": null,
   "metadata": {},
   "outputs": [],
   "source": []
  },
  {
   "cell_type": "code",
   "execution_count": null,
   "metadata": {},
   "outputs": [],
   "source": []
  },
  {
   "cell_type": "code",
   "execution_count": null,
   "metadata": {},
   "outputs": [],
   "source": []
  },
  {
   "cell_type": "code",
   "execution_count": null,
   "metadata": {},
   "outputs": [],
   "source": []
  },
  {
   "cell_type": "code",
   "execution_count": null,
   "metadata": {},
   "outputs": [],
   "source": []
  },
  {
   "cell_type": "code",
   "execution_count": null,
   "metadata": {},
   "outputs": [],
   "source": []
  },
  {
   "cell_type": "code",
   "execution_count": null,
   "metadata": {},
   "outputs": [],
   "source": []
  },
  {
   "cell_type": "code",
   "execution_count": null,
   "metadata": {},
   "outputs": [],
   "source": []
  },
  {
   "cell_type": "code",
   "execution_count": null,
   "metadata": {},
   "outputs": [],
   "source": []
  },
  {
   "cell_type": "code",
   "execution_count": null,
   "metadata": {},
   "outputs": [],
   "source": []
  }
 ],
 "metadata": {
  "kernelspec": {
   "display_name": "Python 3",
   "language": "python",
   "name": "python3"
  },
  "language_info": {
   "codemirror_mode": {
    "name": "ipython",
    "version": 3
   },
   "file_extension": ".py",
   "mimetype": "text/x-python",
   "name": "python",
   "nbconvert_exporter": "python",
   "pygments_lexer": "ipython3",
   "version": "3.10.0"
  }
 },
 "nbformat": 4,
 "nbformat_minor": 2
}
