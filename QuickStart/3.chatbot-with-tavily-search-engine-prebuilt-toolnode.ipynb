{
 "cells": [
  {
   "cell_type": "code",
   "execution_count": 1,
   "metadata": {},
   "outputs": [],
   "source": [
    "from dotenv import load_dotenv\n",
    "import os\n",
    "load_dotenv()\n",
    "from langchain_openai import ChatOpenAI\n",
    "llm = ChatOpenAI(model=\"gpt-4o-mini\")"
   ]
  },
  {
   "cell_type": "code",
   "execution_count": 2,
   "metadata": {},
   "outputs": [
    {
     "data": {
      "text/plain": [
       "[{'url': 'https://langchain-ai.github.io/langgraph/concepts/low_level/',\n",
       "  'content': 'Nodes¶ In LangGraph, nodes are typically python functions (sync or async) where the first positional argument is the state, and (optionally), the second positional argument is a \"config\", containing optional configurable parameters (such as a thread_id). Similar to NetworkX, you add these nodes to a graph using the add_node method:'},\n",
       " {'url': 'https://medium.com/@cplog/introduction-to-langgraph-a-beginners-guide-14f9be027141',\n",
       "  'content': 'Nodes: Nodes are the building blocks of your LangGraph. Each node represents a function or a computation step. You define nodes to perform specific tasks, such as processing input, making ...'}]"
      ]
     },
     "execution_count": 2,
     "metadata": {},
     "output_type": "execute_result"
    }
   ],
   "source": [
    "# Create the tools\n",
    " \n",
    "from langchain_community.tools.tavily_search import TavilySearchResults\n",
    "\n",
    "tool = TavilySearchResults(max_results=2)\n",
    "tools = [tool]\n",
    "tool.invoke(\"What's a 'node' in LangGraph?\")"
   ]
  },
  {
   "cell_type": "code",
   "execution_count": 3,
   "metadata": {},
   "outputs": [],
   "source": [
    "llm_with_tools = llm.bind_tools(tools)\n",
    "llm= llm_with_tools\n"
   ]
  },
  {
   "cell_type": "code",
   "execution_count": 4,
   "metadata": {},
   "outputs": [],
   "source": [
    "from typing import Annotated\n",
    "\n",
    "from typing_extensions import TypedDict\n",
    "\n",
    "from langgraph.graph import StateGraph\n",
    "from langgraph.graph.message import add_messages\n"
   ]
  },
  {
   "cell_type": "code",
   "execution_count": 5,
   "metadata": {},
   "outputs": [],
   "source": [
    "class State(TypedDict):\n",
    "    messages: Annotated[list, add_messages]"
   ]
  },
  {
   "cell_type": "code",
   "execution_count": 6,
   "metadata": {},
   "outputs": [],
   "source": [
    "graph_builder = StateGraph(State)"
   ]
  },
  {
   "cell_type": "code",
   "execution_count": 7,
   "metadata": {},
   "outputs": [],
   "source": [
    "def chatbot(state: State):\n",
    "    return {\"messages\": [llm.invoke(state[\"messages\"])]}"
   ]
  },
  {
   "cell_type": "code",
   "execution_count": 8,
   "metadata": {},
   "outputs": [],
   "source": [
    "from langgraph.prebuilt import ToolNode, tools_condition\n",
    "tool_node = ToolNode(tools=[tool])"
   ]
  },
  {
   "cell_type": "code",
   "execution_count": 9,
   "metadata": {},
   "outputs": [],
   "source": [
    "graph_builder.add_node(\"chatbot\", chatbot)\n",
    "graph_builder.add_node(\"tools\", tool_node)\n",
    "graph_builder.add_conditional_edges(\n",
    "    \"chatbot\",\n",
    "    tools_condition,\n",
    ")\n",
    "graph_builder.add_edge(\"tools\", \"chatbot\")\n",
    "graph_builder.set_entry_point(\"chatbot\")\n"
   ]
  },
  {
   "cell_type": "code",
   "execution_count": 10,
   "metadata": {},
   "outputs": [],
   "source": [
    "graph = graph_builder.compile()"
   ]
  },
  {
   "cell_type": "code",
   "execution_count": 11,
   "metadata": {},
   "outputs": [
    {
     "data": {
      "image/jpeg": "[encoded data removed]",
      "text/plain": [
       "<IPython.core.display.Image object>"
      ]
     },
     "metadata": {},
     "output_type": "display_data"
    }
   ],
   "source": [
    "\n",
    "from IPython.display import Image, display\n",
    "\n",
    "try:\n",
    "    display(Image(graph.get_graph().draw_mermaid_png()))\n",
    "except Exception:\n",
    "    # This requires some extra dependencies and is optional\n",
    "    pass"
   ]
  },
  {
   "cell_type": "code",
   "execution_count": 12,
   "metadata": {},
   "outputs": [
    {
     "name": "stdout",
     "output_type": "stream",
     "text": [
      "Assistant: \n",
      "Assistant: HTTPError('400 Client Error: Bad Request for url: https://api.tavily.com/search')\n",
      "Assistant: It seems there was an issue with the search. Could you please provide more context or specify what you mean by \"dox\"? Are you looking for information on doxxing, a specific document, or something else?\n",
      "Assistant: \n",
      "Assistant: [{\"url\": \"https://www.apple.com/store\", \"content\": \"Important notice regarding the checkout receipt and monthly statement for Apple Card Monthly Installments (ACMI) purchases with this promotion: A purchase of an Eligible Product made when selecting ACMI (a 0% APR payment option available only in the U.S.) as the payment type at checkout will receive an instant credit equal to the cost of the Promotion Product (Apple Gift Card) deducted from the price of the Eligible Product at the time of purchase. \\u25ca Apple Card Monthly Installments (ACMI) is a 0% APR payment option that is only available if you select it at checkout in the U.S. for eligible Apple products purchased at Apple Store locations, apple.com (Opens in a new window), the Apple Store app, or by calling 1-800-MY-APPLE, and is subject to credit approval and credit limit. Footer\\nShop and Learn\\nApple Wallet\\nAccount\\nEntertainment\\nApple Store\\nFor Business\\nFor Education\\nFor Healthcare\\nFor Government\\nApple Values\\nAbout Apple\\nMore ways to shop: Find an Apple Store or other retailer near you. ACMI is a 0% APR payment option that is only available if you select it at checkout in the U.S. for eligible Apple products purchased at Apple Store locations, apple.com, the Apple Store app, or by calling 1-800-MY-APPLE, and is subject to credit approval and credit limit. The value of the Promotion Product (i.e., the value of the Apple Gift Card) will also be charged in a separate second ACMI installment plan for the same number of months as the discounted Eligible Product.\"}, {\"url\": \"https://www.apple.com/\", \"content\": \"Explore the latest products and services from Apple, including iPad Pro, iPhone 15, MacBook Air, and Apple Card. Shop online or find a store near you.\"}]\n",
      "Assistant: Here are some resources related to Apple:\n",
      "\n",
      "1. **Apple Store**: [Apple Store](https://www.apple.com/store) - This link provides information about purchasing Apple products, including special financing options like the Apple Card Monthly Installments (ACMI) for eligible products. \n",
      "\n",
      "2. **Apple Homepage**: [Apple](https://www.apple.com/) - Explore the latest products and services from Apple, including the iPad Pro, iPhone 15, MacBook Air, and more. You can shop online or find a store near you.\n",
      "Assistant: \n",
      "Assistant: [{\"url\": \"https://en.wikipedia.org/wiki/Alibaba_Group\", \"content\": \"In February 2011, controversy ensued when Alibaba's corporate office admitted that it had granted the mark of integrity of its \\\"China Gold Supplier\\\" program to more than 2,000 dealers that had subsequently defrauded buyers; the firm's share price dropped \\\"abruptly\\\" after the announcement.[118] A statement from the firm reported that Yan Limin, the general manager of Alibaba.com at the time, had been dismissed in March for \\\"misconduct\\\"; Phil Muncaster of UK's The Register additionally reported that \\\"a further 28 employees had been involved in dodgy dealings\\\".[119]\\nAs The Economist noted, the company's response has conflicting components: Alibaba's promulgated view that its corrective actions indicate its commitment to quality and integrity (where it contrasts itself with other scandal-associated Chinese business sectors), versus a damage control view suggesting that the subscription-driven, third-party verified \\\"China Gold Supplier\\\" program was endangered by diminished trust in its endorsement system, removing the incentive for global buyers to choose Alibaba as their business-to-business service, thus more broadly endangering Alibaba through impact on its brand and capabilities (the latter via the \\\"defenestration of senior people\\\").[118] The scandal was said to have placed the head of Alibaba Group, Jack Ma\\u2014who was described as having been furious over the scandal\\u2014in a position to personally fight to win back trust.[120]\\n The country's central bank, as well as three other regulators, confirmed in a separate statement that the affiliated Ant Group would also be summoned for discussions over \\\"competition and consumer rights\\\", where regulators instructed the company to return its focus to digital-payments.[54] People's Daily, the official newspaper of the Central Committee of the Chinese Communist Party, endorsed the investigation shortly after the announcement, claiming the investigation to be \\\"an important step in strengthening antimonopoly oversight in the internet sphere\\\".[55][56] As a result, from the antitrust probe, Alibaba lost nearly all of its stock-market gains in 2020, from $859 billion to $586 billion, by the end of December.[57] In December 2022, a state-owned enterprise of the China Internet Investment Fund, established by the Cyberspace Administration of China, took a 1 percent golden share investment in two Alibaba subsidiaries that control Youku and UCWeb.[70]\\nRestructuring[edit]\\nIn March 2023, Alibaba announced their \\u201c1+6+N\\u201d restructuring plan, which reorganized its business structure into six independently run entities: Cloud Intelligence Group, Taobao and Tmall Group, Cainiao Smart Logistics Network, Local Services group, Alibaba International Digital Commerce, and the Digital Media and Entertainment group.[71][72] Each business unit would have their own CEO and board of directors and be able to seek their own fundraising and market listings.[73] Under the new \\u201c1+6+N\\u201d structure, Alibaba also established a Capital Management Committee and a Compliance and Risk Committee.[74] In April 2014, Alibaba Group and UCWeb, a Chinese provider of mobile internet software technology and services, launched Shenma (\\u795e\\u9a6c), a mobile-only search engine, as part of a joint venture.[163][164] Later in June, the Alibaba Group acquired UCWeb, with an international product portfolio that includes a mobile browsing service (UC Browser), app and game distribution platforms (9Apps and 9Game), a mobile traffic platform (UC Union) and UC News that primarily caters to all types of news in the India market (as an aggregator) among others.[165][166][167][168][169][170] Alibaba's Y Projects Business Unit developed the Xuexi Qiangguo app, which is used to teach Xi Jinping Thought.[171]\\nIn October 2005, Alibaba Group formed a strategic partnership with Yahoo! and acquired Yahoo! The Wall Street Journal reported on 30 March that Jack Ma engineered this in talks with company CEO Daniel Zhang while he was overseas.[75]\\nIn September 2023, Cainiao Smart Logistics Network Ltd., the logistics arm of Alibaba Group, has filed for its Hong Kong initial public offering, potentially making it among the first of the Chinese e-commerce leader's units to go public.[76]\\nCompanies and affiliated entities[edit]\\nE-commerce and retail service platforms[edit]\\nIn 1999, Jack Ma launched the primary business of Alibaba, Alibaba.com, while working as an English teacher in Hangzhou.\"}, {\"url\": \"https://www.aliexpress.com/\", \"content\": \"AliExpress is a global online marketplace that offers millions of products in various categories at affordable prices. You can find deals on fashion, electronics, home, toys, and more with free shipping and coupon codes.\"}]\n",
      "Assistant: ### Overview of Alibaba\n",
      "\n",
      "1. **Alibaba Group**: Founded by Jack Ma in 1999, Alibaba Group is a multinational conglomerate specializing in e-commerce, retail, internet, and technology. The company has faced various controversies, including issues related to fraud within its China Gold Supplier program, which led to significant brand trust challenges and regulatory scrutiny. In March 2023, Alibaba announced a restructuring plan to operate six independent entities, each with its own management.\n",
      "\n",
      "   - **More Information**: [Alibaba Group on Wikipedia](https://en.wikipedia.org/wiki/Alibaba_Group)\n",
      "\n",
      "2. **AliExpress**: A global online marketplace owned by Alibaba, AliExpress provides a platform for consumers to purchase a vast array of products at competitive prices, including fashion, electronics, and home goods. It is known for offering free shipping and various promotional deals.\n",
      "\n",
      "   - **Shop Now**: [AliExpress](https://www.aliexpress.com/)\n",
      "\n",
      "If you have specific questions or need more details about Alibaba or its services, feel free to ask!\n",
      "Goodbye!\n"
     ]
    }
   ],
   "source": [
    "from langchain_core.messages import BaseMessage\n",
    "\n",
    "while True:\n",
    "    user_input = input(\"User: \")\n",
    "    if user_input.lower() in [\"quit\", \"exit\", \"q\"]:\n",
    "        print(\"Goodbye!\")\n",
    "        break\n",
    "    for event in graph.stream({\"messages\": [(\"user\", user_input)]}):\n",
    "        for value in event.values():\n",
    "            if isinstance(value[\"messages\"][-1], BaseMessage):\n",
    "                print(\"Assistant:\", value[\"messages\"][-1].content)"
   ]
  },
  {
   "cell_type": "code",
   "execution_count": null,
   "metadata": {},
   "outputs": [],
   "source": []
  },
  {
   "cell_type": "code",
   "execution_count": null,
   "metadata": {},
   "outputs": [],
   "source": []
  },
  {
   "cell_type": "code",
   "execution_count": null,
   "metadata": {},
   "outputs": [],
   "source": []
  },
  {
   "cell_type": "code",
   "execution_count": null,
   "metadata": {},
   "outputs": [],
   "source": []
  },
  {
   "cell_type": "code",
   "execution_count": null,
   "metadata": {},
   "outputs": [],
   "source": []
  },
  {
   "cell_type": "code",
   "execution_count": null,
   "metadata": {},
   "outputs": [],
   "source": []
  },
  {
   "cell_type": "code",
   "execution_count": null,
   "metadata": {},
   "outputs": [],
   "source": []
  },
  {
   "cell_type": "code",
   "execution_count": null,
   "metadata": {},
   "outputs": [],
   "source": []
  },
  {
   "cell_type": "code",
   "execution_count": null,
   "metadata": {},
   "outputs": [],
   "source": []
  },
  {
   "cell_type": "code",
   "execution_count": null,
   "metadata": {},
   "outputs": [],
   "source": []
  },
  {
   "cell_type": "code",
   "execution_count": null,
   "metadata": {},
   "outputs": [],
   "source": []
  },
  {
   "cell_type": "code",
   "execution_count": null,
   "metadata": {},
   "outputs": [],
   "source": []
  },
  {
   "cell_type": "code",
   "execution_count": null,
   "metadata": {},
   "outputs": [],
   "source": []
  },
  {
   "cell_type": "code",
   "execution_count": null,
   "metadata": {},
   "outputs": [],
   "source": []
  },
  {
   "cell_type": "code",
   "execution_count": null,
   "metadata": {},
   "outputs": [],
   "source": []
  },
  {
   "cell_type": "code",
   "execution_count": null,
   "metadata": {},
   "outputs": [],
   "source": []
  },
  {
   "cell_type": "code",
   "execution_count": null,
   "metadata": {},
   "outputs": [],
   "source": []
  },
  {
   "cell_type": "code",
   "execution_count": null,
   "metadata": {},
   "outputs": [],
   "source": []
  },
  {
   "cell_type": "code",
   "execution_count": null,
   "metadata": {},
   "outputs": [],
   "source": []
  },
  {
   "cell_type": "code",
   "execution_count": null,
   "metadata": {},
   "outputs": [],
   "source": []
  },
  {
   "cell_type": "code",
   "execution_count": null,
   "metadata": {},
   "outputs": [],
   "source": []
  },
  {
   "cell_type": "code",
   "execution_count": null,
   "metadata": {},
   "outputs": [],
   "source": []
  },
  {
   "cell_type": "code",
   "execution_count": null,
   "metadata": {},
   "outputs": [],
   "source": []
  },
  {
   "cell_type": "code",
   "execution_count": null,
   "metadata": {},
   "outputs": [],
   "source": []
  },
  {
   "cell_type": "code",
   "execution_count": null,
   "metadata": {},
   "outputs": [],
   "source": []
  },
  {
   "cell_type": "code",
   "execution_count": null,
   "metadata": {},
   "outputs": [],
   "source": []
  },
  {
   "cell_type": "code",
   "execution_count": null,
   "metadata": {},
   "outputs": [],
   "source": []
  },
  {
   "cell_type": "code",
   "execution_count": null,
   "metadata": {},
   "outputs": [],
   "source": []
  },
  {
   "cell_type": "code",
   "execution_count": null,
   "metadata": {},
   "outputs": [],
   "source": []
  },
  {
   "cell_type": "code",
   "execution_count": null,
   "metadata": {},
   "outputs": [],
   "source": []
  }
 ],
 "metadata": {
  "kernelspec": {
   "display_name": "Python 3",
   "language": "python",
   "name": "python3"
  },
  "language_info": {
   "codemirror_mode": {
    "name": "ipython",
    "version": 3
   },
   "file_extension": ".py",
   "mimetype": "text/x-python",
   "name": "python",
   "nbconvert_exporter": "python",
   "pygments_lexer": "ipython3",
   "version": "3.10.0"
  }
 },
 "nbformat": 4,
 "nbformat_minor": 2
}
