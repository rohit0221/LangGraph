{
 "cells": [
  {
   "cell_type": "code",
   "execution_count": 1,
   "metadata": {},
   "outputs": [],
   "source": [
    "from dotenv import load_dotenv\n",
    "import os\n",
    "load_dotenv()\n",
    "from langchain_openai import ChatOpenAI\n",
    "llm = ChatOpenAI(model=\"gpt-4o-mini\")\n"
   ]
  },
  {
   "cell_type": "code",
   "execution_count": 2,
   "metadata": {},
   "outputs": [],
   "source": [
    "from typing import Annotated\n",
    "\n",
    "from typing_extensions import TypedDict\n",
    "\n",
    "from langgraph.graph import StateGraph, START, END\n",
    "from langgraph.graph.message import add_messages\n"
   ]
  },
  {
   "cell_type": "markdown",
   "metadata": {},
   "source": [
    "# Add a State of the Graph\n",
    "\n",
    "The first thing you do when you define a graph is define the State of the graph. \n"
   ]
  },
  {
   "cell_type": "markdown",
   "metadata": {},
   "source": [
    "\n",
    "# What is State of Graph?\n",
    "\n",
    "The State consists of 2 things:\n",
    "1. The schema of the graph \n",
    "2. A reducer functions which specify how to apply updates to the state. \n"
   ]
  },
  {
   "cell_type": "markdown",
   "metadata": {},
   "source": [
    "\n",
    "# State definition in our example\n",
    "\n",
    "```State``` is a dictionary that inherits from ```TypedDict```.\n",
    "\n",
    "```messages``` is a key in that dictionary ```State```. \n",
    "\n",
    "The value for this key is a list and it uses \"Annotated\" type hint.\n",
    "The messages key is annotated with the add_messages reducer function.\n",
    "\n",
    "This annotation which tells LangGraph to append new messages to the existing list, rather than overwriting it. \n",
    "\n",
    "State keys without an annotation will be overwritten by each update, storing the most recent value. \n",
    "\n"
   ]
  },
  {
   "cell_type": "code",
   "execution_count": 3,
   "metadata": {},
   "outputs": [],
   "source": [
    "class State(TypedDict):\n",
    "    messages: Annotated[list, add_messages]"
   ]
  },
  {
   "cell_type": "markdown",
   "metadata": {},
   "source": [
    "# Way to understand the concept of State Update\n",
    "So basically when we say \"updating\" the ```State``` -> we essentially in this case means updating the list of messages in key ```messages```"
   ]
  },
  {
   "cell_type": "markdown",
   "metadata": {},
   "source": [
    "# Create the StateGraph instance\n",
    "\n",
    "create an instance of a StateGraph using the State class as its argument.\n",
    "\n"
   ]
  },
  {
   "cell_type": "code",
   "execution_count": 4,
   "metadata": {},
   "outputs": [],
   "source": [
    "graph_builder = StateGraph(State)"
   ]
  },
  {
   "cell_type": "markdown",
   "metadata": {},
   "source": [
    "# So now our graph knows two things:\n",
    "\n",
    "1. Every node we define will receive the current ```State``` as input and return a value that updates that state.\n",
    "2. Messages will be appended to the current list, rather than directly overwritten. \n",
    "3. This is communicated via the prebuilt ```add_messages``` function in the Annotated syntax."
   ]
  },
  {
   "cell_type": "markdown",
   "metadata": {},
   "source": [
    "# Add a \"chatbot\" node. \n",
    "\n",
    "\n",
    "Nodes represent units of work. They are typically regular python functions.\n",
    "\n",
    "\n",
    "This chatbot node function takes the current ```State``` as input and returns a dictionary containing an updated ```messages``` list under the key \"messages\".\n",
    "\n",
    "This is the basic pattern for all LangGraph node functions.\n",
    "\n",
    "The ```add_messages``` function in our ```State``` will append the llm's response messages to whatever messages are already in the state."
   ]
  },
  {
   "cell_type": "code",
   "execution_count": 5,
   "metadata": {},
   "outputs": [],
   "source": [
    "def chatbot(state: State):\n",
    "    return {\"messages\": [llm.invoke(state[\"messages\"])]}"
   ]
  },
  {
   "cell_type": "markdown",
   "metadata": {},
   "source": [
    "# Add the node to the graph"
   ]
  },
  {
   "cell_type": "code",
   "execution_count": 6,
   "metadata": {},
   "outputs": [],
   "source": [
    "graph_builder.add_node(\"chatbot\", chatbot)"
   ]
  },
  {
   "cell_type": "markdown",
   "metadata": {},
   "source": [
    "# Add an entry point. \n",
    "\n",
    "This tells our graph where to start its work each time we run it."
   ]
  },
  {
   "cell_type": "code",
   "execution_count": 7,
   "metadata": {},
   "outputs": [],
   "source": [
    "graph_builder.add_edge(START, \"chatbot\")"
   ]
  },
  {
   "cell_type": "markdown",
   "metadata": {},
   "source": [
    "\n",
    "# set a finish point. \n",
    "\n",
    "Similarly, set a finish point. This instructs the graph \"**any time this node is run, you can exit**.\""
   ]
  },
  {
   "cell_type": "code",
   "execution_count": 8,
   "metadata": {},
   "outputs": [],
   "source": [
    "graph_builder.add_edge(\"chatbot\", END)"
   ]
  },
  {
   "cell_type": "markdown",
   "metadata": {},
   "source": [
    "Finally, we'll want to be able to run our graph. To do so, call ```compile()``` on the graph builder. This creates a ```\"CompiledGraph\"``` we can use invoke on our state."
   ]
  },
  {
   "cell_type": "code",
   "execution_count": 9,
   "metadata": {},
   "outputs": [],
   "source": [
    "graph = graph_builder.compile()"
   ]
  },
  {
   "cell_type": "code",
   "execution_count": 10,
   "metadata": {},
   "outputs": [
    {
     "data": {
      "image/jpeg": "[encoded data removed]",
      "text/plain": [
       "<IPython.core.display.Image object>"
      ]
     },
     "metadata": {},
     "output_type": "display_data"
    }
   ],
   "source": [
    "from IPython.display import Image, display\n",
    "\n",
    "try:\n",
    "    display(Image(graph.get_graph().draw_mermaid_png()))\n",
    "except Exception:\n",
    "    # This requires some extra dependencies and is optional\n",
    "    pass"
   ]
  },
  {
   "cell_type": "markdown",
   "metadata": {},
   "source": [
    "# Invoke the graph"
   ]
  },
  {
   "cell_type": "code",
   "execution_count": 26,
   "metadata": {},
   "outputs": [],
   "source": [
    "user_input = \"Who is Elon Musk? Tell me in 10 words\""
   ]
  },
  {
   "cell_type": "code",
   "execution_count": 13,
   "metadata": {},
   "outputs": [],
   "source": [
    "response=graph.invoke({\"messages\": (\"user\", user_input)})"
   ]
  },
  {
   "cell_type": "markdown",
   "metadata": {},
   "source": [
    "# Note: The output of this grap again would be a state.\n",
    "\n",
    "A dictionary containing a key 'messages' with a value that is a list. The list contains the list of messages."
   ]
  },
  {
   "cell_type": "code",
   "execution_count": 14,
   "metadata": {},
   "outputs": [
    {
     "data": {
      "text/plain": [
       "{'messages': [HumanMessage(content='Who is Elon Musk? Tell me in 10 words', id='242babea-26a1-4abc-830f-9c9a3c2330cd'),\n",
       "  AIMessage(content='Elon Musk is a billionaire entrepreneur, CEO, and inventor.', additional_kwargs={'refusal': None}, response_metadata={'token_usage': {'completion_tokens': 13, 'prompt_tokens': 18, 'total_tokens': 31, 'completion_tokens_details': {'reasoning_tokens': 0}}, 'model_name': 'gpt-4o-mini-2024-07-18', 'system_fingerprint': 'fp_f85bea6784', 'finish_reason': 'stop', 'logprobs': None}, id='run-dd9a1cdf-01ea-413f-bfda-a4428073ad33-0', usage_metadata={'input_tokens': 18, 'output_tokens': 13, 'total_tokens': 31})]}"
      ]
     },
     "execution_count": 14,
     "metadata": {},
     "output_type": "execute_result"
    }
   ],
   "source": [
    "response"
   ]
  },
  {
   "cell_type": "code",
   "execution_count": 17,
   "metadata": {},
   "outputs": [
    {
     "data": {
      "text/plain": [
       "langgraph.pregel.io.AddableValuesDict"
      ]
     },
     "execution_count": 17,
     "metadata": {},
     "output_type": "execute_result"
    }
   ],
   "source": [
    "type(response)"
   ]
  },
  {
   "cell_type": "code",
   "execution_count": 18,
   "metadata": {},
   "outputs": [
    {
     "data": {
      "text/plain": [
       "'Elon Musk is a billionaire entrepreneur, CEO, and inventor.'"
      ]
     },
     "execution_count": 18,
     "metadata": {},
     "output_type": "execute_result"
    }
   ],
   "source": [
    "response[\"messages\"][1].content"
   ]
  },
  {
   "cell_type": "markdown",
   "metadata": {},
   "source": [
    "# Streaming"
   ]
  },
  {
   "cell_type": "code",
   "execution_count": 27,
   "metadata": {},
   "outputs": [],
   "source": [
    "stream_response=graph.stream({\"messages\": (\"user\", user_input)})"
   ]
  },
  {
   "cell_type": "code",
   "execution_count": 28,
   "metadata": {},
   "outputs": [
    {
     "data": {
      "text/plain": [
       "generator"
      ]
     },
     "execution_count": 28,
     "metadata": {},
     "output_type": "execute_result"
    }
   ],
   "source": [
    "type(stream_response)"
   ]
  },
  {
   "cell_type": "code",
   "execution_count": 30,
   "metadata": {},
   "outputs": [],
   "source": [
    "for event in stream_response:\n",
    "    print(type(event))\n",
    "\n",
    "    for value in event.values():\n",
    "        print(\"Assistant: \",value[\"messages\"][-1].content)"
   ]
  },
  {
   "cell_type": "markdown",
   "metadata": {},
   "source": [
    "# For streaming output in a loop"
   ]
  },
  {
   "cell_type": "code",
   "execution_count": 15,
   "metadata": {},
   "outputs": [],
   "source": [
    "def stream_graph_updates(user_input: str):\n",
    "    for event in graph.stream({\"messages\": [(\"user\", user_input)]}):\n",
    "        for value in event.values():\n",
    "            print(\"Assistant:\", value[\"messages\"][-1].content)"
   ]
  },
  {
   "cell_type": "code",
   "execution_count": 16,
   "metadata": {},
   "outputs": [
    {
     "name": "stdout",
     "output_type": "stream",
     "text": [
      "Assistant: Elon Musk is a prominent entrepreneur and business magnate known for his role in several high-profile technology companies. Born on June 28, 1971, in Pretoria, South Africa, he moved to the United States to attend the University of Pennsylvania, where he earned degrees in both physics and economics.\n",
      "\n",
      "Musk is best known as the CEO and lead designer of SpaceX, a private aerospace manufacturer and space transportation company he founded in 2002. SpaceX has gained significant attention for its ambitious goals, including reducing space transportation costs and enabling the colonization of Mars. The company has successfully developed the Falcon and Starship rockets, as well as the Dragon spacecraft.\n",
      "\n",
      "In addition to SpaceX, Musk is the CEO and product architect of Tesla, Inc., an electric vehicle and clean energy company he joined in 2004. Under his leadership, Tesla has become a leader in electric vehicles, producing popular models like the Model S, Model 3, Model X, and Model Y. The company is also involved in renewable energy products, such as solar panels and battery storage solutions.\n",
      "\n",
      "Musk co-founded PayPal, an online payment system, and was involved in the founding of Zip2, a software company, and X.com, which later became PayPal after a merger. He also founded The Boring Company, focused on tunnel construction and infrastructure, and Neuralink, aiming to develop brain-computer interfaces.\n",
      "\n",
      "Musk is known for his ambitious vision for the future, including the development of sustainable energy solutions and human colonization of Mars. He has also been a vocal advocate for addressing climate change and the potential risks associated with artificial intelligence.\n",
      "\n",
      "His unconventional approach and sometimes controversial statements, particularly on social media, have garnered both admiration and criticism. He has become one of the most influential figures in technology and business, often featured in discussions about innovation and the future of humanity.\n",
      "Goodbye!\n"
     ]
    }
   ],
   "source": [
    "while True:\n",
    "    try:\n",
    "        user_input = input(\"User: \")\n",
    "        if user_input.lower() in [\"quit\", \"exit\", \"q\"]:\n",
    "            print(\"Goodbye!\")\n",
    "            break\n",
    "\n",
    "        stream_graph_updates(user_input)\n",
    "    except:\n",
    "        # fallback if input() is not available\n",
    "        user_input = \"What do you know about LangGraph?\"\n",
    "        print(\"User: \" + user_input)\n",
    "        stream_graph_updates(user_input)\n",
    "        break"
   ]
  },
  {
   "cell_type": "code",
   "execution_count": null,
   "metadata": {},
   "outputs": [],
   "source": []
  },
  {
   "cell_type": "code",
   "execution_count": null,
   "metadata": {},
   "outputs": [],
   "source": []
  }
 ],
 "metadata": {
  "kernelspec": {
   "display_name": "Python 3",
   "language": "python",
   "name": "python3"
  },
  "language_info": {
   "codemirror_mode": {
    "name": "ipython",
    "version": 3
   },
   "file_extension": ".py",
   "mimetype": "text/x-python",
   "name": "python",
   "nbconvert_exporter": "python",
   "pygments_lexer": "ipython3",
   "version": "3.10.0"
  }
 },
 "nbformat": 4,
 "nbformat_minor": 2
}
