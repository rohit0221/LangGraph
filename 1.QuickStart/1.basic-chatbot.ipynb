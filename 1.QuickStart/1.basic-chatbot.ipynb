{
 "cells": [
  {
   "cell_type": "code",
   "execution_count": 1,
   "metadata": {},
   "outputs": [],
   "source": [
    "from dotenv import load_dotenv\n",
    "import os\n",
    "load_dotenv()\n",
    "from langchain_openai import ChatOpenAI\n",
    "llm = ChatOpenAI(model=\"gpt-4o-mini\")\n"
   ]
  },
  {
   "cell_type": "code",
   "execution_count": 2,
   "metadata": {},
   "outputs": [],
   "source": [
    "from typing import Annotated\n",
    "\n",
    "from typing_extensions import TypedDict\n",
    "\n",
    "from langgraph.graph import StateGraph\n",
    "from langgraph.graph.message import add_messages\n"
   ]
  },
  {
   "cell_type": "markdown",
   "metadata": {},
   "source": [
    "# Add a State of the Graph\n",
    "\n",
    "The first thing you do when you define a graph is define the State of the graph. \n"
   ]
  },
  {
   "cell_type": "markdown",
   "metadata": {},
   "source": [
    "\n",
    "# What is State of Graph?\n",
    "\n",
    "The State consists of 2 things:\n",
    "1. The schema of the graph \n",
    "2. A reducer functions which specify how to apply updates to the state. \n"
   ]
  },
  {
   "cell_type": "markdown",
   "metadata": {},
   "source": [
    "\n",
    "# State definition in our example\n",
    "\n",
    "```State``` is a dictionary that inherits from ```TypedDict```.\n",
    "\n",
    "```messages``` is a key in that dictionary ```State```. \n",
    "\n",
    "The value for this key is a list and it uses \"Annotated\" type hint.\n",
    "The messages key is annotated with the add_messages reducer function.\n",
    "\n",
    "This annotation which tells LangGraph to append new messages to the existing list, rather than overwriting it. \n",
    "\n",
    "State keys without an annotation will be overwritten by each update, storing the most recent value. \n",
    "\n"
   ]
  },
  {
   "cell_type": "code",
   "execution_count": 3,
   "metadata": {},
   "outputs": [],
   "source": [
    "class State(TypedDict):\n",
    "    messages: Annotated[list, add_messages]"
   ]
  },
  {
   "cell_type": "markdown",
   "metadata": {},
   "source": [
    "# Way to understand the concept of State Update\n",
    "So basically when we say \"updating\" the ```State``` -> we essentially in this case means updating the list of messages in key ```messages```"
   ]
  },
  {
   "cell_type": "markdown",
   "metadata": {},
   "source": [
    "# Create the StateGraph instance\n",
    "\n",
    "create an instance of a StateGraph using the State class as its argument.\n",
    "\n"
   ]
  },
  {
   "cell_type": "code",
   "execution_count": 4,
   "metadata": {},
   "outputs": [],
   "source": [
    "graph_builder = StateGraph(State)"
   ]
  },
  {
   "cell_type": "markdown",
   "metadata": {},
   "source": [
    "# So now our graph knows two things:\n",
    "\n",
    "1. Every node we define will receive the current ```State``` as input and return a value that updates that state.\n",
    "2. Messages will be appended to the current list, rather than directly overwritten. \n",
    "3. This is communicated via the prebuilt ```add_messages``` function in the Annotated syntax."
   ]
  },
  {
   "cell_type": "markdown",
   "metadata": {},
   "source": [
    "# Add a \"chatbot\" node. \n",
    "\n",
    "\n",
    "Nodes represent units of work. They are typically regular python functions.\n",
    "\n",
    "\n",
    "This chatbot node function takes the current ```State``` as input and returns a state with an updated ```messages``` key. \n",
    "\n",
    "This is the basic pattern for all LangGraph node functions.\n",
    "\n",
    "The add_messages function in our State will append the llm's response messages to whatever messages are already in the state."
   ]
  },
  {
   "cell_type": "code",
   "execution_count": 5,
   "metadata": {},
   "outputs": [],
   "source": [
    "def chatbot(state: State):\n",
    "    return {\"messages\": [llm.invoke(state[\"messages\"])]}"
   ]
  },
  {
   "cell_type": "markdown",
   "metadata": {},
   "source": [
    "# Add the node to the graph"
   ]
  },
  {
   "cell_type": "code",
   "execution_count": 6,
   "metadata": {},
   "outputs": [],
   "source": [
    "graph_builder.add_node(\"chatbot\", chatbot)"
   ]
  },
  {
   "cell_type": "markdown",
   "metadata": {},
   "source": [
    "# Add an entry point. \n",
    "\n",
    "This tells our graph where to start its work each time we run it.\n"
   ]
  },
  {
   "cell_type": "code",
   "execution_count": 9,
   "metadata": {},
   "outputs": [],
   "source": [
    "graph_builder.set_entry_point(\"chatbot\")"
   ]
  },
  {
   "cell_type": "markdown",
   "metadata": {},
   "source": [
    "\n",
    "# set a finish point. \n",
    "\n",
    "This instructs the graph \"any time this node is run, you can exit.\""
   ]
  },
  {
   "cell_type": "code",
   "execution_count": 10,
   "metadata": {},
   "outputs": [],
   "source": [
    "graph_builder.set_finish_point(\"chatbot\")"
   ]
  },
  {
   "cell_type": "markdown",
   "metadata": {},
   "source": [
    "Finally, we'll want to be able to run our graph. To do so, call \"compile()\" on the graph builder. This creates a \"CompiledGraph\" we can use invoke on our state."
   ]
  },
  {
   "cell_type": "code",
   "execution_count": 11,
   "metadata": {},
   "outputs": [],
   "source": [
    "graph = graph_builder.compile()"
   ]
  },
  {
   "cell_type": "code",
   "execution_count": 12,
   "metadata": {},
   "outputs": [
    {
     "data": {
      "image/jpeg": "[encoded data removed]",
      "text/plain": [
       "<IPython.core.display.Image object>"
      ]
     },
     "metadata": {},
     "output_type": "display_data"
    }
   ],
   "source": [
    "from IPython.display import Image, display\n",
    "\n",
    "try:\n",
    "    display(Image(graph.get_graph().draw_mermaid_png()))\n",
    "except Exception:\n",
    "    # This requires some extra dependencies and is optional\n",
    "    pass"
   ]
  },
  {
   "cell_type": "code",
   "execution_count": 36,
   "metadata": {},
   "outputs": [],
   "source": [
    "user_input = \"Who is Elon Musk? Tell me in 10 words\""
   ]
  },
  {
   "cell_type": "code",
   "execution_count": 34,
   "metadata": {},
   "outputs": [],
   "source": []
  },
  {
   "cell_type": "code",
   "execution_count": 39,
   "metadata": {},
   "outputs": [],
   "source": [
    "response=graph.invoke({\"messages\": (\"user\", user_input)})"
   ]
  },
  {
   "cell_type": "markdown",
   "metadata": {},
   "source": [
    "# Note: The output of this grap again would be a state.\n",
    "\n",
    "A dictionary containing a key 'messages' with a value that is a list. The list contains the list of messages."
   ]
  },
  {
   "cell_type": "code",
   "execution_count": 40,
   "metadata": {},
   "outputs": [
    {
     "data": {
      "text/plain": [
       "{'messages': [HumanMessage(content='Who is Elon Musk? Tell me in 10 words', id='33a435db-76fe-4450-9b30-e513520deb70'),\n",
       "  AIMessage(content='Elon Musk is a billionaire entrepreneur, CEO, and innovator.', response_metadata={'token_usage': {'completion_tokens': 14, 'prompt_tokens': 18, 'total_tokens': 32}, 'model_name': 'gpt-4o-mini-2024-07-18', 'system_fingerprint': 'fp_48196bc67a', 'finish_reason': 'stop', 'logprobs': None}, id='run-5458fd5d-e042-43ba-9cc8-0c10edca9c77-0', usage_metadata={'input_tokens': 18, 'output_tokens': 14, 'total_tokens': 32})]}"
      ]
     },
     "execution_count": 40,
     "metadata": {},
     "output_type": "execute_result"
    }
   ],
   "source": [
    "response"
   ]
  },
  {
   "cell_type": "code",
   "execution_count": 50,
   "metadata": {},
   "outputs": [
    {
     "data": {
      "text/plain": [
       "'Elon Musk is a billionaire entrepreneur, CEO, and innovator.'"
      ]
     },
     "execution_count": 50,
     "metadata": {},
     "output_type": "execute_result"
    }
   ],
   "source": [
    "response[\"messages\"][1].content"
   ]
  },
  {
   "cell_type": "markdown",
   "metadata": {},
   "source": [
    "# For streaming output"
   ]
  },
  {
   "cell_type": "code",
   "execution_count": 44,
   "metadata": {},
   "outputs": [],
   "source": [
    "stream=graph.stream({\"messages\": (\"user\", user_input)})"
   ]
  },
  {
   "cell_type": "code",
   "execution_count": 42,
   "metadata": {},
   "outputs": [
    {
     "name": "stdout",
     "output_type": "stream",
     "text": [
      "{'chatbot': {'messages': [AIMessage(content='Entrepreneur, CEO, inventor; known for Tesla, SpaceX, Neuralink, innovation.', response_metadata={'token_usage': {'completion_tokens': 19, 'prompt_tokens': 18, 'total_tokens': 37}, 'model_name': 'gpt-4o-mini-2024-07-18', 'system_fingerprint': 'fp_48196bc67a', 'finish_reason': 'stop', 'logprobs': None}, id='run-b554e3c8-a348-48b2-9654-3e93a99565de-0', usage_metadata={'input_tokens': 18, 'output_tokens': 19, 'total_tokens': 37})]}}\n"
     ]
    }
   ],
   "source": [
    "for event in stream:\n",
    "    print(event)"
   ]
  },
  {
   "cell_type": "code",
   "execution_count": 45,
   "metadata": {},
   "outputs": [
    {
     "name": "stdout",
     "output_type": "stream",
     "text": [
      "Assistant: Elon Musk is a billionaire entrepreneur, CEO, and inventor.\n"
     ]
    }
   ],
   "source": [
    "for event in stream:\n",
    "    for value in event.values():\n",
    "        print(\"Assistant:\", value[\"messages\"][-1].content)"
   ]
  },
  {
   "cell_type": "code",
   "execution_count": 13,
   "metadata": {},
   "outputs": [
    {
     "name": "stdout",
     "output_type": "stream",
     "text": [
      "Assistant: Hello! How can I assist you today?\n",
      "Assistant: Elon Musk is a prominent entrepreneur and businessman known for his role in several high-profile technology companies. He was born on June 28, 1971, in Pretoria, South Africa. Musk is the CEO and lead designer of SpaceX, a private aerospace manufacturer and space transportation company; the CEO and product architect of Tesla, Inc., an electric vehicle and clean energy company; and has been involved in various other ventures, including Neuralink (focused on brain-computer interfaces) and The Boring Company (focused on tunnel construction and infrastructure).\n",
      "\n",
      "Musk is known for his visionary ideas, including plans for colonizing Mars, advancing sustainable energy solutions, and developing high-speed transportation systems like the Hyperloop. He has made headlines for his ambitious goals, innovative approaches, and sometimes controversial statements and actions.\n",
      "Assistant: Elon Musk is a billionaire entrepreneur, inventor, and engineer best known for founding and leading several high-profile technology companies. He was born on June 28, 1971, in Pretoria, South Africa. Musk is the CEO and lead designer of SpaceX, a company focused on space exploration and transportation, and the CEO and product architect of Tesla, Inc., which produces electric vehicles and renewable energy products.\n",
      "\n",
      "In addition to his work with SpaceX and Tesla, Musk co-founded PayPal, an online payment system, and has been involved in various other ventures, including Neuralink, which focuses on brain-machine interfaces, and The Boring Company, which aims to reduce traffic congestion through tunneling technology. He is also known for his interest in advancing sustainable energy and has been a vocal advocate for addressing climate change.\n",
      "\n",
      "Musk's ambitious vision for the future includes colonizing Mars, developing sustainable energy solutions, and advancing artificial intelligence in a safe manner. His work has made him a highly influential figure in technology and business, as well as a prominent public personality.\n",
      "Goodbye!\n"
     ]
    }
   ],
   "source": [
    "while True:\n",
    "    user_input = input(\"User: \")\n",
    "    if user_input.lower() in [\"quit\", \"exit\", \"q\"]:\n",
    "        print(\"Goodbye!\")\n",
    "        break\n",
    "    for event in graph.stream({\"messages\": (\"user\", user_input)}):\n",
    "        for value in event.values():\n",
    "            print(\"Assistant:\", value[\"messages\"][-1].content)"
   ]
  },
  {
   "cell_type": "code",
   "execution_count": null,
   "metadata": {},
   "outputs": [],
   "source": []
  },
  {
   "cell_type": "code",
   "execution_count": null,
   "metadata": {},
   "outputs": [],
   "source": []
  }
 ],
 "metadata": {
  "kernelspec": {
   "display_name": "Python 3",
   "language": "python",
   "name": "python3"
  },
  "language_info": {
   "codemirror_mode": {
    "name": "ipython",
    "version": 3
   },
   "file_extension": ".py",
   "mimetype": "text/x-python",
   "name": "python",
   "nbconvert_exporter": "python",
   "pygments_lexer": "ipython3",
   "version": "3.10.0"
  }
 },
 "nbformat": 4,
 "nbformat_minor": 2
}
