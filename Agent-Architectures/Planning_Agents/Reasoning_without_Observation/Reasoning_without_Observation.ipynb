{
 "cells": [
  {
   "cell_type": "code",
   "execution_count": 1,
   "metadata": {},
   "outputs": [
    {
     "data": {
      "text/plain": [
       "True"
      ]
     },
     "execution_count": 1,
     "metadata": {},
     "output_type": "execute_result"
    }
   ],
   "source": [
    "import os\n",
    "from dotenv import load_dotenv\n",
    "load_dotenv()"
   ]
  },
  {
   "cell_type": "code",
   "execution_count": 2,
   "metadata": {},
   "outputs": [],
   "source": [
    "from langchain_community.tools.tavily_search import TavilySearchResults\n",
    "\n",
    "tools = [TavilySearchResults(max_results=3)]"
   ]
  },
  {
   "cell_type": "code",
   "execution_count": 3,
   "metadata": {},
   "outputs": [
    {
     "name": "stdout",
     "output_type": "stream",
     "text": [
      "================================\u001b[1m System Message \u001b[0m================================\n",
      "\n",
      "You are a helpful assistant.\n",
      "\n",
      "=============================\u001b[1m Messages Placeholder \u001b[0m=============================\n",
      "\n",
      "\u001b[33;1m\u001b[1;3m{{messages}}\u001b[0m\n"
     ]
    }
   ],
   "source": [
    "from langchain import hub\n",
    "from langchain_openai import ChatOpenAI\n",
    "\n",
    "from langgraph.prebuilt import create_react_agent\n",
    "\n",
    "# Get the prompt to use - you can modify this!\n",
    "prompt = hub.pull(\"wfh/react-agent-executor\")\n",
    "prompt.pretty_print()\n",
    "\n",
    "# Choose the LLM that will drive the agent\n",
    "llm = ChatOpenAI(model=\"gpt-4o-mini\")\n",
    "agent_executor = create_react_agent(llm, tools, messages_modifier=prompt)"
   ]
  },
  {
   "cell_type": "code",
   "execution_count": 4,
   "metadata": {},
   "outputs": [
    {
     "data": {
      "text/plain": [
       "{'messages': [HumanMessage(content='who is the winnner of the us open', id='498b4e19-f260-454d-a280-755dd1972e4c'),\n",
       "  AIMessage(content='', additional_kwargs={'tool_calls': [{'id': 'call_LmbkPaNaJyCYtuYFIQSc8M1K', 'function': {'arguments': '{\"query\":\"US Open 2023 winner\"}', 'name': 'tavily_search_results_json'}, 'type': 'function'}]}, response_metadata={'token_usage': {'completion_tokens': 23, 'prompt_tokens': 95, 'total_tokens': 118}, 'model_name': 'gpt-4o-mini', 'system_fingerprint': 'fp_9b0abffe81', 'finish_reason': 'tool_calls', 'logprobs': None}, id='run-1eebdb44-ef9c-4401-9163-eada05b0ede7-0', tool_calls=[{'name': 'tavily_search_results_json', 'args': {'query': 'US Open 2023 winner'}, 'id': 'call_LmbkPaNaJyCYtuYFIQSc8M1K', 'type': 'tool_call'}], usage_metadata={'input_tokens': 95, 'output_tokens': 23, 'total_tokens': 118}),\n",
       "  ToolMessage(content='[{\"url\": \"https://apnews.com/article/us-open-final-live-updates-djokovic-medvedev-8a4a26f8d77ef9ab2fb3efe1096dce7e\", \"content\": \"Novak Djokovic wins the US Open for his 24th Grand Slam title by beating Daniil Medvedev\\\\nNovak Djokovic, of Serbia, holds up the championship trophy after defeating Daniil Medvedev, of Russia, in the men\\\\u2019s singles final of the U.S. Open tennis championships, Sunday, Sept. 10, 2023, in New York. (AP Photo/Manu Fernandez)\\\\nDaniil Medvedev, of Russia, sits on the court after a rally against Novak Djokovic, of Serbia, during the men\\\\u2019s singles final of the U.S. Open tennis championships, Sunday, Sept. 10, 2023, in New York. (AP Photo/Manu Fernandez)\\\\nDaniil Medvedev, of Russia, sits on the court after a rally against Novak Djokovic, of Serbia, during the men\\\\u2019s singles final of the U.S. Open tennis championships, Sunday, Sept. 10, 2023, in New York. (AP Photo/Manu Fernandez)\\\\nDaniil Medvedev, of Russia, sits on the court after a rally against Novak Djokovic, of Serbia, during the men\\\\u2019s singles final of the U.S. Open tennis championships, Sunday, Sept. 10, 2023, in New York. Novak Djokovic, of Serbia, reveals a t-shirt honoring the number 24 and Kobe Bryant after defeating Daniil Medvedev, of Russia, in the men\\\\u2019s singles final of the U.S. Open tennis championships, Sunday, Sept. 10, 2023, in New York.\"}, {\"url\": \"https://www.youtube.com/watch?v=6q9HMdjYpVg\", \"content\": \"Watch the trophy presentation after Novak Djokovic wins his 24th Grand Slam title at the 2023 US Open.Don\\'t miss a moment of the US Open! Subscribe now: http...\"}, {\"url\": \"https://www.usopen.org/en_US/news/articles/2023-09-10/novak_djokovic_wins_24th_grand_slam_singles_title_at_2023_us_open.html\", \"content\": \"Novak Djokovic defeated Daniil Medvedev in three sets to claim his 24th Grand Slam singles title and match Margaret Court\\'s all-time record. The Serb saved a set point in the second set and attacked the net to win his fourth US Open crown.\"}]', name='tavily_search_results_json', id='26e24aef-efa3-4f16-b07c-58cca2db1c44', tool_call_id='call_LmbkPaNaJyCYtuYFIQSc8M1K'),\n",
       "  AIMessage(content=\"Novak Djokovic won the 2023 US Open, defeating Daniil Medvedev in the men's singles final. This victory marked Djokovic's 24th Grand Slam title, matching Margaret Court's all-time record. The match took place on September 10, 2023. You can read more about it [here](https://apnews.com/article/us-open-final-live-updates-djokovic-medvedev-8a4a26f8d77ef9ab2fb3efe1096dce7e).\", response_metadata={'token_usage': {'completion_tokens': 108, 'prompt_tokens': 692, 'total_tokens': 800}, 'model_name': 'gpt-4o-mini', 'system_fingerprint': 'fp_9b0abffe81', 'finish_reason': 'stop', 'logprobs': None}, id='run-b089e0fb-6af2-48f4-9080-3732116b5de5-0', usage_metadata={'input_tokens': 692, 'output_tokens': 108, 'total_tokens': 800})]}"
      ]
     },
     "execution_count": 4,
     "metadata": {},
     "output_type": "execute_result"
    }
   ],
   "source": [
    "agent_executor.invoke({\"messages\": [(\"user\", \"who is the winnner of the us open\")]})"
   ]
  },
  {
   "cell_type": "code",
   "execution_count": 5,
   "metadata": {},
   "outputs": [],
   "source": [
    "import operator\n",
    "from typing import Annotated, List, Tuple, TypedDict\n",
    "\n",
    "\n",
    "class PlanExecute(TypedDict):\n",
    "    input: str\n",
    "    plan: List[str]\n",
    "    past_steps: Annotated[List[Tuple], operator.add]\n",
    "    response: str "
   ]
  },
  {
   "cell_type": "code",
   "execution_count": 6,
   "metadata": {},
   "outputs": [],
   "source": [
    "from langchain_core.pydantic_v1 import BaseModel, Field\n",
    "\n",
    "\n",
    "class Plan(BaseModel):\n",
    "    \"\"\"Plan to follow in future\"\"\"\n",
    "\n",
    "    steps: List[str] = Field(\n",
    "        description=\"different steps to follow, should be in sorted order\"\n",
    "    )"
   ]
  },
  {
   "cell_type": "code",
   "execution_count": 7,
   "metadata": {},
   "outputs": [],
   "source": [
    "from langchain_core.prompts import ChatPromptTemplate\n",
    "\n",
    "planner_prompt = ChatPromptTemplate.from_messages(\n",
    "    [\n",
    "        (\n",
    "            \"system\",\n",
    "            \"\"\"For the given objective, come up with a simple step by step plan. \\\n",
    "This plan should involve individual tasks, that if executed correctly will yield the correct answer. Do not add any superfluous steps. \\\n",
    "The result of the final step should be the final answer. Make sure that each step has all the information needed - do not skip steps.\"\"\",\n",
    "        ),\n",
    "        (\"placeholder\", \"{messages}\"),\n",
    "    ]\n",
    ")\n",
    "planner = planner_prompt | ChatOpenAI(\n",
    "    model=\"gpt-4o-mini\", temperature=0\n",
    ").with_structured_output(Plan)"
   ]
  },
  {
   "cell_type": "code",
   "execution_count": 8,
   "metadata": {},
   "outputs": [
    {
     "data": {
      "text/plain": [
       "Plan(steps=['Identify the current Australian Open winner for the latest tournament.', 'Find the hometown of the identified winner.'])"
      ]
     },
     "execution_count": 8,
     "metadata": {},
     "output_type": "execute_result"
    }
   ],
   "source": [
    "planner.invoke(\n",
    "    {\n",
    "        \"messages\": [\n",
    "            (\"user\", \"what is the hometown of the current Australia open winner?\")\n",
    "        ]\n",
    "    }\n",
    ")"
   ]
  },
  {
   "cell_type": "code",
   "execution_count": 9,
   "metadata": {},
   "outputs": [],
   "source": [
    "from typing import Union\n",
    "\n",
    "\n",
    "class Response(BaseModel):\n",
    "    \"\"\"Response to user.\"\"\"\n",
    "\n",
    "    response: str\n",
    "\n",
    "\n",
    "class Act(BaseModel):\n",
    "    \"\"\"Action to perform.\"\"\"\n",
    "\n",
    "    action: Union[Response, Plan] = Field(\n",
    "        description=\"Action to perform. If you want to respond to user, use Response. \"\n",
    "        \"If you need to further use tools to get the answer, use Plan.\"\n",
    "    )\n",
    "\n",
    "\n",
    "replanner_prompt = ChatPromptTemplate.from_template(\n",
    "    \"\"\"For the given objective, come up with a simple step by step plan. \\\n",
    "This plan should involve individual tasks, that if executed correctly will yield the correct answer. Do not add any superfluous steps. \\\n",
    "The result of the final step should be the final answer. Make sure that each step has all the information needed - do not skip steps.\n",
    "\n",
    "Your objective was this:\n",
    "{input}\n",
    "\n",
    "Your original plan was this:\n",
    "{plan}\n",
    "\n",
    "You have currently done the follow steps:\n",
    "{past_steps}\n",
    "\n",
    "Update your plan accordingly. If no more steps are needed and you can return to the user, then respond with that. Otherwise, fill out the plan. Only add steps to the plan that still NEED to be done. Do not return previously done steps as part of the plan.\"\"\"\n",
    ")\n",
    "\n",
    "\n",
    "replanner = replanner_prompt | ChatOpenAI(\n",
    "    model=\"gpt-4o-mini\", temperature=0\n",
    ").with_structured_output(Act)"
   ]
  },
  {
   "cell_type": "code",
   "execution_count": 10,
   "metadata": {},
   "outputs": [],
   "source": [
    "from typing import Literal\n",
    "\n",
    "\n",
    "async def execute_step(state: PlanExecute):\n",
    "    plan = state[\"plan\"]\n",
    "    plan_str = \"\\n\".join(f\"{i+1}. {step}\" for i, step in enumerate(plan))\n",
    "    task = plan[0]\n",
    "    task_formatted = f\"\"\"For the following plan:\n",
    "{plan_str}\\n\\nYou are tasked with executing step {1}, {task}.\"\"\"\n",
    "    agent_response = await agent_executor.ainvoke(\n",
    "        {\"messages\": [(\"user\", task_formatted)]}\n",
    "    )\n",
    "    return {\n",
    "        \"past_steps\": [(task, agent_response[\"messages\"][-1].content)],\n",
    "    }\n",
    "\n",
    "\n",
    "async def plan_step(state: PlanExecute):\n",
    "    plan = await planner.ainvoke({\"messages\": [(\"user\", state[\"input\"])]})\n",
    "    return {\"plan\": plan.steps}\n",
    "\n",
    "\n",
    "async def replan_step(state: PlanExecute):\n",
    "    output = await replanner.ainvoke(state)\n",
    "    if isinstance(output.action, Response):\n",
    "        return {\"response\": output.action.response}\n",
    "    else:\n",
    "        return {\"plan\": output.action.steps}\n",
    "\n",
    "\n",
    "def should_end(state: PlanExecute) -> Literal[\"agent\", \"__end__\"]:\n",
    "    if \"response\" in state and state[\"response\"]:\n",
    "        return \"__end__\"\n",
    "    else:\n",
    "        return \"agent\""
   ]
  },
  {
   "cell_type": "code",
   "execution_count": 11,
   "metadata": {},
   "outputs": [],
   "source": [
    "from langgraph.graph import StateGraph, START\n",
    "\n",
    "workflow = StateGraph(PlanExecute)\n",
    "\n",
    "# Add the plan node\n",
    "workflow.add_node(\"planner\", plan_step)\n",
    "\n",
    "# Add the execution step\n",
    "workflow.add_node(\"agent\", execute_step)\n",
    "\n",
    "# Add a replan node\n",
    "workflow.add_node(\"replan\", replan_step)\n",
    "\n",
    "workflow.add_edge(START, \"planner\")\n",
    "\n",
    "# From plan we go to agent\n",
    "workflow.add_edge(\"planner\", \"agent\")\n",
    "\n",
    "# From agent, we replan\n",
    "workflow.add_edge(\"agent\", \"replan\")\n",
    "\n",
    "workflow.add_conditional_edges(\n",
    "    \"replan\",\n",
    "    # Next, we pass in the function that will determine which node is called next.\n",
    "    should_end,\n",
    ")\n",
    "\n",
    "# Finally, we compile it!\n",
    "# This compiles it into a LangChain Runnable,\n",
    "# meaning you can use it as you would any other runnable\n",
    "app = workflow.compile()"
   ]
  },
  {
   "cell_type": "code",
   "execution_count": 12,
   "metadata": {},
   "outputs": [
    {
     "data": {
      "image/jpeg": "[encoded data removed]",
      "text/plain": [
       "<IPython.core.display.Image object>"
      ]
     },
     "metadata": {},
     "output_type": "display_data"
    }
   ],
   "source": [
    "from IPython.display import Image, display\n",
    "\n",
    "display(Image(app.get_graph(xray=True).draw_mermaid_png()))"
   ]
  },
  {
   "cell_type": "code",
   "execution_count": 15,
   "metadata": {},
   "outputs": [
    {
     "name": "stdout",
     "output_type": "stream",
     "text": [
      "{'plan': ['Identify the winner of the 2024 Australian Open.', 'Research the hometown of the identified winner.']}\n",
      "{'past_steps': [('Identify the winner of the 2024 Australian Open.', \"Jannik Sinner's hometown is Sexten (Sesto Pusteria), located in the northern part of Italy, specifically within the county of Trentino Alto Adige, situated in the Dolomites region.\")]}\n",
      "{'plan': ['Research the hometown of Jannik Sinner.']}\n",
      "{'past_steps': [('Research the hometown of Jannik Sinner.', \"Jannik Sinner's hometown is **Sexten** (also known as Sesto), which is located in the Dolomites of northern Italy. Specifically, he was born in **Innichen** (San Candido), a town in the South Tyrol region, known for its predominantly German-speaking population.\\n\\nHere are some key points about his hometown:\\n\\n1. **Sexten**: This is where Sinner returned to celebrate his achievements, including his rise to No. 1 in the ATP rankings. It is known for its beautiful mountain scenery and outdoor activities.\\n   \\n2. **Innichen**: This town is part of the South Tyrol region, which has a rich cultural blend of Italian and Austrian influences due to its history.\\n\\nFor further details, you can check out the articles from ATP Tour that cover his return to his hometown and his experiences there.\")]}\n",
      "{'plan': ['Confirm the winner of the 2024 Australian Open is Jannik Sinner.', \"Summarize the information about Jannik Sinner's hometown, including both Sexten and Innichen.\"]}\n",
      "{'past_steps': [('Confirm the winner of the 2024 Australian Open is Jannik Sinner.', \"### Jannik Sinner's Hometown: Sexten and Innichen\\n\\n**Sexten (Sesto)**:\\n- **Location**: Sexten is a small village in South Tyrol, northern Italy, part of the Dolomites, and situated in the Puster Valley, near Innichen (San Candido) and Toblach.\\n- **Population**: Approximately 1,910 residents.\\n- **Language**: The predominant language is German, with a small percentage speaking Italian and Ladin.\\n- **Geography**: The village is known for its stunning natural beauty, including the nearby Tre Cime di Lavaredo (Three Peaks of Lavaredo), which are iconic mountains in the Dolomites.\\n- **Tourism**: Sexten is a family-friendly resort, popular for outdoor activities like skiing and hiking, offering a variety of accommodations and wellness services.\\n- **Cultural Significance**: The local emblem features three peaks symbolizing the Tre Cime di Lavaredo, highlighting its mountainous heritage.\\n\\n**Innichen (San Candido)**:\\n- **Location**: Innichen is a picturesque alpine village also located in South Tyrol, close to Sexten.\\n- **Historical Sites**: The village is home to the Innichen Abbey, a significant Romanesque building founded in the 8th century, which is a notable landmark for visitors.\\n- **Recreation**: Innichen is ideal for family holidays, offering activities in both winter and summer. The 3 Zinnen Dolomites ski resort provides modern lift facilities, ski runs, and hiking opportunities with breathtaking mountain views.\\n- **Cultural Heritage**: The village features beautiful churches, including the St. Michael parish church, which adds to its historical charm.\\n\\nBoth Sexten and Innichen are known for their stunning landscapes, rich history, and as popular destinations for outdoor sports, making them integral to Jannik Sinner's upbringing and identity.\")]}\n",
      "{'plan': [\"Summarize the information about Jannik Sinner's hometown, including both Sexten and Innichen.\"]}\n",
      "{'past_steps': [(\"Summarize the information about Jannik Sinner's hometown, including both Sexten and Innichen.\", \"Jannik Sinner hails from a picturesque region in northern Italy, specifically from the towns of Sexten (Sesto) and Innichen (San Candido) in South Tyrol. Here are some key details about both towns:\\n\\n### Sexten (Sesto)\\n- **Location & Geography**: Sexten is situated in a branch of the Puster Valley and is surrounded by the stunning Sexten Dolomites, which are part of the Dolomites mountain range, famous for their breathtaking peaks and nature parks. The area is known for its outdoor activities including hiking and skiing.\\n- **Cultural Aspects**: According to the 2011 census, the majority of the population speaks German (95.37%), followed by Italian (4.36%) and a small percentage of Ladin speakers. The town reflects a rich cultural heritage influenced by its Tyrolean roots.\\n- **Tourism & Recreation**: The Sexten Dolomites are popular among alpinists and offer numerous hiking trails, making it a favored destination for outdoor enthusiasts. The area is renowned for its scenic beauty and offers various recreational activities throughout the year.\\n- **Historical Significance**: The emblem of Sexten features three peaks and a chamois, symbolizing the iconic Tre Cime di Lavaredo.\\n\\n### Innichen (San Candido)\\n- **Historical Significance**: Innichen is home to the Innichen Abbey, a former Benedictine monastery founded in the 8th century. The abbey's collegiate church, dedicated to Saint Candidus, is regarded as the most significant Romanesque building in Tyrol and the Eastern Alps, showcasing the town's rich historical background.\\n- **Tourism & Activities**: Innichen is also a popular destination for both summer and winter sports. The nearby 3 Zinnen Dolomites ski resort offers well-prepared ski runs and various family-friendly activities, making it an attractive spot for visitors seeking adventure and relaxation.\\n- **Natural Beauty**: Nestled in the scenic Dolomites, Innichen features stunning landscapes that enhance its charm, with the mountains providing a protective backdrop to the village.\\n\\nBoth Sexten and Innichen are integral to Jannik Sinner's identity, reflecting the beauty and cultural richness of his hometown. Sinner's connection to this region is celebrated, particularly during his visits back home, where he receives a warm welcome from local residents.\")]}\n",
      "{'plan': [\"Confirm the final answer regarding Jannik Sinner's hometown, specifying both Sexten and Innichen.\"]}\n",
      "{'past_steps': [(\"Confirm the final answer regarding Jannik Sinner's hometown, specifying both Sexten and Innichen.\", \"Jannik Sinner's hometown is confirmed to be Sexten, which is located in northern Italy. It is also mentioned in relation to Innichen (San Candido), as Sexten is near Innichen in the Puster Valley. Both locations are part of the same region in the Dolomites.\")]}\n"
     ]
    },
    {
     "ename": "GraphRecursionError",
     "evalue": "Recursion limit of 10 reachedwithout hitting a stop condition. You can increase the limitby setting the `recursion_limit` config key.",
     "output_type": "error",
     "traceback": [
      "\u001b[1;31m---------------------------------------------------------------------------\u001b[0m",
      "\u001b[1;31mGraphRecursionError\u001b[0m                       Traceback (most recent call last)",
      "Cell \u001b[1;32mIn[15], line 3\u001b[0m\n\u001b[0;32m      1\u001b[0m config \u001b[38;5;241m=\u001b[39m {\u001b[38;5;124m\"\u001b[39m\u001b[38;5;124mrecursion_limit\u001b[39m\u001b[38;5;124m\"\u001b[39m: \u001b[38;5;241m10\u001b[39m}\n\u001b[0;32m      2\u001b[0m inputs \u001b[38;5;241m=\u001b[39m {\u001b[38;5;124m\"\u001b[39m\u001b[38;5;124minput\u001b[39m\u001b[38;5;124m\"\u001b[39m: \u001b[38;5;124m\"\u001b[39m\u001b[38;5;124mwhat is the hometown of the 2024 Australia open winner?\u001b[39m\u001b[38;5;124m\"\u001b[39m}\n\u001b[1;32m----> 3\u001b[0m \u001b[38;5;28;01masync\u001b[39;00m \u001b[38;5;28;01mfor\u001b[39;00m event \u001b[38;5;129;01min\u001b[39;00m app\u001b[38;5;241m.\u001b[39mastream(inputs, config\u001b[38;5;241m=\u001b[39mconfig):\n\u001b[0;32m      4\u001b[0m     \u001b[38;5;28;01mfor\u001b[39;00m k, v \u001b[38;5;129;01min\u001b[39;00m event\u001b[38;5;241m.\u001b[39mitems():\n\u001b[0;32m      5\u001b[0m         \u001b[38;5;28;01mif\u001b[39;00m k \u001b[38;5;241m!=\u001b[39m \u001b[38;5;124m\"\u001b[39m\u001b[38;5;124m__end__\u001b[39m\u001b[38;5;124m\"\u001b[39m:\n",
      "File \u001b[1;32mc:\\Code\\Github\\LangGraph\\venv\\lib\\site-packages\\langgraph\\pregel\\__init__.py:1391\u001b[0m, in \u001b[0;36mPregel.astream\u001b[1;34m(self, input, config, stream_mode, output_keys, input_keys, interrupt_before, interrupt_after, debug)\u001b[0m\n\u001b[0;32m   1389\u001b[0m         \u001b[38;5;28;01mbreak\u001b[39;00m\n\u001b[0;32m   1390\u001b[0m \u001b[38;5;28;01melse\u001b[39;00m:\n\u001b[1;32m-> 1391\u001b[0m     \u001b[38;5;28;01mraise\u001b[39;00m GraphRecursionError(\n\u001b[0;32m   1392\u001b[0m         \u001b[38;5;124mf\u001b[39m\u001b[38;5;124m\"\u001b[39m\u001b[38;5;124mRecursion limit of \u001b[39m\u001b[38;5;132;01m{\u001b[39;00mconfig[\u001b[38;5;124m'\u001b[39m\u001b[38;5;124mrecursion_limit\u001b[39m\u001b[38;5;124m'\u001b[39m]\u001b[38;5;132;01m}\u001b[39;00m\u001b[38;5;124m reached\u001b[39m\u001b[38;5;124m\"\u001b[39m\n\u001b[0;32m   1393\u001b[0m         \u001b[38;5;124m\"\u001b[39m\u001b[38;5;124mwithout hitting a stop condition. You can increase the limit\u001b[39m\u001b[38;5;124m\"\u001b[39m\n\u001b[0;32m   1394\u001b[0m         \u001b[38;5;124m\"\u001b[39m\u001b[38;5;124mby setting the `recursion_limit` config key.\u001b[39m\u001b[38;5;124m\"\u001b[39m\n\u001b[0;32m   1395\u001b[0m     )\n\u001b[0;32m   1397\u001b[0m \u001b[38;5;66;03m# set final channel values as run output\u001b[39;00m\n\u001b[0;32m   1398\u001b[0m \u001b[38;5;28;01mawait\u001b[39;00m run_manager\u001b[38;5;241m.\u001b[39mon_chain_end(read_channels(channels, output_keys))\n",
      "\u001b[1;31mGraphRecursionError\u001b[0m: Recursion limit of 10 reachedwithout hitting a stop condition. You can increase the limitby setting the `recursion_limit` config key."
     ]
    }
   ],
   "source": [
    "config = {\"recursion_limit\": 10}\n",
    "inputs = {\"input\": \"what is the hometown of the 2024 Australia open winner?\"}\n",
    "async for event in app.astream(inputs, config=config):\n",
    "    for k, v in event.items():\n",
    "        if k != \"__end__\":\n",
    "            print(v)"
   ]
  },
  {
   "cell_type": "code",
   "execution_count": null,
   "metadata": {},
   "outputs": [],
   "source": []
  }
 ],
 "metadata": {
  "kernelspec": {
   "display_name": "Python 3",
   "language": "python",
   "name": "python3"
  },
  "language_info": {
   "codemirror_mode": {
    "name": "ipython",
    "version": 3
   },
   "file_extension": ".py",
   "mimetype": "text/x-python",
   "name": "python",
   "nbconvert_exporter": "python",
   "pygments_lexer": "ipython3",
   "version": "3.10.0"
  }
 },
 "nbformat": 4,
 "nbformat_minor": 2
}
