{
 "cells": [
  {
   "cell_type": "code",
   "execution_count": 1,
   "metadata": {},
   "outputs": [
    {
     "data": {
      "text/plain": [
       "True"
      ]
     },
     "execution_count": 1,
     "metadata": {},
     "output_type": "execute_result"
    }
   ],
   "source": [
    "import os\n",
    "from dotenv import load_dotenv\n",
    "load_dotenv()"
   ]
  },
  {
   "cell_type": "code",
   "execution_count": 2,
   "metadata": {},
   "outputs": [],
   "source": [
    "from langchain_community.tools.tavily_search import TavilySearchResults\n",
    "\n",
    "tools = [TavilySearchResults(max_results=3)]"
   ]
  },
  {
   "cell_type": "code",
   "execution_count": 3,
   "metadata": {},
   "outputs": [
    {
     "name": "stdout",
     "output_type": "stream",
     "text": [
      "================================\u001b[1m System Message \u001b[0m================================\n",
      "\n",
      "You are a helpful assistant.\n",
      "\n",
      "=============================\u001b[1m Messages Placeholder \u001b[0m=============================\n",
      "\n",
      "\u001b[33;1m\u001b[1;3m{{messages}}\u001b[0m\n"
     ]
    },
    {
     "name": "stderr",
     "output_type": "stream",
     "text": [
      "C:\\Users\\neural_ninja\\AppData\\Local\\Temp\\ipykernel_24260\\2020055812.py:12: LangGraphDeprecationWarning: Parameter 'messages_modifier' in function 'create_react_agent' is deprecated as of version 0.1.9 and will be removed in version 0.2.0. Use 'state_modifier' parameter instead.\n",
      "  agent_executor = create_react_agent(llm, tools, messages_modifier=prompt)\n"
     ]
    }
   ],
   "source": [
    "from langchain import hub\n",
    "from langchain_openai import ChatOpenAI\n",
    "\n",
    "from langgraph.prebuilt import create_react_agent\n",
    "\n",
    "# Get the prompt to use - you can modify this!\n",
    "prompt = hub.pull(\"wfh/react-agent-executor\")\n",
    "prompt.pretty_print()\n",
    "\n",
    "# Choose the LLM that will drive the agent\n",
    "llm = ChatOpenAI(model=\"gpt-4o-mini\")\n",
    "agent_executor = create_react_agent(llm, tools, messages_modifier=prompt)"
   ]
  },
  {
   "cell_type": "code",
   "execution_count": 4,
   "metadata": {},
   "outputs": [
    {
     "data": {
      "text/plain": [
       "{'messages': [HumanMessage(content='who is the winnner of the us open', id='da6c9d1f-9583-4640-a542-df4785d747bd'),\n",
       "  AIMessage(content='', additional_kwargs={'tool_calls': [{'id': 'call_L7ztroTIYRy01ZNlb6kuEEVK', 'function': {'arguments': '{\"query\":\"2023 US Open winner\"}', 'name': 'tavily_search_results_json'}, 'type': 'function'}]}, response_metadata={'token_usage': {'completion_tokens': 22, 'prompt_tokens': 95, 'total_tokens': 117}, 'model_name': 'gpt-4o-mini-2024-07-18', 'system_fingerprint': 'fp_48196bc67a', 'finish_reason': 'tool_calls', 'logprobs': None}, id='run-0a56148a-2f13-4c7d-8ea0-ccd9178e566a-0', tool_calls=[{'name': 'tavily_search_results_json', 'args': {'query': '2023 US Open winner'}, 'id': 'call_L7ztroTIYRy01ZNlb6kuEEVK', 'type': 'tool_call'}], usage_metadata={'input_tokens': 95, 'output_tokens': 22, 'total_tokens': 117}),\n",
       "  ToolMessage(content='[{\"url\": \"https://www.nytimes.com/athletic/live-blogs/us-open-leaderboard-live-scores-results-tee-times/mhPUFgLsyFfM/\", \"content\": \"Wyndham Clark is your 2023 U.S. Open champion. Wyndham Clark has won his first major championship, besting some of the best players in the world on Sunday at Los Angeles Country Club to claim the ...\"}, {\"url\": \"https://www.youtube.com/watch?v=6q9HMdjYpVg\", \"content\": \"Watch the trophy presentation after Novak Djokovic wins his 24th Grand Slam title at the 2023 US Open.Don\\'t miss a moment of the US Open! Subscribe now: http...\"}, {\"url\": \"https://www.latimes.com/sports/story/2023-06-18/wyndham-clark-wins-us-open-rory-mcilroy\", \"content\": \"June 18, 2023\\\\nMore to Read\\\\nWhy a 20-year-old golfer can\\\\u2019t collect $1.5-million prize after PGA Tour win in SoCal\\\\nJan. 22, 2024\\\\nNick Dunlap becomes first amateur to win a PGA Tour event since 1991\\\\nJan. 21, 2024\\\\nViktor Hovland wins Tour Championship and takes FedEx Cup title\\\\nAug. 27, 2023\\\\nGet our high school sports newsletter\\\\nPrep Rally is devoted to the SoCal high school sports experience, bringing you scores, stories and a behind-the-scenes look at what makes prep sports so popular.\\\\n Tiger Woods unveils new brand after leaving Nike\\\\nFeb. 14, 2024\\\\nSports\\\\nMatthieu Pavon makes PGA Tour history in dramatic win at Torrey Pines\\\\nJan. 27, 2024\\\\nSports\\\\nStephan Jaeger leads at Torrey Pines after eagle on final hole\\\\nJan. 25, 2024\\\\nSubscribe for unlimited accessSite Map\\\\nFollow Us\\\\nMORE FROM THE L.A. TIMES Breaking News\\\\nWyndham Clark defies the odds and outlasts Rory McIlroy to win U.S. Open\\\\nThe odds of Wyndham Clark winning the U.S. Open were as long as the shin-deep fescue surrounding the Los Angeles Country Club bunkers.\\\\n But Clark, who once almost gave up the game because of the heartache of losing his mother to cancer, steadied himself after a wobbly stretch on the back nine and parred the final two holes to hold on for the victory.\\\\n Rickie Fowler, still in search of his first major win, began the day tied for the lead with Clark but slowly slid backward, shooting a 75 in the final round to finish in a three-way tie for fifth at five under.\\\\n\"}]', name='tavily_search_results_json', id='b51744f6-f5a8-4214-bad0-922e7140ec67', tool_call_id='call_L7ztroTIYRy01ZNlb6kuEEVK', artifact={'query': '2023 US Open winner', 'follow_up_questions': None, 'answer': None, 'images': [], 'results': [{'title': 'How Wyndham Clark won the 2023 U.S. Open over Rory McIlroy, Scottie ...', 'url': 'https://www.nytimes.com/athletic/live-blogs/us-open-leaderboard-live-scores-results-tee-times/mhPUFgLsyFfM/', 'content': 'Wyndham Clark is your 2023 U.S. Open champion. Wyndham Clark has won his first major championship, besting some of the best players in the world on Sunday at Los Angeles Country Club to claim the ...', 'score': 0.9982926, 'raw_content': None}, {'title': 'Trophy Presentation | Novak Djokovic Wins 24th Grand Slam Title | 2023 ...', 'url': 'https://www.youtube.com/watch?v=6q9HMdjYpVg', 'content': \"Watch the trophy presentation after Novak Djokovic wins his 24th Grand Slam title at the 2023 US Open.Don't miss a moment of the US Open! Subscribe now: http...\", 'score': 0.99424744, 'raw_content': None}, {'title': 'Wyndham Clark outlasts Rory McIlroy to win 2023 U.S. Open title - Los ...', 'url': 'https://www.latimes.com/sports/story/2023-06-18/wyndham-clark-wins-us-open-rory-mcilroy', 'content': 'June 18, 2023\\nMore to Read\\nWhy a 20-year-old golfer can’t collect $1.5-million prize after PGA Tour win in SoCal\\nJan. 22, 2024\\nNick Dunlap becomes first amateur to win a PGA Tour event since 1991\\nJan. 21, 2024\\nViktor Hovland wins Tour Championship and takes FedEx Cup title\\nAug. 27, 2023\\nGet our high school sports newsletter\\nPrep Rally is devoted to the SoCal high school sports experience, bringing you scores, stories and a behind-the-scenes look at what makes prep sports so popular.\\n Tiger Woods unveils new brand after leaving Nike\\nFeb. 14, 2024\\nSports\\nMatthieu Pavon makes PGA Tour history in dramatic win at Torrey Pines\\nJan. 27, 2024\\nSports\\nStephan Jaeger leads at Torrey Pines after eagle on final hole\\nJan. 25, 2024\\nSubscribe for unlimited accessSite Map\\nFollow Us\\nMORE FROM THE L.A. TIMES Breaking News\\nWyndham Clark defies the odds and outlasts Rory McIlroy to win U.S. Open\\nThe odds of Wyndham Clark winning the U.S. Open were as long as the shin-deep fescue surrounding the Los Angeles Country Club bunkers.\\n But Clark, who once almost gave up the game because of the heartache of losing his mother to cancer, steadied himself after a wobbly stretch on the back nine and parred the final two holes to hold on for the victory.\\n Rickie Fowler, still in search of his first major win, began the day tied for the lead with Clark but slowly slid backward, shooting a 75 in the final round to finish in a three-way tie for fifth at five under.\\n', 'score': 0.98667485, 'raw_content': None}], 'response_time': 1.12}),\n",
       "  AIMessage(content=\"The winner of the 2023 U.S. Open is Wyndham Clark. He achieved this victory by besting some of the best players in the world at the Los Angeles Country Club. This win marks Clark's first major championship. You can read more about it [here](https://www.nytimes.com/athletic/live-blogs/us-open-leaderboard-live-scores-results-tee-times/mhPUFgLsyFfM/).\", response_metadata={'token_usage': {'completion_tokens': 92, 'prompt_tokens': 710, 'total_tokens': 802}, 'model_name': 'gpt-4o-mini-2024-07-18', 'system_fingerprint': 'fp_48196bc67a', 'finish_reason': 'stop', 'logprobs': None}, id='run-828826d0-1030-43b6-8fca-d6dc0763b056-0', usage_metadata={'input_tokens': 710, 'output_tokens': 92, 'total_tokens': 802})]}"
      ]
     },
     "execution_count": 4,
     "metadata": {},
     "output_type": "execute_result"
    }
   ],
   "source": [
    "agent_executor.invoke({\"messages\": [(\"user\", \"who is the winnner of the us open\")]})"
   ]
  },
  {
   "cell_type": "code",
   "execution_count": 5,
   "metadata": {},
   "outputs": [],
   "source": [
    "import operator\n",
    "from typing import Annotated, List, Tuple, TypedDict\n",
    "\n",
    "\n",
    "class PlanExecute(TypedDict):\n",
    "    input: str\n",
    "    plan: List[str]\n",
    "    past_steps: Annotated[List[Tuple], operator.add]\n",
    "    response: str "
   ]
  },
  {
   "cell_type": "code",
   "execution_count": 6,
   "metadata": {},
   "outputs": [],
   "source": [
    "from langchain_core.pydantic_v1 import BaseModel, Field\n",
    "\n",
    "\n",
    "class Plan(BaseModel):\n",
    "    \"\"\"Plan to follow in future\"\"\"\n",
    "\n",
    "    steps: List[str] = Field(\n",
    "        description=\"different steps to follow, should be in sorted order\"\n",
    "    )"
   ]
  },
  {
   "cell_type": "code",
   "execution_count": 7,
   "metadata": {},
   "outputs": [],
   "source": [
    "from langchain_core.prompts import ChatPromptTemplate\n",
    "\n",
    "planner_prompt = ChatPromptTemplate.from_messages(\n",
    "    [\n",
    "        (\n",
    "            \"system\",\n",
    "            \"\"\"For the given objective, come up with a simple step by step plan. \\\n",
    "This plan should involve individual tasks, that if executed correctly will yield the correct answer. Do not add any superfluous steps. \\\n",
    "The result of the final step should be the final answer. Make sure that each step has all the information needed - do not skip steps.\"\"\",\n",
    "        ),\n",
    "        (\"placeholder\", \"{messages}\"),\n",
    "    ]\n",
    ")\n",
    "planner = planner_prompt | ChatOpenAI(\n",
    "    model=\"gpt-4o-mini\", temperature=0\n",
    ").with_structured_output(Plan)"
   ]
  },
  {
   "cell_type": "code",
   "execution_count": 8,
   "metadata": {},
   "outputs": [
    {
     "data": {
      "text/plain": [
       "Plan(steps=['Identify the current Australian Open winner for the latest tournament.', 'Research the hometown of the identified winner.'])"
      ]
     },
     "execution_count": 8,
     "metadata": {},
     "output_type": "execute_result"
    }
   ],
   "source": [
    "planner.invoke(\n",
    "    {\n",
    "        \"messages\": [\n",
    "            (\"user\", \"what is the hometown of the current Australia open winner?\")\n",
    "        ]\n",
    "    }\n",
    ")"
   ]
  },
  {
   "cell_type": "code",
   "execution_count": 9,
   "metadata": {},
   "outputs": [],
   "source": [
    "from typing import Union\n",
    "\n",
    "\n",
    "class Response(BaseModel):\n",
    "    \"\"\"Response to user.\"\"\"\n",
    "\n",
    "    response: str\n",
    "\n",
    "\n",
    "class Act(BaseModel):\n",
    "    \"\"\"Action to perform.\"\"\"\n",
    "\n",
    "    action: Union[Response, Plan] = Field(\n",
    "        description=\"Action to perform. If you want to respond to user, use Response. \"\n",
    "        \"If you need to further use tools to get the answer, use Plan.\"\n",
    "    )\n",
    "\n",
    "\n",
    "replanner_prompt = ChatPromptTemplate.from_template(\n",
    "    \"\"\"For the given objective, come up with a simple step by step plan. \\\n",
    "This plan should involve individual tasks, that if executed correctly will yield the correct answer. Do not add any superfluous steps. \\\n",
    "The result of the final step should be the final answer. Make sure that each step has all the information needed - do not skip steps.\n",
    "\n",
    "Your objective was this:\n",
    "{input}\n",
    "\n",
    "Your original plan was this:\n",
    "{plan}\n",
    "\n",
    "You have currently done the follow steps:\n",
    "{past_steps}\n",
    "\n",
    "Update your plan accordingly. If no more steps are needed and you can return to the user, then respond with that. Otherwise, fill out the plan. Only add steps to the plan that still NEED to be done. Do not return previously done steps as part of the plan.\"\"\"\n",
    ")\n",
    "\n",
    "\n",
    "replanner = replanner_prompt | ChatOpenAI(\n",
    "    model=\"gpt-4o-mini\", temperature=0\n",
    ").with_structured_output(Act)"
   ]
  },
  {
   "cell_type": "code",
   "execution_count": 10,
   "metadata": {},
   "outputs": [],
   "source": [
    "from typing import Literal\n",
    "\n",
    "\n",
    "async def execute_step(state: PlanExecute):\n",
    "    plan = state[\"plan\"]\n",
    "    plan_str = \"\\n\".join(f\"{i+1}. {step}\" for i, step in enumerate(plan))\n",
    "    task = plan[0]\n",
    "    task_formatted = f\"\"\"For the following plan:\n",
    "{plan_str}\\n\\nYou are tasked with executing step {1}, {task}.\"\"\"\n",
    "    agent_response = await agent_executor.ainvoke(\n",
    "        {\"messages\": [(\"user\", task_formatted)]}\n",
    "    )\n",
    "    return {\n",
    "        \"past_steps\": [(task, agent_response[\"messages\"][-1].content)],\n",
    "    }\n",
    "\n",
    "\n",
    "async def plan_step(state: PlanExecute):\n",
    "    plan = await planner.ainvoke({\"messages\": [(\"user\", state[\"input\"])]})\n",
    "    return {\"plan\": plan.steps}\n",
    "\n",
    "\n",
    "async def replan_step(state: PlanExecute):\n",
    "    output = await replanner.ainvoke(state)\n",
    "    if isinstance(output.action, Response):\n",
    "        return {\"response\": output.action.response}\n",
    "    else:\n",
    "        return {\"plan\": output.action.steps}\n",
    "\n",
    "\n",
    "def should_end(state: PlanExecute) -> Literal[\"agent\", \"__end__\"]:\n",
    "    if \"response\" in state and state[\"response\"]:\n",
    "        return \"__end__\"\n",
    "    else:\n",
    "        return \"agent\""
   ]
  },
  {
   "cell_type": "code",
   "execution_count": 11,
   "metadata": {},
   "outputs": [],
   "source": [
    "from langgraph.graph import StateGraph, START\n",
    "\n",
    "workflow = StateGraph(PlanExecute)\n",
    "\n",
    "# Add the plan node\n",
    "workflow.add_node(\"planner\", plan_step)\n",
    "\n",
    "# Add the execution step\n",
    "workflow.add_node(\"agent\", execute_step)\n",
    "\n",
    "# Add a replan node\n",
    "workflow.add_node(\"replan\", replan_step)\n",
    "\n",
    "workflow.add_edge(START, \"planner\")\n",
    "\n",
    "# From plan we go to agent\n",
    "workflow.add_edge(\"planner\", \"agent\")\n",
    "\n",
    "# From agent, we replan\n",
    "workflow.add_edge(\"agent\", \"replan\")\n",
    "\n",
    "workflow.add_conditional_edges(\n",
    "    \"replan\",\n",
    "    # Next, we pass in the function that will determine which node is called next.\n",
    "    should_end,\n",
    ")\n",
    "\n",
    "# Finally, we compile it!\n",
    "# This compiles it into a LangChain Runnable,\n",
    "# meaning you can use it as you would any other runnable\n",
    "app = workflow.compile()"
   ]
  },
  {
   "cell_type": "code",
   "execution_count": 12,
   "metadata": {},
   "outputs": [
    {
     "data": {
      "image/jpeg": "[encoded data removed]",
      "text/plain": [
       "<IPython.core.display.Image object>"
      ]
     },
     "metadata": {},
     "output_type": "display_data"
    }
   ],
   "source": [
    "from IPython.display import Image, display\n",
    "\n",
    "display(Image(app.get_graph(xray=True).draw_mermaid_png()))"
   ]
  },
  {
   "cell_type": "code",
   "execution_count": 13,
   "metadata": {},
   "outputs": [
    {
     "name": "stdout",
     "output_type": "stream",
     "text": [
      "{'plan': ['Identify the 2024 Australian Open winner once the tournament concludes.', \"Research the winner's biography or profile to find their hometown.\", 'Confirm the hometown information from reliable sources.']}\n",
      "{'past_steps': [('Identify the 2024 Australian Open winner once the tournament concludes.', 'The information about Jannik Sinner\\'s hometown is confirmed. He is from Sexten, Italy, and he often reflects on his roots, stating, \"It\\'s always an amazing feeling going back where I was born, where my family raised me.\" \\n\\nThus, the confirmed details are:\\n- **Winner of the 2024 Australian Open**: Jannik Sinner\\n- **Hometown**: Sexten, Italy\\n\\nIf you need any further information or assistance, feel free to ask!')]}\n",
      "{'response': 'The plan is complete, and I can confirm the following:\\n- **Winner of the 2024 Australian Open**: Jannik Sinner\\n- **Hometown**: Sexten, Italy\\n\\nIf you need any further information or assistance, feel free to ask!'}\n"
     ]
    }
   ],
   "source": [
    "config = {\"recursion_limit\": 10}\n",
    "inputs = {\"input\": \"what is the hometown of the 2024 Australia open winner?\"}\n",
    "async for event in app.astream(inputs, config=config):\n",
    "    for k, v in event.items():\n",
    "        if k != \"__end__\":\n",
    "            print(v)"
   ]
  },
  {
   "cell_type": "code",
   "execution_count": null,
   "metadata": {},
   "outputs": [],
   "source": []
  }
 ],
 "metadata": {
  "kernelspec": {
   "display_name": "Python 3",
   "language": "python",
   "name": "python3"
  },
  "language_info": {
   "codemirror_mode": {
    "name": "ipython",
    "version": 3
   },
   "file_extension": ".py",
   "mimetype": "text/x-python",
   "name": "python",
   "nbconvert_exporter": "python",
   "pygments_lexer": "ipython3",
   "version": "3.10.0"
  }
 },
 "nbformat": 4,
 "nbformat_minor": 2
}
