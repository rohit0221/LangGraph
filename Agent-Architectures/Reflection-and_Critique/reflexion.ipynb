{
 "cells": [
  {
   "cell_type": "code",
   "execution_count": 4,
   "metadata": {},
   "outputs": [],
   "source": [
    "from dotenv import load_dotenv\n",
    "import os\n",
    "load_dotenv()\n",
    "from langchain_openai import ChatOpenAI\n",
    "llm = ChatOpenAI(model=\"gpt-3.5-turbo\")"
   ]
  },
  {
   "cell_type": "code",
   "execution_count": 2,
   "metadata": {},
   "outputs": [],
   "source": [
    "from langchain_community.tools.tavily_search import TavilySearchResults\n",
    "from langchain_community.utilities.tavily_search import TavilySearchAPIWrapper\n",
    "\n",
    "search = TavilySearchAPIWrapper()\n",
    "tavily_tool = TavilySearchResults(api_wrapper=search, max_results=5)"
   ]
  },
  {
   "cell_type": "code",
   "execution_count": 3,
   "metadata": {},
   "outputs": [],
   "source": [
    "from langchain_core.messages import HumanMessage, ToolMessage\n",
    "from langchain_core.output_parsers.openai_tools import PydanticToolsParser\n",
    "from langchain_core.prompts import ChatPromptTemplate, MessagesPlaceholder\n",
    "from langchain_core.pydantic_v1 import BaseModel, Field, ValidationError\n",
    "\n",
    "\n",
    "class Reflection(BaseModel):\n",
    "    missing: str = Field(description=\"Critique of what is missing.\")\n",
    "    superfluous: str = Field(description=\"Critique of what is superfluous\")\n",
    "\n",
    "\n",
    "class AnswerQuestion(BaseModel):\n",
    "    \"\"\"Answer the question. Provide an answer, reflection, and then follow up with search queries to improve the answer.\"\"\"\n",
    "\n",
    "    answer: str = Field(description=\"~250 word detailed answer to the question.\")\n",
    "    reflection: Reflection = Field(description=\"Your reflection on the initial answer.\")\n",
    "    search_queries: list[str] = Field(\n",
    "        description=\"1-3 search queries for researching improvements to address the critique of your current answer.\"\n",
    "    )\n",
    "\n",
    "\n",
    "class ResponderWithRetries:\n",
    "    def __init__(self, runnable, validator):\n",
    "        self.runnable = runnable\n",
    "        self.validator = validator\n",
    "\n",
    "    def respond(self, state: list):\n",
    "        response = []\n",
    "        for attempt in range(3):\n",
    "            response = self.runnable.invoke(\n",
    "                {\"messages\": state}, {\"tags\": [f\"attempt:{attempt}\"]}\n",
    "            )\n",
    "            try:\n",
    "                self.validator.invoke(response)\n",
    "                return response\n",
    "            except ValidationError as e:\n",
    "                state = state + [\n",
    "                    response,\n",
    "                    ToolMessage(\n",
    "                        content=f\"{repr(e)}\\n\\nPay close attention to the function schema.\\n\\n\"\n",
    "                        + self.validator.schema_json()\n",
    "                        + \" Respond by fixing all validation errors.\",\n",
    "                        tool_call_id=response.tool_calls[0][\"id\"],\n",
    "                    ),\n",
    "                ]\n",
    "        return response"
   ]
  },
  {
   "cell_type": "code",
   "execution_count": 5,
   "metadata": {},
   "outputs": [],
   "source": [
    "import datetime\n",
    "\n",
    "actor_prompt_template = ChatPromptTemplate.from_messages(\n",
    "    [\n",
    "        (\n",
    "            \"system\",\n",
    "            \"\"\"You are expert researcher.\n",
    "Current time: {time}\n",
    "\n",
    "1. {first_instruction}\n",
    "2. Reflect and critique your answer. Be severe to maximize improvement.\n",
    "3. Recommend search queries to research information and improve your answer.\"\"\",\n",
    "        ),\n",
    "        MessagesPlaceholder(variable_name=\"messages\"),\n",
    "        (\n",
    "            \"user\",\n",
    "            \"\\n\\nReflect on the user's original question and the\"\n",
    "            \" actions taken thus far. Respond using the {function_name} function.\",\n",
    "        ),\n",
    "    ]\n",
    ").partial(\n",
    "    time=lambda: datetime.datetime.now().isoformat(),\n",
    ")\n",
    "initial_answer_chain = actor_prompt_template.partial(\n",
    "    first_instruction=\"Provide a detailed ~250 word answer.\",\n",
    "    function_name=AnswerQuestion.__name__,\n",
    ") | llm.bind_tools(tools=[AnswerQuestion])\n",
    "validator = PydanticToolsParser(tools=[AnswerQuestion])\n",
    "\n",
    "first_responder = ResponderWithRetries(\n",
    "    runnable=initial_answer_chain, validator=validator\n",
    ")"
   ]
  },
  {
   "cell_type": "code",
   "execution_count": 6,
   "metadata": {},
   "outputs": [],
   "source": [
    "example_question = \"Why is reflection useful in AI?\"\n",
    "initial = first_responder.respond([HumanMessage(content=example_question)])"
   ]
  },
  {
   "cell_type": "code",
   "execution_count": 7,
   "metadata": {},
   "outputs": [],
   "source": [
    "revise_instructions = \"\"\"Revise your previous answer using the new information.\n",
    "    - You should use the previous critique to add important information to your answer.\n",
    "        - You MUST include numerical citations in your revised answer to ensure it can be verified.\n",
    "        - Add a \"References\" section to the bottom of your answer (which does not count towards the word limit). In form of:\n",
    "            - [1] https://example.com\n",
    "            - [2] https://example.com\n",
    "    - You should use the previous critique to remove superfluous information from your answer and make SURE it is not more than 250 words.\n",
    "\"\"\"\n",
    "\n",
    "\n",
    "# Extend the initial answer schema to include references.\n",
    "# Forcing citation in the model encourages grounded responses\n",
    "class ReviseAnswer(AnswerQuestion):\n",
    "    \"\"\"Revise your original answer to your question. Provide an answer, reflection,\n",
    "\n",
    "    cite your reflection with references, and finally\n",
    "    add search queries to improve the answer.\"\"\"\n",
    "\n",
    "    references: list[str] = Field(\n",
    "        description=\"Citations motivating your updated answer.\"\n",
    "    )\n",
    "\n",
    "\n",
    "revision_chain = actor_prompt_template.partial(\n",
    "    first_instruction=revise_instructions,\n",
    "    function_name=ReviseAnswer.__name__,\n",
    ") | llm.bind_tools(tools=[ReviseAnswer])\n",
    "revision_validator = PydanticToolsParser(tools=[ReviseAnswer])\n",
    "\n",
    "revisor = ResponderWithRetries(runnable=revision_chain, validator=revision_validator)"
   ]
  },
  {
   "cell_type": "code",
   "execution_count": 8,
   "metadata": {},
   "outputs": [
    {
     "data": {
      "text/plain": [
       "AIMessage(content='', additional_kwargs={'tool_calls': [{'id': 'call_UMyJ6OAiF0L5r9Z3nrIvFrQ8', 'function': {'arguments': '{\"answer\":\"Reflection is crucial in AI as it enables systems to enhance performance, rectify errors, explain decisions, foster transparency and trust, and adapt to new tasks. For instance, AI can learn from past experiences, adjust strategies, identify biases, and improve accuracy through reflection. Moreover, the ability to explain decisions enhances transparency and user trust in AI technology. Additionally, continuous reflection allows AI systems to adapt to changing environments and tasks by evaluating performance and updating models.\",\"reflection\":{\"missing\":\"The answer could benefit from specific examples or case studies demonstrating the impact of reflection in AI.\",\"superfluous\":\"The initial answer contained unnecessary elaboration on the role of reflection in AI, which could be streamlined for clarity.\"},\"search_queries\":[\"Examples of reflection impact in AI\",\"Case studies on AI reflection benefits\"],\"references\":[\"https://medium.com/stanford-d-school/reflecting-with-ai-a-tool-to-develop-human-intelligence-88cec86babf\",\"https://www.deeplearning.ai/the-batch/agentic-design-patterns-part-2-reflection/\",\"https://teachingresources.stanford.edu/resources/enhancing-reflective-practices-with-ai/\",\"https://www.unite.ai/ais-inner-dialogue-how-self-reflection-enhances-chatbots-and-virtual-assistants/\",\"https://blog.langchain.dev/reflection-agents/\"]}', 'name': 'ReviseAnswer'}, 'type': 'function'}]}, response_metadata={'token_usage': {'completion_tokens': 284, 'prompt_tokens': 1839, 'total_tokens': 2123}, 'model_name': 'gpt-3.5-turbo', 'system_fingerprint': None, 'finish_reason': 'tool_calls', 'logprobs': None}, id='run-afcc7666-895a-48ef-995e-04117dcbd389-0', tool_calls=[{'name': 'ReviseAnswer', 'args': {'answer': 'Reflection is crucial in AI as it enables systems to enhance performance, rectify errors, explain decisions, foster transparency and trust, and adapt to new tasks. For instance, AI can learn from past experiences, adjust strategies, identify biases, and improve accuracy through reflection. Moreover, the ability to explain decisions enhances transparency and user trust in AI technology. Additionally, continuous reflection allows AI systems to adapt to changing environments and tasks by evaluating performance and updating models.', 'reflection': {'missing': 'The answer could benefit from specific examples or case studies demonstrating the impact of reflection in AI.', 'superfluous': 'The initial answer contained unnecessary elaboration on the role of reflection in AI, which could be streamlined for clarity.'}, 'search_queries': ['Examples of reflection impact in AI', 'Case studies on AI reflection benefits'], 'references': ['https://medium.com/stanford-d-school/reflecting-with-ai-a-tool-to-develop-human-intelligence-88cec86babf', 'https://www.deeplearning.ai/the-batch/agentic-design-patterns-part-2-reflection/', 'https://teachingresources.stanford.edu/resources/enhancing-reflective-practices-with-ai/', 'https://www.unite.ai/ais-inner-dialogue-how-self-reflection-enhances-chatbots-and-virtual-assistants/', 'https://blog.langchain.dev/reflection-agents/']}, 'id': 'call_UMyJ6OAiF0L5r9Z3nrIvFrQ8'}], usage_metadata={'input_tokens': 1839, 'output_tokens': 284, 'total_tokens': 2123})"
      ]
     },
     "execution_count": 8,
     "metadata": {},
     "output_type": "execute_result"
    }
   ],
   "source": [
    "import json\n",
    "\n",
    "revised = revisor.respond(\n",
    "    [\n",
    "        HumanMessage(content=example_question),\n",
    "        initial,\n",
    "        ToolMessage(\n",
    "            tool_call_id=initial.tool_calls[0][\"id\"],\n",
    "            content=json.dumps(\n",
    "                tavily_tool.invoke(\n",
    "                    {\"query\": initial.tool_calls[0][\"args\"][\"search_queries\"][0]}\n",
    "                )\n",
    "            ),\n",
    "        ),\n",
    "    ]\n",
    ")\n",
    "revised"
   ]
  },
  {
   "cell_type": "code",
   "execution_count": 9,
   "metadata": {},
   "outputs": [],
   "source": [
    "from langchain_core.tools import StructuredTool\n",
    "\n",
    "from langgraph.prebuilt import ToolNode\n",
    "\n",
    "\n",
    "def run_queries(search_queries: list[str], **kwargs):\n",
    "    \"\"\"Run the generated queries.\"\"\"\n",
    "    return tavily_tool.batch([{\"query\": query} for query in search_queries])\n",
    "\n",
    "\n",
    "tool_node = ToolNode(\n",
    "    [\n",
    "        StructuredTool.from_function(run_queries, name=AnswerQuestion.__name__),\n",
    "        StructuredTool.from_function(run_queries, name=ReviseAnswer.__name__),\n",
    "    ]\n",
    ")"
   ]
  },
  {
   "cell_type": "code",
   "execution_count": 10,
   "metadata": {},
   "outputs": [],
   "source": [
    "from typing import Literal\n",
    "\n",
    "from langgraph.graph import END, MessageGraph\n",
    "\n",
    "MAX_ITERATIONS = 5\n",
    "builder = MessageGraph()\n",
    "builder.add_node(\"draft\", first_responder.respond)\n",
    "\n",
    "\n",
    "builder.add_node(\"execute_tools\", tool_node)\n",
    "builder.add_node(\"revise\", revisor.respond)\n",
    "# draft -> execute_tools\n",
    "builder.add_edge(\"draft\", \"execute_tools\")\n",
    "# execute_tools -> revise\n",
    "builder.add_edge(\"execute_tools\", \"revise\")\n",
    "\n",
    "# Define looping logic:\n",
    "\n",
    "\n",
    "def _get_num_iterations(state: list):\n",
    "    i = 0\n",
    "    for m in state[::-1]:\n",
    "        if m.type not in {\"tool\", \"ai\"}:\n",
    "            break\n",
    "        i += 1\n",
    "    return i\n",
    "\n",
    "\n",
    "def event_loop(state: list) -> Literal[\"execute_tools\", \"__end__\"]:\n",
    "    # in our case, we'll just stop after N plans\n",
    "    num_iterations = _get_num_iterations(state)\n",
    "    if num_iterations > MAX_ITERATIONS:\n",
    "        return END\n",
    "    return \"execute_tools\"\n",
    "\n",
    "\n",
    "# revise -> execute_tools OR end\n",
    "builder.add_conditional_edges(\"revise\", event_loop)\n",
    "builder.set_entry_point(\"draft\")\n",
    "graph = builder.compile()"
   ]
  },
  {
   "cell_type": "code",
   "execution_count": 11,
   "metadata": {},
   "outputs": [
    {
     "data": {
      "image/jpeg": "[encoded data removed]",
      "text/plain": [
       "<IPython.core.display.Image object>"
      ]
     },
     "metadata": {},
     "output_type": "display_data"
    }
   ],
   "source": [
    "from IPython.display import Image, display\n",
    "\n",
    "try:\n",
    "    display(Image(graph.get_graph().draw_mermaid_png()))\n",
    "except Exception:\n",
    "    # This requires some extra dependencies and is optional\n",
    "    pass"
   ]
  },
  {
   "cell_type": "code",
   "execution_count": 12,
   "metadata": {},
   "outputs": [
    {
     "name": "stdout",
     "output_type": "stream",
     "text": [
      "Step 0\n",
      "================================\u001b[1m Human Message \u001b[0m=================================\n",
      "\n",
      "How should we handle the climate crisis?\n",
      "Step 1\n",
      "==================================\u001b[1m Ai Message \u001b[0m==================================\n",
      "Tool Calls:\n",
      "  AnswerQuestion (call_BAZAxgbhUYBhizFvQgCNZOEv)\n",
      " Call ID: call_BAZAxgbhUYBhizFvQgCNZOEv\n",
      "  Args:\n",
      "    answer: Addressing the climate crisis requires a multifaceted approach that involves individuals, governments, businesses, and international cooperation. Key actions include transitioning to renewable energy sources, implementing sustainable practices in industries, promoting green transportation, protecting forests and ecosystems, and investing in technology to reduce carbon emissions. Governments play a crucial role in setting policies and regulations to limit greenhouse gas emissions, incentivizing sustainable practices, and fostering innovation in clean technologies. Businesses can contribute by adopting environmentally friendly practices, reducing waste, and supporting green initiatives. Individuals can make a difference through lifestyle changes like reducing energy consumption, supporting sustainable products, and advocating for climate action. International collaboration is essential to address climate change on a global scale, as it requires coordinated efforts to reduce emissions and mitigate the impact of climate change. Overall, a comprehensive approach that combines policy changes, technological innovation, and individual actions is necessary to effectively tackle the climate crisis.\n",
      "    reflection: {'missing': 'The answer could be strengthened by providing specific examples of successful climate initiatives and highlighting the importance of education and awareness in addressing the climate crisis.', 'superfluous': ''}\n",
      "    search_queries: ['successful climate initiatives examples', 'importance of education in addressing climate crisis']\n",
      "Step 2\n",
      "=================================\u001b[1m Tool Message \u001b[0m=================================\n",
      "Name: AnswerQuestion\n",
      "\n",
      "[[{\"url\": \"https://news.un.org/en/story/2022/04/1117122\", \"content\": \"Helping Venezuelan indigenous families mitigate the degradation of the Amazon Forest\\nPuerto Ayacucho is the capital and largest city of the State of Amazonas in the south of Venezuela, its inhabitants include a number of local indigenous tribes, including the Yanomami, the Panare, the Bari, Piaroa and Guajibo (also known as Jibis).\\n Language\\nLanguage\\nMenu\\nLanguage\\nSearch\\nAudio and Subscription\\nSmall solutions, big impacts: 5 community-based projects tackling climate change\\nFacebook\\nTwitter\\nPrint\\nEmail\\nSmall solutions, big impacts: 5 community-based projects tackling climate change\\nThere are thousands of small-scale, community driven initiatives making a huge difference in people\\u2019s lives and contributing to efforts to curb global warming.\\n \\u201cWhen families pass on this knowledge, we make indigenous communities gain the necessary strength and confidence to face the conservation of their culture and their environment, organize the community for the production and marketing of their products in more select markets and contribute directly to creating a sustainable economy,\\u201d Kenia Martinez from Amazonas Originaria notes.\\n In visit to hurricane-ravaged Bahamas, UN chief calls for greater action to address climate change\\nRescue us from our environmental \\u2018mess\\u2019, UN chief urges Stockholm summit\\nClimate and weather related disasters surge five-fold over 50 years, but early warnings save lives - WMO report\\nNews Tracker: Past Stories on This Issue\\nEarth Day: 5 ways we\\u2019re working to heal our planet and combat climate change\\nInternational Mother Earth Day is a chance to reflect on how humanity has been treating our planet, and let\\u2019s face it: we\\u2019ve been poor custodians. And while a steady stream of IPCC reports has painted a legitimately worrying picture of the current state of the planet, don\\u2019t lose hope \\u2013 here's why: there are more innovative ideas for serious climate action than ever and around the world, people are working together on solutions to help repair the damage that\\u2019s been done to our fragile home.\\n\"}, {\"url\": \"https://unfccc.int/news/100-cases-of-successful-climate-action-in-cities\", \"content\": \"100 Cases of Successful Climate Action in Cities. As cities around the world look for ways to implement the Paris Declaration and meet the ambition of the UN Climate Change Conference (COP21), C40 is showcasing 100 real world examples of projects and approaches that have already proved successful in our member cities. Eleven new C40 Good ...\"}, {\"url\": \"https://www.weforum.org/agenda/2024/01/10-actions-to-change-the-climate-course/\", \"content\": \"These charts reveal why targeting energy demand is vital to addressing the climate crisis\\nVictoria Masterson\\nJanuary 11, 2024\\nClimate facts that cut through the clutter: How one initiative is making science more accessible\\nRainn Wilson, Charles Tatham and Gail Whiteman\\nJanuary 11, 2024\\nAbout Us\\nEvents\\nMedia\\nMore from the Forum\\nPartners & Members\\nLanguage Editions\\nPrivacy Policy & Terms of Service\\n\\u00a9 2024 World Economic Forum Why transparency in manufacturing is the game changer for the green transition\\nHilde Merete Aasheim\\nJanuary 11, 2024\\nHow to harness the collaborative potential of industrial clusters\\nCharles Pacini and Oxana Saimo\\nJanuary 11, 2024\\nThese projects prove partnership is key to scaling net-zero technology\\nKim Saaby Hedegaard\\nJanuary 11, 2024\\n More on Climate ChangeSee all\\nThese are the top 3 climate risks we face \\u2014 and what to do about them\\nGill Einhorn\\nJanuary 11, 2024\\n Image:\\u00a0Shutterstock\\nHow is the World Economic Forum fighting the climate crisis?\\nCreate a free account and access your personalized content collection with our latest publications and analyses.\\n The Agenda Weekly\\nA weekly update of the most important issues driving the global agenda\\nYou can unsubscribe at any time using the link in our emails.\"}, {\"url\": \"https://www.weforum.org/agenda/2023/07/climate-crisis-positive-news-climate-action/\", \"content\": \"Why transparency in manufacturing is the game changer for the green transition\\nHilde Merete Aasheim\\nJanuary 11, 2024\\nHow to harness the collaborative potential of industrial clusters\\nCharles Pacini and Oxana Saimo\\nJanuary 11, 2024\\nThese projects prove partnership is key to scaling net-zero technology\\nKim Saaby Hedegaard\\nJanuary 11, 2024\\n These charts reveal why targeting energy demand is vital to addressing the climate crisis\\nVictoria Masterson\\nJanuary 11, 2024\\nAbout Us\\nEvents\\nMedia\\nMore from the Forum\\nPartners & Members\\nLanguage Editions\\nPrivacy Policy & Terms of Service\\n\\u00a9 2024 World Economic Forum More on Climate ChangeSee all\\nFor billions of people around the world, housing is the frontline in the fight against climate change\\nJonathan T.M. Reckford\\nJanuary 11, 2024\\n Image:\\u00a0Unsplash/Nuno Marques\\nListen to the article\\nWhat's the World Economic Forum doing about the transition to clean energy?\\n The Agenda Weekly\\nA weekly update of the most important issues driving the global agenda\\nYou can unsubscribe at any time using the link in our emails.\"}, {\"url\": \"https://www.climatecouncil.org.au/10-award-winning-climate-action-initiatives-from-around-the-world/\", \"content\": \"The Enabling Farmers to Adapt to Climate Change project uses a set of digital tools to collect, analyse and send out agricultural advisories, crop and livestock market information and weather data to Ugandan farmers. We wish to pay our respects to Elders past and present and recognise the continuous connection of Aboriginal and Torres Strait Islander people to land, water and Country.\\n The Planting Trees to Save the Mangrove initiative is run by women-led cooperatives in Guinea, who reduce the deforestation of mangrove wood and cut emissions by introducing solar driers to dry and smoke fish. The SELF (Solar Electric Light Fund) Solar Market Gardens project combines solar-powered pumps with drip irrigation systems to provide a reliable, cost-effective, renewable supply of water for the production of high-value, nutritious produce throughout the year, even during the dry season.\\n The United Nations\\u2019 Momentum for Change awards shine a light on some of the most innovative, scalable and replicable examples of what people around the world are doing to tackle climate change.\\n\"}], [{\"url\": \"https://www.unesco.org/en/articles/how-can-education-strengthen-climate-action\", \"content\": \"The February edition focused on Climate Change Education and addressed the following questions (watch back):\\nDuring the opening remarks, Ms Vibeke Jensen, Director of the Division for Peace and Sustainable Development at UNESCO shared her hopes for COP 26: \\u201cWe hope that on the occasion of COP 26 governments will be willing to commit to enhanced action on Education for Sustainable Development, and to strengthening the collaboration between the education and the environment sectors\\u201d.\\n To recovery and beyond:\\u00a0The report takes stock of the global progress on the adoption and implementation of legal guarantees on Access to Info\\nAddressing culture as a global public good\\nFor almost 75 years,\\u00a0the UNESCO Courier\\u00a0has served as a platform for international debates on issues that concern the entire pla\\nLifelong learning is key to overcoming global challenges and to achieving the Sustainable Development Goals.\\n She emphasized that the recovery from the COVID-19 crisis opens a chance to recover better by transitioning our social and economic models towards fair, inclusive and sustainable development: \\u201cWhile COVID-19 is one of the greatest challenges global economies have faced in modern times, recovery also opens an unprecedented window of hope and opportunity for nations to shape the 21st century economy in ways that are clean, green, healthy, safe and just \\u2013 for all people, especially in the most remote and vulnerable parts of the world.\\u201d\\n At the workshop, speakers addressed different aspects of Climate Action through Education, including the Action for Climate Empowerment international agenda, Climate Friendly Schools, Gender Equality and Curriculum.\\nEducation as a key element of climate action\\nMs Fleur Newman, Action Empowerment Unit Lead at the UNFCCC shared that Education has been recognized by the international community as a crucial element to counter climate change. In preparation of the Conference, UNESCO had been organizing a series of online workshops on the transformative power of Education for Sustainable Development for the world beyond COVID-19, in cooperation with the Federal Ministry of Education and Research of Germany and the German Commission for UNESCO.\"}, {\"url\": \"https://news.un.org/en/story/2020/03/1059151\", \"content\": \"Language\\nLanguage\\nMenu\\nLanguage\\nSearch\\nAudio and Subscription\\nClimate change: educating students to fight the crisis\\nFacebook\\nTwitter\\nPrint\\nEmail\\nClimate change: educating students to fight the crisis\\nWith the latest UN climate report containing worrying evidence that climate change is having a major effect on all aspects of the environment, how can teachers help children and adults to sort through the growing mass of information, avoid being overwhelmed, and come to an understanding of the challenges, and potential solutions, to what the UN Secretary-General has called \\u201can existential crisis\\u201d?\\n ASPnet\\nRelated Stories\\nUNESCO names 18 new Global Geoparks\\nEducate children in their mother tongue, urges UN rights expert\\nCOVID-19: UN and partners work to ensure learning never stops for young refugees\\nNews Tracker: Past Stories on This Issue\\nFlagship UN study shows accelerating climate change on land, sea and in the atmosphere\\nA wide-ranging UN climate report, released on Tuesday, shows that climate change is having a major effect on all aspects of the environment, as well as on the health and wellbeing of the global population.\\n Resources\\nButton collapse\\nSecretary-General\\nButton collapse\\nSpokesperson's Office\\nButton collapse\\nFind Us\\nButton collapse\\nFooter menu\\nSocial Media Links\\nFooter buttons\\nFacebook\\nTwitter\\nPrint\\nEmail Language and literature classes can help students to develop the communication skills needed to respond to local and global issues, mathematics students can produce graphs showing the change in school energy use, and civics students can interview local officials on the actions they are taking to address the problem.\\n Participating schools greened their premises, improving water, waste and energy management, and the overall health and well-being of school communities; students and teachers developed a stronger environmental conscience, and a vision of how their schools and communities can become more sustainable, and resilient to climate change.\\n\"}, {\"url\": \"https://www.unesco.org/en/climate-change/education\", \"content\": \"To recovery and beyond:\\u00a0The report takes stock of the global progress on the adoption and implementation of legal guarantees on Access to Info\\nAddressing culture as a global public good\\nFor almost 75 years,\\u00a0the UNESCO Courier\\u00a0has served as a platform for international debates on issues that concern the entire pla\\nLifelong learning is key to overcoming global challenges and to achieving the Sustainable Development Goals.\\n The Value of water\\nGroundwater, making the invisible visible\\nUNESCO\\nBreadcrumb\\nClimate change education\\nClimate change education helps people understand and address the impacts of the climate crisis, empowering them with the knowledge, skills, values and attitudes needed to act as agents of change.\\n Getting every learner climate-ready\\nDiscover projects drawing on the energy and determination of citizens to bring about positive change\\nAn international initiative for climate change education\\nUNESCO Associated Schools 4 Climate\\nImplementing a whole-school approach to climate change: a pilot project of the UNESCO Associated Schools Network (ASPnet)\\nMore publications\\nRelated items Climate change education events at COP\\nUnited Nations Conference on Climate Change (COP)\\nConversations on climate change education for social transformation\\nOn the road to COP 28\\nUNESCO and UNFCCC are launching a series of conversations on climate change education for social transformation from May to December 2023.\\n Based on human rights and fundamental freedoms, the 2005 Convention ultimately provides\\u00a0a new framework for informed, transparent and\\nUNESCO\\u2019s e-Platform on intercultural dialogue is designed for organizations and individuals to learn from shared knowledge or experiences from infl\\nEstablished in 2002, the GEM Report is an editorially independent report, hosted and published by UNESCO.\\n\"}, {\"url\": \"https://unfccc.int/news/momentum-for-climate-education-continues-to-build\", \"content\": \"In addition, education means addressing inequalities, particularly for women and girls who are often disproportionally affected by the climate crisis. The International Day of Education is an opportunity to take a deeper look at why climate change education is so critical and how UN Climate Change is increasingly working with governments and ...\"}, {\"url\": \"https://www.un.org/en/climatechange/climate-solutions/education-key-addressing-climate-change\", \"content\": \"\\u201cVerified for Climate\\u201d champions: Communicating science and solutions\\nGustavo Figueiro\\u0302a, biologist and communications director at SOS Pantanal, and Habiba Abdulrahman, eco-fashion educator, introduce themselves as champions for \\u201cVerified for Climate,\\u201d a joint initiative of the United Nations and Purpose to stand up to climate disinformation and put an end to the narratives of denialism, doomism, and delay.\\n The World Metrological Organization (WMO) works closely with weather presenters who are committed to education and outreach on climate change and who have formed a new network\\u00a0Climate without Borders,\\u00a0which has a daily reach of approximately 375,000,000 people, and aims to \\u201ceducate, motivate and activate\\u201d weather presenters to reach out to their audiences armed with useful information.\\n The UN Framework Convention on Climate Change (UNFCCC) assigns responsibility to Parties of the Convention to undertake educational and public awareness campaigns on climate change, and to ensure public participation in programmes and information access on the issue.\\n This programme and other innovative educational initiatives, including the\\u00a0Global Action Programme (GAP),\\u00a0Action for Climate Empowerment\\u00a0and the\\u00a0ZOOM campaign, were presented and discussed at the\\u00a0COP 22.\\n In this context, UNICEF has tapped into the minds and imaginations of\\u00a0children around the world\\u00a0to capture what it means to be a child growing up in the age of rapid climate change.\\n\"}]]\n",
      "Step 3\n",
      "==================================\u001b[1m Ai Message \u001b[0m==================================\n",
      "Tool Calls:\n",
      "  ReviseAnswer (call_NJMyy54ixznMoHyLeoAYD2Nc)\n",
      " Call ID: call_NJMyy54ixznMoHyLeoAYD2Nc\n",
      "  Args:\n",
      "    answer: Addressing the climate crisis requires a multifaceted approach involving individuals, governments, businesses, and international cooperation. Actions include transitioning to renewable energy, sustainable practices in industries, green transportation, forest protection, and technology for carbon emissions reduction. Governments set policies to limit emissions, incentivize sustainability, and foster clean tech innovation. Businesses adopt eco-friendly practices and support green initiatives. Individuals change lifestyles, reduce energy use, and advocate for climate action. Global collaboration is crucial for emissions reduction and climate impact mitigation. Specific successful initiatives include indigenous community projects and urban climate actions. Education and awareness are vital in combating climate change, empowering people to act as change agents.\n",
      "    reflection: {'missing': 'The answer could be further enhanced by providing specific examples of successful climate initiatives and emphasizing the importance of education and awareness in combating the climate crisis.', 'superfluous': ''}\n",
      "    search_queries: ['successful climate initiatives examples', 'importance of education in climate crisis combat']\n",
      "    references: ['https://news.un.org/en/story/2022/04/1117122', 'https://unfccc.int/news/100-cases-of-successful-climate-action-in-cities', 'https://www.climatecouncil.org.au/10-award-winning-climate-action-initiatives-from-around-the-world', 'https://www.unesco.org/en/articles/how-can-education-strengthen-climate-action', 'https://www.unesco.org/en/climate-change/education', 'https://www.un.org/en/climatechange/climate-solutions/education-key-addressing-climate-change']\n",
      "Step 4\n",
      "=================================\u001b[1m Tool Message \u001b[0m=================================\n",
      "Name: ReviseAnswer\n",
      "\n",
      "[[{\"url\": \"https://www.weforum.org/agenda/2023/07/climate-crisis-positive-news-climate-action/\", \"content\": \"Why transparency in manufacturing is the game changer for the green transition\\nHilde Merete Aasheim\\nJanuary 11, 2024\\nHow to harness the collaborative potential of industrial clusters\\nCharles Pacini and Oxana Saimo\\nJanuary 11, 2024\\nThese projects prove partnership is key to scaling net-zero technology\\nKim Saaby Hedegaard\\nJanuary 11, 2024\\n These charts reveal why targeting energy demand is vital to addressing the climate crisis\\nVictoria Masterson\\nJanuary 11, 2024\\nAbout Us\\nEvents\\nMedia\\nMore from the Forum\\nPartners & Members\\nLanguage Editions\\nPrivacy Policy & Terms of Service\\n\\u00a9 2024 World Economic Forum More on Climate ChangeSee all\\nFor billions of people around the world, housing is the frontline in the fight against climate change\\nJonathan T.M. Reckford\\nJanuary 11, 2024\\n Image:\\u00a0Unsplash/Nuno Marques\\nListen to the article\\nWhat's the World Economic Forum doing about the transition to clean energy?\\n The Agenda Weekly\\nA weekly update of the most important issues driving the global agenda\\nYou can unsubscribe at any time using the link in our emails.\"}, {\"url\": \"https://unfccc.int/news/100-cases-of-successful-climate-action-in-cities\", \"content\": \"100 Cases of Successful Climate Action in Cities. As cities around the world look for ways to implement the Paris Declaration and meet the ambition of the UN Climate Change Conference (COP21), C40 is showcasing 100 real world examples of projects and approaches that have already proved successful in our member cities.\"}, {\"url\": \"https://www.climatecouncil.org.au/10-award-winning-climate-action-initiatives-from-around-the-world/\", \"content\": \"The Enabling Farmers to Adapt to Climate Change project uses a set of digital tools to collect, analyse and send out agricultural advisories, crop and livestock market information and weather data to Ugandan farmers. We wish to pay our respects to Elders past and present and recognise the continuous connection of Aboriginal and Torres Strait Islander people to land, water and Country.\\n The Planting Trees to Save the Mangrove initiative is run by women-led cooperatives in Guinea, who reduce the deforestation of mangrove wood and cut emissions by introducing solar driers to dry and smoke fish. The SELF (Solar Electric Light Fund) Solar Market Gardens project combines solar-powered pumps with drip irrigation systems to provide a reliable, cost-effective, renewable supply of water for the production of high-value, nutritious produce throughout the year, even during the dry season.\\n The United Nations\\u2019 Momentum for Change awards shine a light on some of the most innovative, scalable and replicable examples of what people around the world are doing to tackle climate change.\\n\"}, {\"url\": \"https://www.weforum.org/agenda/2024/01/10-actions-to-change-the-climate-course/\", \"content\": \"These charts reveal why targeting energy demand is vital to addressing the climate crisis\\nVictoria Masterson\\nJanuary 11, 2024\\nClimate facts that cut through the clutter: How one initiative is making science more accessible\\nRainn Wilson, Charles Tatham and Gail Whiteman\\nJanuary 11, 2024\\nAbout Us\\nEvents\\nMedia\\nMore from the Forum\\nPartners & Members\\nLanguage Editions\\nPrivacy Policy & Terms of Service\\n\\u00a9 2024 World Economic Forum Why transparency in manufacturing is the game changer for the green transition\\nHilde Merete Aasheim\\nJanuary 11, 2024\\nHow to harness the collaborative potential of industrial clusters\\nCharles Pacini and Oxana Saimo\\nJanuary 11, 2024\\nThese projects prove partnership is key to scaling net-zero technology\\nKim Saaby Hedegaard\\nJanuary 11, 2024\\n More on Climate ChangeSee all\\nThese are the top 3 climate risks we face \\u2014 and what to do about them\\nGill Einhorn\\nJanuary 11, 2024\\n Image:\\u00a0Shutterstock\\nHow is the World Economic Forum fighting the climate crisis?\\nCreate a free account and access your personalized content collection with our latest publications and analyses.\\n The Agenda Weekly\\nA weekly update of the most important issues driving the global agenda\\nYou can unsubscribe at any time using the link in our emails.\"}, {\"url\": \"https://news.un.org/en/story/2022/04/1117122\", \"content\": \"Helping Venezuelan indigenous families mitigate the degradation of the Amazon Forest\\nPuerto Ayacucho is the capital and largest city of the State of Amazonas in the south of Venezuela, its inhabitants include a number of local indigenous tribes, including the Yanomami, the Panare, the Bari, Piaroa and Guajibo (also known as Jibis).\\n Language\\nLanguage\\nMenu\\nLanguage\\nSearch\\nAudio and Subscription\\nSmall solutions, big impacts: 5 community-based projects tackling climate change\\nFacebook\\nTwitter\\nPrint\\nEmail\\nSmall solutions, big impacts: 5 community-based projects tackling climate change\\nThere are thousands of small-scale, community driven initiatives making a huge difference in people\\u2019s lives and contributing to efforts to curb global warming.\\n \\u201cWhen families pass on this knowledge, we make indigenous communities gain the necessary strength and confidence to face the conservation of their culture and their environment, organize the community for the production and marketing of their products in more select markets and contribute directly to creating a sustainable economy,\\u201d Kenia Martinez from Amazonas Originaria notes.\\n In visit to hurricane-ravaged Bahamas, UN chief calls for greater action to address climate change\\nRescue us from our environmental \\u2018mess\\u2019, UN chief urges Stockholm summit\\nClimate and weather related disasters surge five-fold over 50 years, but early warnings save lives - WMO report\\nNews Tracker: Past Stories on This Issue\\nEarth Day: 5 ways we\\u2019re working to heal our planet and combat climate change\\nInternational Mother Earth Day is a chance to reflect on how humanity has been treating our planet, and let\\u2019s face it: we\\u2019ve been poor custodians. And while a steady stream of IPCC reports has painted a legitimately worrying picture of the current state of the planet, don\\u2019t lose hope \\u2013 here's why: there are more innovative ideas for serious climate action than ever and around the world, people are working together on solutions to help repair the damage that\\u2019s been done to our fragile home.\\n\"}], [{\"url\": \"https://www.un.org/en/climatechange/climate-solutions/education-key-addressing-climate-change\", \"content\": \"\\u201cVerified for Climate\\u201d champions: Communicating science and solutions\\nGustavo Figueiro\\u0302a, biologist and communications director at SOS Pantanal, and Habiba Abdulrahman, eco-fashion educator, introduce themselves as champions for \\u201cVerified for Climate,\\u201d a joint initiative of the United Nations and Purpose to stand up to climate disinformation and put an end to the narratives of denialism, doomism, and delay.\\n The World Metrological Organization (WMO) works closely with weather presenters who are committed to education and outreach on climate change and who have formed a new network\\u00a0Climate without Borders,\\u00a0which has a daily reach of approximately 375,000,000 people, and aims to \\u201ceducate, motivate and activate\\u201d weather presenters to reach out to their audiences armed with useful information.\\n The UN Framework Convention on Climate Change (UNFCCC) assigns responsibility to Parties of the Convention to undertake educational and public awareness campaigns on climate change, and to ensure public participation in programmes and information access on the issue.\\n This programme and other innovative educational initiatives, including the\\u00a0Global Action Programme (GAP),\\u00a0Action for Climate Empowerment\\u00a0and the\\u00a0ZOOM campaign, were presented and discussed at the\\u00a0COP 22.\\n In this context, UNICEF has tapped into the minds and imaginations of\\u00a0children around the world\\u00a0to capture what it means to be a child growing up in the age of rapid climate change.\\n\"}, {\"url\": \"https://www.brookings.edu/articles/how-can-we-implement-education-for-climate-action-and-climate-justice/\", \"content\": \"Related Content\\nChristina Kwauk, \\t\\t\\t\\t\\t\\t\\t\\t\\t\\t\\t\\t\\t\\t\\t\\tOlivia Casey\\nJanuary 6, 2021\\nChristina Kwauk, \\t\\t\\t\\t\\t\\t\\t\\t\\t\\t\\t\\t\\t\\t\\t\\tLucia Fry\\nDecember 10, 2020\\nChristina Kwauk\\nSeptember 15, 2020\\nAuthors\\nEarly Childhood Education\\nK-12 Education\\nGlobal Economy and Development\\nCenter for Universal Education\\nBrookings Initiative on Climate Research and Action\\nBrahima Sangafowa Coulibaly, \\t\\t\\t\\t\\t\\t\\t\\t\\t\\t\\t\\t\\t\\t\\t\\tZia Qureshi, \\t\\t\\t\\t\\t\\t\\t\\t\\t\\t\\t\\t\\t\\t\\t\\tAloysius Uche Ordu, \\t\\t\\t\\t\\t\\t\\t\\t\\t\\t\\t\\t\\t\\t\\t\\tArushi Sharma, \\t\\t\\t\\t\\t\\t\\t\\t\\t\\t\\t\\t\\t\\t\\t\\tJennifer L. O\\u2019Donoghue, \\t\\t\\t\\t\\t\\t\\t\\t\\t\\t\\t\\t\\t\\t\\t\\tRebecca Winthrop, \\t\\t\\t\\t\\t\\t\\t\\t\\t\\t\\t\\t\\t\\t\\t\\tAlexandra Bracken, \\t\\t\\t\\t\\t\\t\\t\\t\\t\\t\\t\\t\\t\\t\\t\\tJohn W. McArthur\\nDecember 22, 2023\\nThinley Choden\\nDecember 4, 2023\\nThinley Choden\\nSeptember 13, 2023\\nGet the latest from Brookings\\nThe Brookings Institution is a nonprofit organization based in Washington, D.C. Anticipating this policy moment, the new Brookings report \\u201cA new green learning agenda: Approaches to quality education for climate action\\u201d provides decisionmakers with a heuristic to identify entry points to quality education for climate action based on the framing of the problem, the vision of the solution, or the most politically palatable education objective. While addressing the carbon footprint of education infrastructure is important (e.g., the energy efficiency of school buildings or food waste), the harder task at hand is to ensure that teaching and learning across all curricular areas of K-12, higher education, and career and technical education are oriented not just toward achieving climate literacy, but also toward climate action and climate justice.\\n Subscribe to Planet Policy\\nCommentary\\nHow can we implement education for climate action and climate justice?\\nJanuary 11, 2021\\nEarly Childhood Education\\t\\t\\t\\t\\t\\t\\t\\t\\t\\t\\t\\t\\t\\t\\t\\t\\tK-12 Education\\nGlobal Economy and Development\\nCenter for Universal Education\\nBrookings Initiative on Climate Research and Action\\n As discussions about climate change and education begin to shift from policy advocacy to policy implementation, stakeholders and leaders, including those in the Biden transition team, will be looking for resources and frameworks to diagnose, strategize, and plan for the urgent reorientation of their education systems to carbon neutrality and climate literacy.\"}, {\"url\": \"https://www.unesco.org/en/climate-change/education\", \"content\": \"To recovery and beyond:\\u00a0The report takes stock of the global progress on the adoption and implementation of legal guarantees on Access to Info\\nAddressing culture as a global public good\\nFor almost 75 years,\\u00a0the UNESCO Courier\\u00a0has served as a platform for international debates on issues that concern the entire pla\\nLifelong learning is key to overcoming global challenges and to achieving the Sustainable Development Goals.\\n The Value of water\\nGroundwater, making the invisible visible\\nUNESCO\\nBreadcrumb\\nClimate change education\\nClimate change education helps people understand and address the impacts of the climate crisis, empowering them with the knowledge, skills, values and attitudes needed to act as agents of change.\\n Getting every learner climate-ready\\nDiscover projects drawing on the energy and determination of citizens to bring about positive change\\nAn international initiative for climate change education\\nUNESCO Associated Schools 4 Climate\\nImplementing a whole-school approach to climate change: a pilot project of the UNESCO Associated Schools Network (ASPnet)\\nMore publications\\nRelated items Climate change education events at COP\\nUnited Nations Conference on Climate Change (COP)\\nConversations on climate change education for social transformation\\nOn the road to COP 28\\nUNESCO and UNFCCC are launching a series of conversations on climate change education for social transformation from May to December 2023.\\n Based on human rights and fundamental freedoms, the 2005 Convention ultimately provides\\u00a0a new framework for informed, transparent and\\nUNESCO\\u2019s e-Platform on intercultural dialogue is designed for organizations and individuals to learn from shared knowledge or experiences from infl\\nEstablished in 2002, the GEM Report is an editorially independent report, hosted and published by UNESCO.\\n\"}, {\"url\": \"https://www.unesco.org/en/articles/how-can-education-strengthen-climate-action\", \"content\": \"The February edition focused on Climate Change Education and addressed the following questions (watch back):\\nDuring the opening remarks, Ms Vibeke Jensen, Director of the Division for Peace and Sustainable Development at UNESCO shared her hopes for COP 26: \\u201cWe hope that on the occasion of COP 26 governments will be willing to commit to enhanced action on Education for Sustainable Development, and to strengthening the collaboration between the education and the environment sectors\\u201d.\\n To recovery and beyond:\\u00a0The report takes stock of the global progress on the adoption and implementation of legal guarantees on Access to Info\\nAddressing culture as a global public good\\nFor almost 75 years,\\u00a0the UNESCO Courier\\u00a0has served as a platform for international debates on issues that concern the entire pla\\nLifelong learning is key to overcoming global challenges and to achieving the Sustainable Development Goals.\\n She emphasized that the recovery from the COVID-19 crisis opens a chance to recover better by transitioning our social and economic models towards fair, inclusive and sustainable development: \\u201cWhile COVID-19 is one of the greatest challenges global economies have faced in modern times, recovery also opens an unprecedented window of hope and opportunity for nations to shape the 21st century economy in ways that are clean, green, healthy, safe and just \\u2013 for all people, especially in the most remote and vulnerable parts of the world.\\u201d\\n At the workshop, speakers addressed different aspects of Climate Action through Education, including the Action for Climate Empowerment international agenda, Climate Friendly Schools, Gender Equality and Curriculum.\\nEducation as a key element of climate action\\nMs Fleur Newman, Action Empowerment Unit Lead at the UNFCCC shared that Education has been recognized by the international community as a crucial element to counter climate change. In preparation of the Conference, UNESCO had been organizing a series of online workshops on the transformative power of Education for Sustainable Development for the world beyond COVID-19, in cooperation with the Federal Ministry of Education and Research of Germany and the German Commission for UNESCO.\"}, {\"url\": \"https://news.un.org/en/story/2020/03/1059151\", \"content\": \"Language\\nLanguage\\nMenu\\nLanguage\\nSearch\\nAudio and Subscription\\nClimate change: educating students to fight the crisis\\nFacebook\\nTwitter\\nPrint\\nEmail\\nClimate change: educating students to fight the crisis\\nWith the latest UN climate report containing worrying evidence that climate change is having a major effect on all aspects of the environment, how can teachers help children and adults to sort through the growing mass of information, avoid being overwhelmed, and come to an understanding of the challenges, and potential solutions, to what the UN Secretary-General has called \\u201can existential crisis\\u201d?\\n ASPnet\\nRelated Stories\\nUNESCO names 18 new Global Geoparks\\nEducate children in their mother tongue, urges UN rights expert\\nCOVID-19: UN and partners work to ensure learning never stops for young refugees\\nNews Tracker: Past Stories on This Issue\\nFlagship UN study shows accelerating climate change on land, sea and in the atmosphere\\nA wide-ranging UN climate report, released on Tuesday, shows that climate change is having a major effect on all aspects of the environment, as well as on the health and wellbeing of the global population.\\n Resources\\nButton collapse\\nSecretary-General\\nButton collapse\\nSpokesperson's Office\\nButton collapse\\nFind Us\\nButton collapse\\nFooter menu\\nSocial Media Links\\nFooter buttons\\nFacebook\\nTwitter\\nPrint\\nEmail Language and literature classes can help students to develop the communication skills needed to respond to local and global issues, mathematics students can produce graphs showing the change in school energy use, and civics students can interview local officials on the actions they are taking to address the problem.\\n Participating schools greened their premises, improving water, waste and energy management, and the overall health and well-being of school communities; students and teachers developed a stronger environmental conscience, and a vision of how their schools and communities can become more sustainable, and resilient to climate change.\\n\"}]]\n",
      "Step 5\n",
      "==================================\u001b[1m Ai Message \u001b[0m==================================\n",
      "Tool Calls:\n",
      "  ReviseAnswer (call_mQw7D26lvmk8UiMD4Pp2dpJO)\n",
      " Call ID: call_mQw7D26lvmk8UiMD4Pp2dpJO\n",
      "  Args:\n",
      "    answer: Addressing the climate crisis requires a multifaceted approach involving individuals, governments, businesses, and international cooperation. Actions include transitioning to renewable energy, sustainable practices in industries, green transportation, forest protection, and technology for carbon emissions reduction. Governments set policies to limit emissions, incentivize sustainability, and foster clean tech innovation. Businesses adopt eco-friendly practices and support green initiatives. Individuals change lifestyles, reduce energy use, and advocate for climate action. Global collaboration is crucial for emissions reduction and climate impact mitigation. Specific successful initiatives include indigenous community projects and urban climate actions. Education and awareness are vital in combating climate change, empowering people to act as change agents.\n",
      "    reflection: {'missing': 'The answer could be further enhanced by providing specific examples of successful climate initiatives and emphasizing the importance of education and awareness in combating the climate crisis.', 'superfluous': ''}\n",
      "    search_queries: ['successful climate initiatives examples', 'importance of education in climate crisis combat']\n",
      "    references: ['https://news.un.org/en/story/2022/04/1117122', 'https://unfccc.int/news/100-cases-of-successful-climate-action-in-cities', 'https://www.climatecouncil.org.au/10-award-winning-climate-action-initiatives-from-around-the-world', 'https://www.unesco.org/en/articles/how-can-education-strengthen-climate-action', 'https://www.unesco.org/en/climate-change/education', 'https://www.un.org/en/climatechange/climate-solutions/education-key-addressing-climate-change']\n",
      "Step 6\n",
      "=================================\u001b[1m Tool Message \u001b[0m=================================\n",
      "Name: ReviseAnswer\n",
      "\n",
      "[[{\"url\": \"https://unfccc.int/news/winners-of-the-2018-un-climate-action-award-announced\", \"content\": \"The Momentum for Change initiative, spearheaded by the UN Climate Change secretariat, shines light on some of the most practical examples of what people are doing to combat climate change. ... big and small, are successful in tackling climate change. Activities range from a mobile app that promotes the fight against food waste and hunger ...\"}, {\"url\": \"https://www.weforum.org/agenda/2024/01/10-actions-to-change-the-climate-course/\", \"content\": \"These charts reveal why targeting energy demand is vital to addressing the climate crisis\\nVictoria Masterson\\nJanuary 11, 2024\\nClimate facts that cut through the clutter: How one initiative is making science more accessible\\nRainn Wilson, Charles Tatham and Gail Whiteman\\nJanuary 11, 2024\\nAbout Us\\nEvents\\nMedia\\nMore from the Forum\\nPartners & Members\\nLanguage Editions\\nPrivacy Policy & Terms of Service\\n\\u00a9 2024 World Economic Forum Why transparency in manufacturing is the game changer for the green transition\\nHilde Merete Aasheim\\nJanuary 11, 2024\\nHow to harness the collaborative potential of industrial clusters\\nCharles Pacini and Oxana Saimo\\nJanuary 11, 2024\\nThese projects prove partnership is key to scaling net-zero technology\\nKim Saaby Hedegaard\\nJanuary 11, 2024\\n More on Climate ChangeSee all\\nThese are the top 3 climate risks we face \\u2014 and what to do about them\\nGill Einhorn\\nJanuary 11, 2024\\n Image:\\u00a0Shutterstock\\nHow is the World Economic Forum fighting the climate crisis?\\nCreate a free account and access your personalized content collection with our latest publications and analyses.\\n The Agenda Weekly\\nA weekly update of the most important issues driving the global agenda\\nYou can unsubscribe at any time using the link in our emails.\"}, {\"url\": \"https://www.climatecouncil.org.au/10-award-winning-climate-action-initiatives-from-around-the-world/\", \"content\": \"The Enabling Farmers to Adapt to Climate Change project uses a set of digital tools to collect, analyse and send out agricultural advisories, crop and livestock market information and weather data to Ugandan farmers. We wish to pay our respects to Elders past and present and recognise the continuous connection of Aboriginal and Torres Strait Islander people to land, water and Country.\\n The Planting Trees to Save the Mangrove initiative is run by women-led cooperatives in Guinea, who reduce the deforestation of mangrove wood and cut emissions by introducing solar driers to dry and smoke fish. The SELF (Solar Electric Light Fund) Solar Market Gardens project combines solar-powered pumps with drip irrigation systems to provide a reliable, cost-effective, renewable supply of water for the production of high-value, nutritious produce throughout the year, even during the dry season.\\n The United Nations\\u2019 Momentum for Change awards shine a light on some of the most innovative, scalable and replicable examples of what people around the world are doing to tackle climate change.\\n\"}, {\"url\": \"https://news.un.org/en/story/2022/04/1117122\", \"content\": \"Helping Venezuelan indigenous families mitigate the degradation of the Amazon Forest\\nPuerto Ayacucho is the capital and largest city of the State of Amazonas in the south of Venezuela, its inhabitants include a number of local indigenous tribes, including the Yanomami, the Panare, the Bari, Piaroa and Guajibo (also known as Jibis).\\n Language\\nLanguage\\nMenu\\nLanguage\\nSearch\\nAudio and Subscription\\nSmall solutions, big impacts: 5 community-based projects tackling climate change\\nFacebook\\nTwitter\\nPrint\\nEmail\\nSmall solutions, big impacts: 5 community-based projects tackling climate change\\nThere are thousands of small-scale, community driven initiatives making a huge difference in people\\u2019s lives and contributing to efforts to curb global warming.\\n \\u201cWhen families pass on this knowledge, we make indigenous communities gain the necessary strength and confidence to face the conservation of their culture and their environment, organize the community for the production and marketing of their products in more select markets and contribute directly to creating a sustainable economy,\\u201d Kenia Martinez from Amazonas Originaria notes.\\n In visit to hurricane-ravaged Bahamas, UN chief calls for greater action to address climate change\\nRescue us from our environmental \\u2018mess\\u2019, UN chief urges Stockholm summit\\nClimate and weather related disasters surge five-fold over 50 years, but early warnings save lives - WMO report\\nNews Tracker: Past Stories on This Issue\\nEarth Day: 5 ways we\\u2019re working to heal our planet and combat climate change\\nInternational Mother Earth Day is a chance to reflect on how humanity has been treating our planet, and let\\u2019s face it: we\\u2019ve been poor custodians. And while a steady stream of IPCC reports has painted a legitimately worrying picture of the current state of the planet, don\\u2019t lose hope \\u2013 here's why: there are more innovative ideas for serious climate action than ever and around the world, people are working together on solutions to help repair the damage that\\u2019s been done to our fragile home.\\n\"}, {\"url\": \"https://unfccc.int/news/100-cases-of-successful-climate-action-in-cities\", \"content\": \"100 Cases of Successful Climate Action in Cities. As cities around the world look for ways to implement the Paris Declaration and meet the ambition of the UN Climate Change Conference (COP21), C40 is showcasing 100 real world examples of projects and approaches that have already proved successful in our member cities. Eleven new C40 Good ...\"}], [{\"url\": \"https://www.unesco.org/en/articles/how-can-education-strengthen-climate-action\", \"content\": \"The February edition focused on Climate Change Education and addressed the following questions (watch back):\\nDuring the opening remarks, Ms Vibeke Jensen, Director of the Division for Peace and Sustainable Development at UNESCO shared her hopes for COP 26: \\u201cWe hope that on the occasion of COP 26 governments will be willing to commit to enhanced action on Education for Sustainable Development, and to strengthening the collaboration between the education and the environment sectors\\u201d.\\n To recovery and beyond:\\u00a0The report takes stock of the global progress on the adoption and implementation of legal guarantees on Access to Info\\nAddressing culture as a global public good\\nFor almost 75 years,\\u00a0the UNESCO Courier\\u00a0has served as a platform for international debates on issues that concern the entire pla\\nLifelong learning is key to overcoming global challenges and to achieving the Sustainable Development Goals.\\n She emphasized that the recovery from the COVID-19 crisis opens a chance to recover better by transitioning our social and economic models towards fair, inclusive and sustainable development: \\u201cWhile COVID-19 is one of the greatest challenges global economies have faced in modern times, recovery also opens an unprecedented window of hope and opportunity for nations to shape the 21st century economy in ways that are clean, green, healthy, safe and just \\u2013 for all people, especially in the most remote and vulnerable parts of the world.\\u201d\\n At the workshop, speakers addressed different aspects of Climate Action through Education, including the Action for Climate Empowerment international agenda, Climate Friendly Schools, Gender Equality and Curriculum.\\nEducation as a key element of climate action\\nMs Fleur Newman, Action Empowerment Unit Lead at the UNFCCC shared that Education has been recognized by the international community as a crucial element to counter climate change. In preparation of the Conference, UNESCO had been organizing a series of online workshops on the transformative power of Education for Sustainable Development for the world beyond COVID-19, in cooperation with the Federal Ministry of Education and Research of Germany and the German Commission for UNESCO.\"}, {\"url\": \"https://news.un.org/en/story/2020/03/1059151\", \"content\": \"Language\\nLanguage\\nMenu\\nLanguage\\nSearch\\nAudio and Subscription\\nClimate change: educating students to fight the crisis\\nFacebook\\nTwitter\\nPrint\\nEmail\\nClimate change: educating students to fight the crisis\\nWith the latest UN climate report containing worrying evidence that climate change is having a major effect on all aspects of the environment, how can teachers help children and adults to sort through the growing mass of information, avoid being overwhelmed, and come to an understanding of the challenges, and potential solutions, to what the UN Secretary-General has called \\u201can existential crisis\\u201d?\\n ASPnet\\nRelated Stories\\nUNESCO names 18 new Global Geoparks\\nEducate children in their mother tongue, urges UN rights expert\\nCOVID-19: UN and partners work to ensure learning never stops for young refugees\\nNews Tracker: Past Stories on This Issue\\nFlagship UN study shows accelerating climate change on land, sea and in the atmosphere\\nA wide-ranging UN climate report, released on Tuesday, shows that climate change is having a major effect on all aspects of the environment, as well as on the health and wellbeing of the global population.\\n Resources\\nButton collapse\\nSecretary-General\\nButton collapse\\nSpokesperson's Office\\nButton collapse\\nFind Us\\nButton collapse\\nFooter menu\\nSocial Media Links\\nFooter buttons\\nFacebook\\nTwitter\\nPrint\\nEmail Language and literature classes can help students to develop the communication skills needed to respond to local and global issues, mathematics students can produce graphs showing the change in school energy use, and civics students can interview local officials on the actions they are taking to address the problem.\\n Participating schools greened their premises, improving water, waste and energy management, and the overall health and well-being of school communities; students and teachers developed a stronger environmental conscience, and a vision of how their schools and communities can become more sustainable, and resilient to climate change.\\n\"}, {\"url\": \"https://www.un.org/en/climatechange/climate-solutions/education-key-addressing-climate-change\", \"content\": \"\\u201cVerified for Climate\\u201d champions: Communicating science and solutions\\nGustavo Figueiro\\u0302a, biologist and communications director at SOS Pantanal, and Habiba Abdulrahman, eco-fashion educator, introduce themselves as champions for \\u201cVerified for Climate,\\u201d a joint initiative of the United Nations and Purpose to stand up to climate disinformation and put an end to the narratives of denialism, doomism, and delay.\\n The World Metrological Organization (WMO) works closely with weather presenters who are committed to education and outreach on climate change and who have formed a new network\\u00a0Climate without Borders,\\u00a0which has a daily reach of approximately 375,000,000 people, and aims to \\u201ceducate, motivate and activate\\u201d weather presenters to reach out to their audiences armed with useful information.\\n The UN Framework Convention on Climate Change (UNFCCC) assigns responsibility to Parties of the Convention to undertake educational and public awareness campaigns on climate change, and to ensure public participation in programmes and information access on the issue.\\n This programme and other innovative educational initiatives, including the\\u00a0Global Action Programme (GAP),\\u00a0Action for Climate Empowerment\\u00a0and the\\u00a0ZOOM campaign, were presented and discussed at the\\u00a0COP 22.\\n In this context, UNICEF has tapped into the minds and imaginations of\\u00a0children around the world\\u00a0to capture what it means to be a child growing up in the age of rapid climate change.\\n\"}, {\"url\": \"https://www.unesco.org/en/climate-change/education\", \"content\": \"To recovery and beyond:\\u00a0The report takes stock of the global progress on the adoption and implementation of legal guarantees on Access to Info\\nAddressing culture as a global public good\\nFor almost 75 years,\\u00a0the UNESCO Courier\\u00a0has served as a platform for international debates on issues that concern the entire pla\\nLifelong learning is key to overcoming global challenges and to achieving the Sustainable Development Goals.\\n The Value of water\\nGroundwater, making the invisible visible\\nUNESCO\\nBreadcrumb\\nClimate change education\\nClimate change education helps people understand and address the impacts of the climate crisis, empowering them with the knowledge, skills, values and attitudes needed to act as agents of change.\\n Getting every learner climate-ready\\nDiscover projects drawing on the energy and determination of citizens to bring about positive change\\nAn international initiative for climate change education\\nUNESCO Associated Schools 4 Climate\\nImplementing a whole-school approach to climate change: a pilot project of the UNESCO Associated Schools Network (ASPnet)\\nMore publications\\nRelated items Climate change education events at COP\\nUnited Nations Conference on Climate Change (COP)\\nConversations on climate change education for social transformation\\nOn the road to COP 28\\nUNESCO and UNFCCC are launching a series of conversations on climate change education for social transformation from May to December 2023.\\n Based on human rights and fundamental freedoms, the 2005 Convention ultimately provides\\u00a0a new framework for informed, transparent and\\nUNESCO\\u2019s e-Platform on intercultural dialogue is designed for organizations and individuals to learn from shared knowledge or experiences from infl\\nEstablished in 2002, the GEM Report is an editorially independent report, hosted and published by UNESCO.\\n\"}, {\"url\": \"https://www.brookings.edu/articles/how-can-we-implement-education-for-climate-action-and-climate-justice/\", \"content\": \"Related Content\\nChristina Kwauk, \\t\\t\\t\\t\\t\\t\\t\\t\\t\\t\\t\\t\\t\\t\\t\\tOlivia Casey\\nJanuary 6, 2021\\nChristina Kwauk, \\t\\t\\t\\t\\t\\t\\t\\t\\t\\t\\t\\t\\t\\t\\t\\tLucia Fry\\nDecember 10, 2020\\nChristina Kwauk\\nSeptember 15, 2020\\nAuthors\\nEarly Childhood Education\\nK-12 Education\\nGlobal Economy and Development\\nCenter for Universal Education\\nBrookings Initiative on Climate Research and Action\\nBrahima Sangafowa Coulibaly, \\t\\t\\t\\t\\t\\t\\t\\t\\t\\t\\t\\t\\t\\t\\t\\tZia Qureshi, \\t\\t\\t\\t\\t\\t\\t\\t\\t\\t\\t\\t\\t\\t\\t\\tAloysius Uche Ordu, \\t\\t\\t\\t\\t\\t\\t\\t\\t\\t\\t\\t\\t\\t\\t\\tArushi Sharma, \\t\\t\\t\\t\\t\\t\\t\\t\\t\\t\\t\\t\\t\\t\\t\\tJennifer L. O\\u2019Donoghue, \\t\\t\\t\\t\\t\\t\\t\\t\\t\\t\\t\\t\\t\\t\\t\\tRebecca Winthrop, \\t\\t\\t\\t\\t\\t\\t\\t\\t\\t\\t\\t\\t\\t\\t\\tAlexandra Bracken, \\t\\t\\t\\t\\t\\t\\t\\t\\t\\t\\t\\t\\t\\t\\t\\tJohn W. McArthur\\nDecember 22, 2023\\nThinley Choden\\nDecember 4, 2023\\nThinley Choden\\nSeptember 13, 2023\\nGet the latest from Brookings\\nThe Brookings Institution is a nonprofit organization based in Washington, D.C. Anticipating this policy moment, the new Brookings report \\u201cA new green learning agenda: Approaches to quality education for climate action\\u201d provides decisionmakers with a heuristic to identify entry points to quality education for climate action based on the framing of the problem, the vision of the solution, or the most politically palatable education objective. While addressing the carbon footprint of education infrastructure is important (e.g., the energy efficiency of school buildings or food waste), the harder task at hand is to ensure that teaching and learning across all curricular areas of K-12, higher education, and career and technical education are oriented not just toward achieving climate literacy, but also toward climate action and climate justice.\\n Subscribe to Planet Policy\\nCommentary\\nHow can we implement education for climate action and climate justice?\\nJanuary 11, 2021\\nEarly Childhood Education\\t\\t\\t\\t\\t\\t\\t\\t\\t\\t\\t\\t\\t\\t\\t\\t\\tK-12 Education\\nGlobal Economy and Development\\nCenter for Universal Education\\nBrookings Initiative on Climate Research and Action\\n As discussions about climate change and education begin to shift from policy advocacy to policy implementation, stakeholders and leaders, including those in the Biden transition team, will be looking for resources and frameworks to diagnose, strategize, and plan for the urgent reorientation of their education systems to carbon neutrality and climate literacy.\"}]]\n",
      "Step 7\n",
      "==================================\u001b[1m Ai Message \u001b[0m==================================\n",
      "Tool Calls:\n",
      "  ReviseAnswer (call_ag1Db41oYp3vd5VoxHhNdK4x)\n",
      " Call ID: call_ag1Db41oYp3vd5VoxHhNdK4x\n",
      "  Args:\n",
      "    answer: Addressing the climate crisis requires a multifaceted approach involving individuals, governments, businesses, and international cooperation. Actions include transitioning to renewable energy, sustainable practices in industries, green transportation, forest protection, and technology for carbon emissions reduction. Governments set policies to limit emissions, incentivize sustainability, and foster clean tech innovation. Businesses adopt eco-friendly practices and support green initiatives. Individuals change lifestyles, reduce energy use, and advocate for climate action. Global collaboration is crucial for emissions reduction and climate impact mitigation. Specific successful initiatives include indigenous community projects and urban climate actions. Education and awareness are vital in combating climate change, empowering people to act as change agents.\n",
      "    reflection: {'missing': 'The answer could be further enhanced by providing specific examples of successful climate initiatives and emphasizing the importance of education and awareness in combating the climate crisis.', 'superfluous': ''}\n",
      "    search_queries: ['successful climate initiatives examples', 'importance of education in climate crisis combat']\n",
      "    references: ['https://news.un.org/en/story/2022/04/1117122', 'https://unfccc.int/news/100-cases-of-successful-climate-action-in-cities', 'https://www.climatecouncil.org.au/10-award-winning-climate-action-initiatives-from-around-the-world', 'https://www.unesco.org/en/articles/how-can-education-strengthen-climate-action', 'https://www.unesco.org/en/climate-change/education', 'https://www.un.org/en/climatechange/climate-solutions/education-key-addressing-climate-change']\n"
     ]
    }
   ],
   "source": [
    "events = graph.stream(\n",
    "    [HumanMessage(content=\"How should we handle the climate crisis?\")],\n",
    "    stream_mode=\"values\",\n",
    ")\n",
    "for i, step in enumerate(events):\n",
    "    print(f\"Step {i}\")\n",
    "    step[-1].pretty_print()"
   ]
  },
  {
   "cell_type": "code",
   "execution_count": null,
   "metadata": {},
   "outputs": [],
   "source": []
  },
  {
   "cell_type": "code",
   "execution_count": null,
   "metadata": {},
   "outputs": [],
   "source": []
  },
  {
   "cell_type": "code",
   "execution_count": null,
   "metadata": {},
   "outputs": [],
   "source": []
  },
  {
   "cell_type": "code",
   "execution_count": null,
   "metadata": {},
   "outputs": [],
   "source": []
  },
  {
   "cell_type": "code",
   "execution_count": null,
   "metadata": {},
   "outputs": [],
   "source": []
  },
  {
   "cell_type": "code",
   "execution_count": null,
   "metadata": {},
   "outputs": [],
   "source": []
  }
 ],
 "metadata": {
  "kernelspec": {
   "display_name": "Python 3",
   "language": "python",
   "name": "python3"
  },
  "language_info": {
   "codemirror_mode": {
    "name": "ipython",
    "version": 3
   },
   "file_extension": ".py",
   "mimetype": "text/x-python",
   "name": "python",
   "nbconvert_exporter": "python",
   "pygments_lexer": "ipython3",
   "version": "3.10.0"
  }
 },
 "nbformat": 4,
 "nbformat_minor": 2
}
