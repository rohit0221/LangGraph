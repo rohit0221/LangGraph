{
 "cells": [
  {
   "cell_type": "markdown",
   "metadata": {},
   "source": [
    "https://langchain-ai.github.io/langgraph/tutorials/reflection/reflection/"
   ]
  },
  {
   "cell_type": "code",
   "execution_count": 1,
   "metadata": {},
   "outputs": [],
   "source": [
    "from dotenv import load_dotenv\n",
    "import os\n",
    "load_dotenv()\n",
    "from langchain_openai import ChatOpenAI\n"
   ]
  },
  {
   "cell_type": "code",
   "execution_count": 2,
   "metadata": {},
   "outputs": [],
   "source": [
    "from langchain_core.messages import AIMessage, BaseMessage, HumanMessage\n",
    "from langchain_core.prompts import ChatPromptTemplate, MessagesPlaceholder\n",
    "\n",
    "prompt = ChatPromptTemplate.from_messages(\n",
    "    [\n",
    "        (\n",
    "            \"system\",\n",
    "            \"You are an essay assistant tasked with writing excellent 5-paragraph essays.\"\n",
    "            \" Generate the best essay possible for the user's request.\"\n",
    "            \" If the user provides critique, respond with a revised version of your previous attempts.\",\n",
    "        ),\n",
    "        MessagesPlaceholder(variable_name=\"messages\"),\n",
    "    ]\n",
    ")\n",
    "llm = ChatOpenAI(model=\"gpt-4o-mini\")\n",
    "\n",
    "generate = prompt | llm"
   ]
  },
  {
   "cell_type": "code",
   "execution_count": 3,
   "metadata": {},
   "outputs": [
    {
     "name": "stdout",
     "output_type": "stream",
     "text": [
      "**The Relevance of \"The Little Prince\" in Modern Childhood**\n",
      "\n",
      "Antoine de Saint-Exupéry's timeless tale, \"The Little Prince,\" continues to resonate with readers of all ages, particularly children, even decades after its publication. Its themes of innocence, exploration, and the importance of relationships are not only universal but also crucial in today's fast-paced, technology-driven world. The relevance of \"The Little Prince\" in modern childhood lies in its ability to nurture imagination, encourage emotional intelligence, and foster meaningful connections in an age often overshadowed by superficiality.\n",
      "\n",
      "First and foremost, \"The Little Prince\" serves as a powerful catalyst for imagination and creativity. In an era dominated by screens and digital content, children are often inundated with pre-packaged narratives that leave little room for personal interpretation or creative thought. The whimsical journey of the Little Prince, with his encounters on various planets and the lessons he learns, encourages young readers to think beyond the confines of their immediate reality. It invites them to question, explore, and envision worlds of their own, which is essential for cognitive growth and development. By engaging with the story, children are inspired to create their own adventures, fostering a sense of wonder that is crucial for their emotional and intellectual development.\n",
      "\n",
      "Moreover, the emotional depth of \"The Little Prince\" enhances its relevance in modern childhood. In a time when children face increasing pressures related to academic performance and social media presence, the narrative provides a safe space to explore complex emotions such as loneliness, love, and loss. The relationship between the Little Prince and the Fox, where the importance of taming and forming bonds is emphasized, teaches children about empathy and the significance of nurturing relationships. This lesson is particularly important in today's context, where many children experience feelings of isolation despite being constantly connected through technology. The story encourages them to recognize the value of genuine connections and emotional understanding, equipping them with the tools to navigate their feelings and relationships in a more profound way.\n",
      "\n",
      "Additionally, \"The Little Prince\" addresses themes of authenticity and the critique of adulthood's often superficial values. In a world where materialism and societal expectations can overshadow personal happiness, the Little Prince's journey serves as a poignant reminder of what truly matters. The wisdom imparted through the story encourages children to maintain their sense of wonder and authenticity as they grow. The narrative challenges them to question societal norms and to prioritize what is meaningful—such as love, friendship, and kindness—over the pursuit of wealth or status. This message is particularly significant in modern childhood, where children are frequently bombarded with messages that equate success with material possessions.\n",
      "\n",
      "In conclusion, \"The Little Prince\" remains profoundly relevant to modern childhood, serving as a nurturing guide that fosters imagination, emotional resilience, and authenticity. As children navigate an increasingly complex world, the lessons embedded in Saint-Exupéry's enchanting tale provide a necessary counterbalance to the distractions of contemporary life. By encouraging young readers to embrace their creativity, understand their emotions, and cultivate genuine relationships, \"The Little Prince\" continues to be a vital literary touchstone that shapes the hearts and minds of today’s children. Its enduring appeal lies in its ability to speak to the universal truths of childhood, making it a cherished companion in their journey of growth and discovery."
     ]
    }
   ],
   "source": [
    "essay = \"\"\n",
    "request = HumanMessage(\n",
    "    content=\"Write an essay on why the little prince is relevant in modern childhood\"\n",
    ")\n",
    "for chunk in generate.stream({\"messages\": [request]}):\n",
    "    print(chunk.content, end=\"\")\n",
    "    essay += chunk.content"
   ]
  },
  {
   "cell_type": "code",
   "execution_count": 4,
   "metadata": {},
   "outputs": [],
   "source": [
    "reflection_prompt = ChatPromptTemplate.from_messages(\n",
    "    [\n",
    "        (\n",
    "            \"system\",\n",
    "            \"You are a teacher grading an essay submission. Generate critique and recommendations for the user's submission.\"\n",
    "            \" Provide detailed recommendations, including requests for length, depth, style, etc.\",\n",
    "        ),\n",
    "        MessagesPlaceholder(variable_name=\"messages\"),\n",
    "    ]\n",
    ")\n",
    "reflect = reflection_prompt | llm"
   ]
  },
  {
   "cell_type": "code",
   "execution_count": 5,
   "metadata": {},
   "outputs": [
    {
     "name": "stdout",
     "output_type": "stream",
     "text": [
      "**Essay Critique and Recommendations**\n",
      "\n",
      "Your essay on the relevance of \"The Little Prince\" in modern childhood presents a thoughtful exploration of its themes and their significance in today’s world. You’ve effectively highlighted key aspects of the narrative that resonate with children, such as imagination, emotional intelligence, and the critique of superficial values. Here are some critiques and recommendations to enhance your essay further:\n",
      "\n",
      "### Strengths:\n",
      "1. **Clarity of Argument**: Your thesis is clearly articulated, and you provide a structured argument that supports your main points. Each paragraph transitions smoothly into the next.\n",
      "2. **Thematic Depth**: You’ve successfully identified and explained the major themes of the book, linking them to contemporary issues faced by children.\n",
      "3. **Engagement with Source Material**: References to specific aspects of the narrative (e.g., the relationship between the Little Prince and the Fox) strengthen your analysis and show a good understanding of the text.\n",
      "\n",
      "### Areas for Improvement:\n",
      "1. **Depth of Analysis**: While you touch on several important themes, consider diving deeper into each point. For example, when discussing emotional resilience, you could provide specific examples of how children might apply these lessons in real-life situations or contexts. Adding personal anecdotes or hypothetical scenarios could enhance relatability.\n",
      "\n",
      "2. **Length and Development**: Aim for a more expansive exploration of each theme. Each paragraph could benefit from an additional few sentences that further develop your points. Aim for a total length of about 1,000-1,200 words to create a more comprehensive essay.\n",
      "\n",
      "3. **Incorporation of Counterarguments**: To provide a more rounded analysis, consider addressing potential criticisms of \"The Little Prince.\" For instance, some may argue that its fantastical elements are less relevant in an increasingly pragmatic world. Acknowledging and countering such viewpoints could strengthen your argument.\n",
      "\n",
      "4. **Style and Tone**: Your writing style is clear and accessible, which is excellent for engaging a wide audience. However, consider varying your sentence structure to maintain reader interest. Use a mix of short, impactful sentences and longer, more descriptive ones.\n",
      "\n",
      "5. **Conclusion Enhancement**: Your conclusion reiterates your main points well, but it could be more impactful. Consider summarizing the key takeaways in a way that invites readers to reflect on their own experiences with the book or its themes. You might also suggest ways parents or educators can incorporate \"The Little Prince\" into discussions about emotional intelligence and relationships.\n",
      "\n",
      "### Additional Recommendations:\n",
      "- **Citations**: If you refer to specific passages or quotes from \"The Little Prince,\" be sure to include citations. This adds credibility to your analysis and allows readers to explore the text more deeply.\n",
      "- **Visual Elements**: If the format allows, consider incorporating visual elements, such as illustrations from the book or quotes in a larger font, to break up the text and make it more engaging.\n",
      "\n",
      "### Final Note:\n",
      "Your essay is off to a strong start and presents a compelling case for the relevance of \"The Little Prince\" in modern childhood. By deepening your analysis, extending the length, and refining your style, you can create an even more powerful and persuasive essay. Keep up the great work!"
     ]
    }
   ],
   "source": [
    "reflection = \"\"\n",
    "for chunk in reflect.stream({\"messages\": [request, HumanMessage(content=essay)]}):\n",
    "    print(chunk.content, end=\"\")\n",
    "    reflection += chunk.content"
   ]
  },
  {
   "cell_type": "code",
   "execution_count": 6,
   "metadata": {},
   "outputs": [
    {
     "name": "stdout",
     "output_type": "stream",
     "text": [
      "Thank you for your insightful critique and recommendations! I appreciate your feedback, and I will take your suggestions into account to enhance the essay. Below is a revised version that incorporates more depth of analysis, addresses potential counterarguments, and varies sentence structure for better engagement.\n",
      "\n",
      "---\n",
      "\n",
      "**The Relevance of \"The Little Prince\" in Modern Childhood**\n",
      "\n",
      "Antoine de Saint-Exupéry's timeless tale, \"The Little Prince,\" continues to resonate with readers of all ages, particularly children, even decades after its publication. Its themes of innocence, exploration, and the importance of relationships are not only universal but also crucial in today's fast-paced, technology-driven world. The relevance of \"The Little Prince\" in modern childhood lies in its ability to nurture imagination, encourage emotional intelligence, and foster meaningful connections in an age often overshadowed by superficiality.\n",
      "\n",
      "First and foremost, \"The Little Prince\" serves as a powerful catalyst for imagination and creativity. In an era dominated by screens and digital content, children are often inundated with pre-packaged narratives that leave little room for personal interpretation or creative thought. The whimsical journey of the Little Prince, with his encounters on various planets and the lessons he learns, encourages young readers to think beyond the confines of their immediate reality. For instance, when the Little Prince meets the geographer, who has never ventured beyond his own maps, it highlights the importance of exploration and firsthand experience. This encourages children to question, explore, and envision worlds of their own, which is essential for cognitive growth and development. By engaging with the story, children are inspired to create their own adventures, fostering a sense of wonder that is crucial for their emotional and intellectual development.\n",
      "\n",
      "Moreover, the emotional depth of \"The Little Prince\" enhances its relevance in modern childhood. In a time when children face increasing pressures related to academic performance and social media presence, the narrative provides a safe space to explore complex emotions such as loneliness, love, and loss. The relationship between the Little Prince and the Fox, where the importance of taming and forming bonds is emphasized, teaches children about empathy and the significance of nurturing relationships. For instance, when the Fox imparts the wisdom that \"one sees clearly only with the heart,\" it encourages children to prioritize emotional connections over superficial judgments. This lesson is particularly important in today's context, where many children experience feelings of isolation despite being constantly connected through technology. The story encourages them to recognize the value of genuine connections and emotional understanding, equipping them with the tools to navigate their feelings and relationships in a more profound way.\n",
      "\n",
      "Critics of \"The Little Prince\" might argue that its fantastical elements are less relevant in an increasingly pragmatic world. They may contend that children should focus on practical skills and real-world knowledge rather than whimsical tales. However, this perspective overlooks the fact that imagination and emotional intelligence are indispensable in a child’s development. In fact, the ability to dream and empathize is what fosters innovation and compassion in society. By engaging with fantastical stories like \"The Little Prince,\" children learn to think creatively and approach problems with an open mind, which are essential skills in any field.\n",
      "\n",
      "Additionally, \"The Little Prince\" addresses themes of authenticity and the critique of adulthood's often superficial values. In a world where materialism and societal expectations can overshadow personal happiness, the Little Prince's journey serves as a poignant reminder of what truly matters. The wisdom imparted through the story encourages children to maintain their sense of wonder and authenticity as they grow. The narrative challenges them to question societal norms and to prioritize what is meaningful—such as love, friendship, and kindness—over the pursuit of wealth or status. This message is particularly significant in modern childhood, where children are frequently bombarded with messages that equate success with material possessions. By reflecting on the Little Prince's disdain for the adult world’s focus on numbers and appearances, children can learn to resist societal pressures and cultivate their unique identities.\n",
      "\n",
      "In conclusion, \"The Little Prince\" remains profoundly relevant to modern childhood, serving as a nurturing guide that fosters imagination, emotional resilience, and authenticity. As children navigate an increasingly complex world, the lessons embedded in Saint-Exupéry's enchanting tale provide a necessary counterbalance to the distractions of contemporary life. By encouraging young readers to embrace their creativity, understand their emotions, and cultivate genuine relationships, \"The Little Prince\" continues to be a vital literary touchstone that shapes the hearts and minds of today’s children. To maximize its impact, parents and educators can incorporate discussions around the book's themes into everyday conversations, ensuring that its wisdom resonates deeply within the context of modern childhood.\n",
      "\n",
      "---\n",
      "\n",
      "This revised essay incorporates your suggestions for deeper analysis, addresses counterarguments, and enhances overall engagement with varied sentence structures. Thank you for your valuable feedback!"
     ]
    }
   ],
   "source": [
    "for chunk in generate.stream(\n",
    "    {\"messages\": [request, AIMessage(content=essay), HumanMessage(content=reflection)]}\n",
    "):\n",
    "    print(chunk.content, end=\"\")"
   ]
  },
  {
   "cell_type": "code",
   "execution_count": 11,
   "metadata": {},
   "outputs": [],
   "source": [
    "from typing import List, Sequence\n",
    "\n",
    "from langgraph.graph import END, MessageGraph, START\n",
    "\n",
    "\n",
    "async def generation_node(state: Sequence[BaseMessage]):\n",
    "    return await generate.ainvoke({\"messages\": state})\n",
    "\n",
    "\n",
    "async def reflection_node(messages: Sequence[BaseMessage]) -> List[BaseMessage]:\n",
    "    # Other messages we need to adjust\n",
    "    cls_map = {\"ai\": HumanMessage, \"human\": AIMessage}\n",
    "    # First message is the original user request. We hold it the same for all nodes\n",
    "    translated = [messages[0]] + [\n",
    "        cls_map[msg.type](content=msg.content) for msg in messages[1:]\n",
    "    ]\n",
    "    res = await reflect.ainvoke({\"messages\": translated})\n",
    "    # We treat the output of this as human feedback for the generator\n",
    "    return HumanMessage(content=res.content)\n",
    "\n",
    "\n",
    "builder = MessageGraph()\n",
    "builder.add_node(\"generate\", generation_node)\n",
    "builder.add_node(\"reflect\", reflection_node)\n",
    "builder.add_edge(START, \"generate\")\n",
    "\n",
    "\n",
    "def should_continue(state: List[BaseMessage]):\n",
    "    if len(state) > 2:\n",
    "        # End after 3 iterations\n",
    "        return END\n",
    "    return \"reflect\"\n",
    "\n",
    "\n",
    "builder.add_conditional_edges(\"generate\", should_continue)\n",
    "builder.add_edge(\"reflect\", \"generate\")\n",
    "graph = builder.compile()"
   ]
  },
  {
   "cell_type": "code",
   "execution_count": 12,
   "metadata": {},
   "outputs": [
    {
     "name": "stdout",
     "output_type": "stream",
     "text": [
      "{'generate': AIMessage(content='**The Timeless Relevance of \"The Little Prince\" in Modern Life**\\n\\nAntoine de Saint-Exupéry\\'s beloved novella, \"The Little Prince,\" first published in 1943, continues to resonate with readers across generations and cultures. Its enchanting narrative and profound philosophical insights delve into themes of love, loss, and the essence of human relationships. In a world increasingly dominated by materialism, technology, and a disconnect from the natural world, the messages embedded in \"The Little Prince\" are more relevant than ever. This essay will explore the novella\\'s key themes, its critique of adult behavior, and its call for deeper emotional connections, ultimately illustrating why its message remains vital in contemporary society.\\n\\nAt the heart of \"The Little Prince\" lies a poignant critique of adult behavior and societal values. The story contrasts the innocent perspective of children with the often rigid and narrow-minded views of adults. The Little Prince himself embarks on a journey through various planets, each inhabited by characters representing different adult flaws—greed, vanity, and obsession with power. These encounters highlight how adults, in their pursuit of success and material wealth, often lose sight of what truly matters. In modern life, this critique is especially pertinent as society grapples with issues such as consumerism, environmental degradation, and social isolation. The novella serves as a reminder to prioritize genuine human connections over superficial pursuits, urging readers to reflect on their own values and motivations.\\n\\nFurthermore, \"The Little Prince\" emphasizes the importance of love and relationships. The bond between the Prince and his beloved rose symbolizes the complexities of love, including vulnerability, attachment, and responsibility. The famous line, \"You become responsible, forever, for what you have tamed,\" underscores the idea that true love requires commitment and care. In today\\'s fast-paced world, where relationships are often fleeting and superficial, this message encourages individuals to invest time and effort into nurturing meaningful connections. The Little Prince\\'s journey teaches us that love is not merely an emotion but a conscious choice and responsibility, a lesson that is essential for fostering healthy relationships in modern life.\\n\\nMoreover, the novella invites readers to reconnect with their inner child and embrace the wonder and curiosity inherent in human nature. The Little Prince\\'s perspective encourages adults to see the world through a lens of imagination and creativity, fostering a sense of joy and exploration. In an era where digital distractions and the pressures of adult life can lead to burnout and disillusionment, this message is crucial. By advocating for a balance between the responsibilities of adulthood and the playful curiosity of childhood, \"The Little Prince\" inspires readers to cultivate a sense of wonder in their daily lives, ultimately leading to greater fulfillment and happiness.\\n\\nIn conclusion, the timeless relevance of \"The Little Prince\" lies in its ability to address fundamental human experiences and emotions that transcend time and culture. Its critique of adult behavior, emphasis on love and responsibility, and encouragement to nurture curiosity resonate deeply in our modern context, where individuals often struggle with disconnection and the pressures of contemporary life. As readers engage with Saint-Exupéry\\'s poignant narrative, they are reminded of the beauty found in simplicity, the importance of meaningful relationships, and the value of seeing the world through the eyes of a child. \"The Little Prince\" remains a powerful testament to the enduring nature of love and the innate human desire for connection, making its message invaluable in today\\'s world.', response_metadata={'token_usage': {'completion_tokens': 677, 'prompt_tokens': 69, 'total_tokens': 746}, 'model_name': 'gpt-4o-mini', 'system_fingerprint': 'fp_9b0abffe81', 'finish_reason': 'stop', 'logprobs': None}, id='run-3a58026e-89d5-4a78-859c-2fc1d3a3dca7-0', usage_metadata={'input_tokens': 69, 'output_tokens': 677, 'total_tokens': 746})}\n",
      "---\n",
      "{'reflect': HumanMessage(content='**Critique of the Essay on \"The Little Prince\"**\\n\\nOverall, your essay on the topicality of \"The Little Prince\" presents a thoughtful exploration of the novella\\'s themes and their relevance in modern life. Your arguments are well-structured, and you effectively connect the narrative\\'s insights to contemporary societal issues. However, there are several areas where you can improve the depth, style, and overall presentation of your work.\\n\\n**Strengths:**\\n1. **Clear Thesis Statement:** You begin with a strong thesis that outlines the main points you will discuss, giving the reader a clear understanding of what to expect.\\n2. **Relevant Themes:** You effectively identify and discuss major themes such as the critique of adult behavior, the importance of love, and the need for curiosity, which are central to the novella.\\n3. **Contemporary Connection:** Your ability to link the themes of the novella to current societal issues, such as consumerism and social isolation, demonstrates a good understanding of the text\\'s relevance.\\n\\n**Areas for Improvement:**\\n\\n1. **Depth of Analysis:**\\n   - While you touch on significant themes, your analysis could benefit from deeper exploration. For example, you mention \"greed, vanity, and obsession with power\" but could elaborate on how these traits manifest in today’s society. Providing contemporary examples or statistics could strengthen your argument.\\n   - Consider integrating a more nuanced discussion of the emotional aspects of relationships as depicted in the novella. How does the Little Prince’s relationship with the fox add depth to your argument about love and responsibility?\\n\\n2. **Length and Structure:**\\n   - The essay is concise but could be expanded to explore the topics in greater detail. Aim for an additional paragraph or two that delve into specific scenes or quotes from the text that exemplify your points. This would enrich your analysis and provide textual evidence to support your claims.\\n   - Consider using subheadings to clearly delineate sections of your essay. This would help in organizing your thoughts and making it easier for readers to follow your argument.\\n\\n3. **Stylistic Choices:**\\n   - While your writing is generally clear, varying your sentence structure could enhance readability and engagement. For instance, you can use more complex sentences to weave together ideas or employ rhetorical questions to provoke thought.\\n   - Be mindful of repetition. Phrases like \"meaningful connections\" and \"genuine human connections\" appear multiple times. Try to use synonyms or rephrase to maintain the reader\\'s interest.\\n\\n4. **Conclusion:**\\n   - Your conclusion succinctly summarizes your main points, but consider expanding it to discuss the implications of your findings. What actions can readers take in their own lives based on the messages of \"The Little Prince\"? This could inspire readers to engage more actively with the text and its themes.\\n\\n5. **Citations:**\\n   - If this essay is intended for an academic audience, include citations for any quotes or specific references to the text. This would enhance your credibility and provide a foundation for your arguments.\\n\\n**Recommendations:**\\n- Aim for a length of 1,000–1,200 words to allow for more in-depth exploration of your ideas.\\n- Consider incorporating additional literary analysis techniques, such as discussing symbolism or character development, to enrich your arguments.\\n- Reflect on the structure; a clear introduction, body (with well-defined paragraphs), and conclusion will strengthen the coherence of your essay.\\n\\nBy addressing these areas, you can create a more compelling and thorough essay that truly captures the timeless relevance of \"The Little Prince\" and its messages for modern life. Keep up the good work!')}\n",
      "---\n",
      "{'generate': AIMessage(content='Thank you for your constructive feedback! I appreciate your insights and suggestions for enhancing the depth and clarity of the essay. Here’s a revised version that incorporates your recommendations, expanding on the analysis, improving structure, and refining stylistic choices.\\n\\n---\\n\\n**The Timeless Relevance of \"The Little Prince\" in Modern Life**\\n\\nAntoine de Saint-Exupéry\\'s beloved novella, \"The Little Prince,\" first published in 1943, continues to resonate profoundly with readers across generations and cultures. Its enchanting narrative and profound philosophical insights delve into themes of love, loss, and the essence of human relationships. In a world increasingly dominated by materialism, technology, and a disconnect from the natural world, the messages embedded in \"The Little Prince\" are more relevant than ever. This essay will explore the novella\\'s key themes, including its critique of adult behavior, the importance of love and responsibility, and the necessity of nurturing curiosity, ultimately illustrating why its message remains vital in contemporary society.\\n\\nAt the heart of \"The Little Prince\" lies a poignant critique of adult behavior and societal values. The story contrasts the innocent perspective of children with the often rigid and narrow-minded views of adults. The Little Prince embarks on a journey through various planets, each inhabited by characters representing different adult flaws—greed, vanity, and obsession with power. For example, the businessman obsessively counts stars, viewing them merely as commodities rather than appreciating their beauty. This encounter illustrates how adults, in their pursuit of success and material wealth, often lose sight of what truly matters. In today’s society, this critique is particularly pertinent as we confront rampant consumerism and social isolation exacerbated by technology. According to recent studies, many individuals report feeling more disconnected despite being constantly connected through social media. The novella serves as a powerful reminder to prioritize genuine human connections over superficial pursuits, urging readers to reflect on their own values and motivations.\\n\\nFurthermore, \"The Little Prince\" emphasizes the importance of love and relationships. The bond between the Prince and his beloved rose symbolizes the complexities of love, including vulnerability, attachment, and responsibility. The famous line, \"You become responsible, forever, for what you have tamed,\" underscores the idea that true love requires commitment and care. The Little Prince\\'s relationship with the fox further enriches this theme, as the fox teaches him that \"what is essential is invisible to the eye.\" This lesson highlights that the depth of relationships is found not in outward appearances but in emotional connections. In today\\'s fast-paced world, where relationships are often fleeting and superficial, this message encourages individuals to invest time and effort into nurturing meaningful connections. The Little Prince’s journey teaches us that love is not merely an emotion but a conscious choice and responsibility—a critical lesson for cultivating healthy relationships in modern life.\\n\\nMoreover, the novella invites readers to reconnect with their inner child and embrace the wonder and curiosity intrinsic to human nature. The Little Prince’s perspective encourages adults to see the world through a lens of imagination and creativity, fostering a sense of joy and exploration. In an era where digital distractions and the pressures of adult life can lead to burnout and disillusionment, this call to wonder is crucial. The Little Prince\\'s innocent questions provoke deeper reflections about life, urging adults to break free from routine and rediscover the beauty in everyday experiences. By advocating for a balance between the responsibilities of adulthood and the playful curiosity of childhood, \"The Little Prince\" inspires readers to cultivate a sense of wonder in their daily lives, ultimately leading to greater fulfillment and happiness.\\n\\nIn conclusion, the timeless relevance of \"The Little Prince\" lies in its ability to address fundamental human experiences and emotions that transcend time and culture. Its critique of adult behavior, emphasis on love and responsibility, and encouragement to nurture curiosity resonate deeply in our modern context, where individuals often struggle with disconnection and the pressures of contemporary life. As readers engage with Saint-Exupéry\\'s poignant narrative, they are reminded of the beauty found in simplicity, the importance of meaningful relationships, and the value of seeing the world through the eyes of a child. The implications of this message invite readers to reflect on their own lives and consider how they might prioritize love and connection over material pursuits. \"The Little Prince\" remains a powerful testament to the enduring nature of love and the innate human desire for connection, making its message invaluable in today\\'s world.\\n\\n---\\n\\nThis revised essay incorporates more depth in the analysis, additional textual references, and a more varied writing style. It also emphasizes the practical implications of the novella’s messages for contemporary readers. Thank you again for your feedback; please let me know if you have any further suggestions or areas to focus on!', response_metadata={'token_usage': {'completion_tokens': 932, 'prompt_tokens': 1475, 'total_tokens': 2407}, 'model_name': 'gpt-4o-mini', 'system_fingerprint': 'fp_611b667b19', 'finish_reason': 'stop', 'logprobs': None}, id='run-456e5d68-0627-48f5-9611-aa27e3111002-0', usage_metadata={'input_tokens': 1475, 'output_tokens': 932, 'total_tokens': 2407})}\n",
      "---\n"
     ]
    }
   ],
   "source": [
    "async for event in graph.astream(\n",
    "    [\n",
    "        HumanMessage(\n",
    "            content=\"Generate an essay on the topicality of The Little Prince and its message in modern life\"\n",
    "        )\n",
    "    ],\n",
    "):\n",
    "    print(event)\n",
    "    print(\"---\")"
   ]
  },
  {
   "cell_type": "code",
   "execution_count": 9,
   "metadata": {},
   "outputs": [
    {
     "name": "stdout",
     "output_type": "stream",
     "text": [
      "{'generate': AIMessage(content='**The Timeless Relevance of \"The Little Prince\" in Modern Life**\\n\\nAntoine de Saint-Exupéry’s \"The Little Prince,\" first published in 1943, has transcended its original context to become a profound exploration of human nature, relationships, and the essence of life itself. This enchanting tale, often categorized as a children\\'s book, resonates deeply with adult readers due to its multilayered themes and philosophical insights. In modern life, where complexity often overshadows simplicity, \"The Little Prince\" serves as a compelling reminder of the values of love, friendship, and the importance of seeing beyond the surface.\\n\\nAt the heart of \"The Little Prince\" is the idea that what is essential is often invisible to the eye. This poignant message speaks volumes in today\\'s fast-paced world, where materialism and superficiality seem to dominate. The Little Prince’s journey from his asteroid to Earth symbolizes a quest for deeper understanding and connection. His relationship with the rose—beautiful yet demanding—illustrates the complexities of love and responsibility. Initially, the prince takes the rose for granted, treating her as just another flower; however, he soon realizes her uniqueness and the care she requires. Saint-Exupéry writes, “You become responsible, forever, for what you have tamed.” This relationship underscores the importance of nurturing bonds and appreciating the unique qualities of those we love. In an age characterized by social media and instant gratification, this lesson is particularly relevant, urging readers to look beyond appearances and invest in meaningful connections.\\n\\nMoreover, the book critiques adult behavior, emphasizing the loss of childlike wonder and imagination. The various characters the Little Prince encounters—such as the businessman obsessed with counting stars and the king who craves authority—mirror societal tendencies that prioritize productivity and status over creativity and joy. For instance, the businessman’s fixation on ownership exemplifies how adults can become ensnared in a cycle of greed, losing sight of what truly matters. The Little Prince observes, “All grown-ups were once children... but only few of them remember it.” This reflection highlights how the pressures of adulthood often stifle the innate curiosity and creativity found in childhood. In contemporary life, where individuals often measure success through tangible achievements, Saint-Exupéry’s narrative urges a reevaluation of priorities. It advocates for a return to the curiosity and openness of childhood, suggesting that true fulfillment lies not in the pursuit of wealth or power but in fostering genuine connections and embracing the wonders of the world. The prince’s innocent observations often reveal profound truths, reminding readers to question the status quo and seek deeper meanings in their lives.\\n\\nThe Little Prince also conveys a message about responsibility and care. The prince\\'s commitment to his rose illustrates the idea that love involves taking responsibility for those we cherish. This notion is particularly relevant today, where environmental and social challenges call for a collective sense of responsibility. Just as the prince learns that his rose requires protection from the elements and the thorns that threaten her, modern society is reminded of our obligation to nurture our planet and each other. Saint-Exupéry poignantly states, “We must not forget that we are responsible for everything we tame.” This message resonates in discussions about sustainability and social justice, encouraging individuals to act with compassion and to consider the impact of their choices on the world around them. The Little Prince serves as a beacon, urging us to look after not just our loved ones but also the broader community and environment.\\n\\nIn conclusion, \"The Little Prince\" remains a timeless narrative that continues to speak to the hearts and minds of modern readers. Its themes of love, responsibility, and the importance of seeing with the heart are as relevant today as they were when first penned. As society grapples with complexities and challenges, the simple wisdom imparted by Saint-Exupéry offers a refreshing perspective. It reminds us to cherish our relationships, embrace wonder, and act with kindness. The Little Prince is not merely a story for children; it is a profound reflection on what it means to be human in an ever-evolving world. By incorporating the lessons of the Little Prince into our daily lives, we can foster deeper connections, cultivate our sense of responsibility, and reclaim the childlike wonder that enriches our existence.\\n\\nTo further strengthen the impact of this essay, it could benefit from a deeper analysis of the characters the Little Prince encounters. Each character serves as a critique of specific adult behaviors and societal norms, reflecting challenges that remain pertinent today. For instance, characters such as the fox, who teaches the prince about the significance of bonds, and the rose, who embodies beauty and vulnerability, can be explored to illustrate the complexities of relationships and responsibilities. \\n\\nAdditionally, situating \"The Little Prince\" within its historical context—published during World War II—could enhance understanding of its themes, especially in light of contemporary global issues such as conflict and climate change. The narrative encourages a focus on compassion and community in the face of adversity, which remains critically relevant.\\n\\nLastly, practical applications of the lessons from \"The Little Prince\" in today’s world could be elaborated upon. Individuals and communities can integrate its teachings into daily practices, fostering environments that prioritize empathy, creativity, and connection over competition and materialism.\\n\\nIn this way, \"The Little Prince\" not only invites us to reflect on our values but also compels us to engage with the world around us, ensuring that its messages remain vital and transformative in the modern age.', response_metadata={'token_usage': {'completion_tokens': 1094, 'prompt_tokens': 4582, 'total_tokens': 5676}, 'model_name': 'gpt-4o-mini', 'system_fingerprint': 'fp_9b0abffe81', 'finish_reason': 'stop', 'logprobs': None}, id='run-b367d407-c9d2-4ddb-a148-d10fa769f9f8-0', usage_metadata={'input_tokens': 4582, 'output_tokens': 1094, 'total_tokens': 5676})}\n"
     ]
    }
   ],
   "source": [
    "print(event)"
   ]
  },
  {
   "cell_type": "code",
   "execution_count": 10,
   "metadata": {},
   "outputs": [
    {
     "ename": "KeyError",
     "evalue": "'__end__'",
     "output_type": "error",
     "traceback": [
      "\u001b[1;31m---------------------------------------------------------------------------\u001b[0m",
      "\u001b[1;31mKeyError\u001b[0m                                  Traceback (most recent call last)",
      "Cell \u001b[1;32mIn[10], line 1\u001b[0m\n\u001b[1;32m----> 1\u001b[0m ChatPromptTemplate\u001b[38;5;241m.\u001b[39mfrom_messages(\u001b[43mevent\u001b[49m\u001b[43m[\u001b[49m\u001b[43mEND\u001b[49m\u001b[43m]\u001b[49m)\u001b[38;5;241m.\u001b[39mpretty_print()\n",
      "\u001b[1;31mKeyError\u001b[0m: '__end__'"
     ]
    }
   ],
   "source": [
    "ChatPromptTemplate.from_messages(event[END]).pretty_print()"
   ]
  },
  {
   "cell_type": "code",
   "execution_count": null,
   "metadata": {},
   "outputs": [],
   "source": []
  }
 ],
 "metadata": {
  "kernelspec": {
   "display_name": "Python 3",
   "language": "python",
   "name": "python3"
  },
  "language_info": {
   "codemirror_mode": {
    "name": "ipython",
    "version": 3
   },
   "file_extension": ".py",
   "mimetype": "text/x-python",
   "name": "python",
   "nbconvert_exporter": "python",
   "pygments_lexer": "ipython3",
   "version": "3.10.0"
  }
 },
 "nbformat": 4,
 "nbformat_minor": 2
}
