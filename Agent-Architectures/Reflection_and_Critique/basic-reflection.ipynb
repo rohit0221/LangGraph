{
 "cells": [
  {
   "cell_type": "markdown",
   "metadata": {},
   "source": [
    "https://langchain-ai.github.io/langgraph/tutorials/reflection/reflection/"
   ]
  },
  {
   "cell_type": "code",
   "execution_count": 1,
   "metadata": {},
   "outputs": [],
   "source": [
    "from dotenv import load_dotenv\n",
    "import os\n",
    "load_dotenv()\n",
    "from langchain_openai import ChatOpenAI\n"
   ]
  },
  {
   "cell_type": "code",
   "execution_count": 2,
   "metadata": {},
   "outputs": [],
   "source": [
    "from langchain_core.messages import AIMessage, BaseMessage, HumanMessage\n",
    "from langchain_core.prompts import ChatPromptTemplate, MessagesPlaceholder\n",
    "from langchain_fireworks import ChatFireworks\n",
    "\n",
    "prompt = ChatPromptTemplate.from_messages(\n",
    "    [\n",
    "        (\n",
    "            \"system\",\n",
    "            \"You are an essay assistant tasked with writing excellent 5-paragraph essays.\"\n",
    "            \" Generate the best essay possible for the user's request.\"\n",
    "            \" If the user provides critique, respond with a revised version of your previous attempts.\",\n",
    "        ),\n",
    "        MessagesPlaceholder(variable_name=\"messages\"),\n",
    "    ]\n",
    ")\n",
    "llm = ChatOpenAI(model=\"gpt-3.5-turbo\")\n",
    "\n",
    "generate = prompt | llm"
   ]
  },
  {
   "cell_type": "code",
   "execution_count": 3,
   "metadata": {},
   "outputs": [
    {
     "name": "stdout",
     "output_type": "stream",
     "text": [
      "\"The Little Prince\" by Antoine de Saint-Exupéry is a timeless classic that continues to resonate with readers, especially in modern childhood. This enchanting tale offers valuable life lessons and insights that are still relevant today, making it a significant piece of literature for children in the contemporary world.\n",
      "\n",
      "Firstly, one of the reasons why \"The Little Prince\" remains relevant in modern childhood is its exploration of the importance of imagination and creativity. In today's fast-paced and technology-driven society, children are often consumed by gadgets and electronic devices, leaving little room for imaginative play. The Little Prince's whimsical adventures and vivid imagination serve as a reminder of the power of creativity and the magic of seeing the world through a child's eyes.\n",
      "\n",
      "Moreover, the themes of friendship and human connection depicted in the story are timeless and continue to be relevant in today's society. In an increasingly digital world, where social media often substitutes for real human interaction, \"The Little Prince\" emphasizes the significance of forming genuine connections and the value of relationships based on understanding, empathy, and emotional depth.\n",
      "\n",
      "Additionally, the Little Prince's encounters with various characters from different planets highlight the importance of tolerance, acceptance, and open-mindedness. In a world that is becoming more diverse and interconnected, teaching children about empathy, respect for others, and the beauty of diversity is essential. The Little Prince's ability to see beyond appearances and appreciate the uniqueness of each individual serves as a powerful lesson for children in the modern world.\n",
      "\n",
      "Furthermore, the themes of love, loss, and the transient nature of life explored in the story are universally relevant and poignant, even in today's context. Children are not immune to the complexities of human emotions, and \"The Little Prince\" delicately navigates these themes in a way that is accessible and thought-provoking for young readers.\n",
      "\n",
      "In conclusion, \"The Little Prince\" endures as a beloved classic because of its timeless themes, profound wisdom, and enduring charm that continue to captivate readers, especially in modern childhood. Through its enchanting narrative and enduring lessons, this beloved tale remains as relevant today as it was when it was first published, making it a valuable and essential read for children in the contemporary world."
     ]
    }
   ],
   "source": [
    "essay = \"\"\n",
    "request = HumanMessage(\n",
    "    content=\"Write an essay on why the little prince is relevant in modern childhood\"\n",
    ")\n",
    "for chunk in generate.stream({\"messages\": [request]}):\n",
    "    print(chunk.content, end=\"\")\n",
    "    essay += chunk.content"
   ]
  },
  {
   "cell_type": "code",
   "execution_count": 4,
   "metadata": {},
   "outputs": [],
   "source": [
    "reflection_prompt = ChatPromptTemplate.from_messages(\n",
    "    [\n",
    "        (\n",
    "            \"system\",\n",
    "            \"You are a teacher grading an essay submission. Generate critique and recommendations for the user's submission.\"\n",
    "            \" Provide detailed recommendations, including requests for length, depth, style, etc.\",\n",
    "        ),\n",
    "        MessagesPlaceholder(variable_name=\"messages\"),\n",
    "    ]\n",
    ")\n",
    "reflect = reflection_prompt | llm"
   ]
  },
  {
   "cell_type": "code",
   "execution_count": 5,
   "metadata": {},
   "outputs": [
    {
     "name": "stdout",
     "output_type": "stream",
     "text": [
      "Your essay on why \"The Little Prince\" is relevant in modern childhood is insightful and well-structured. You have effectively highlighted key themes from the book and connected them to contemporary issues faced by children today. Here are some recommendations to further enhance your essay:\n",
      "\n",
      "1. **Provide Specific Examples:** While you have touched upon important themes from the book, consider including specific examples or scenes from \"The Little Prince\" to support your arguments. This will help illustrate how the themes manifest in the story and make your points more compelling.\n",
      "\n",
      "2. **Expand on the Impact:** You could delve deeper into how the lessons from \"The Little Prince\" can positively impact children in today's world. For instance, elaborate on how fostering imagination and creativity can benefit children's cognitive development and problem-solving skills in the digital age.\n",
      "\n",
      "3. **Include Counterarguments:** To strengthen your essay, consider addressing potential counterarguments that may challenge the relevance of \"The Little Prince\" in modern childhood. By acknowledging differing perspectives, you can present a more well-rounded analysis of the book's significance.\n",
      "\n",
      "4. **Discuss Cultural Relevance:** Explore how the cultural context of \"The Little Prince\" contributes to its relevance in modern childhood. Consider discussing how the universal themes of the book transcend time and resonate with children across different cultures and backgrounds.\n",
      "\n",
      "5. **Expand the Conclusion:** Your conclusion effectively summarizes your points, but consider expanding it to reinforce the enduring impact of \"The Little Prince\" on children's literature. You could also suggest ways in which educators and parents can incorporate the book's lessons into children's lives today.\n",
      "\n",
      "6. **Length and Depth:** While your essay is concise and focused, consider expanding on each point to provide more depth and analysis. This will allow you to explore the themes more thoroughly and engage readers with a more comprehensive discussion.\n",
      "\n",
      "Overall, your essay effectively articulates why \"The Little Prince\" remains relevant in modern childhood. By incorporating specific examples, addressing counterarguments, and expanding on the impact of the book's themes, you can further enhance your analysis and provide a more comprehensive exploration of its significance for children today. Great job!"
     ]
    }
   ],
   "source": [
    "reflection = \"\"\n",
    "for chunk in reflect.stream({\"messages\": [request, HumanMessage(content=essay)]}):\n",
    "    print(chunk.content, end=\"\")\n",
    "    reflection += chunk.content"
   ]
  },
  {
   "cell_type": "code",
   "execution_count": 6,
   "metadata": {},
   "outputs": [
    {
     "name": "stdout",
     "output_type": "stream",
     "text": [
      "\"The Little Prince\" by Antoine de Saint-Exupéry continues to hold relevance in modern childhood due to its timeless themes and profound insights that resonate with young readers. This beloved tale offers valuable lessons that are essential for children growing up in today's world.\n",
      "\n",
      "One of the key themes in \"The Little Prince\" is the importance of imagination and creativity. For example, when the Little Prince describes his encounters with various characters on different planets, such as the conceited man and the king, it highlights the power of imagination in understanding the complexities of human nature. In a digital age where children are often glued to screens, fostering imagination through storytelling and creative play can help enhance cognitive development and problem-solving skills.\n",
      "\n",
      "Furthermore, the book emphasizes the significance of human connection and empathy, which are vital in today's interconnected world. The Little Prince's friendship with the fox teaches children about the value of forming meaningful relationships based on mutual understanding and care. In a society where virtual connections often replace genuine human interactions, the lessons of empathy and emotional depth from the story are particularly relevant for children navigating their social landscapes.\n",
      "\n",
      "While some may argue that \"The Little Prince\" is a product of its time and may not directly address modern technological challenges faced by children, its underlying themes of love, loss, and the transient nature of life remain universal and timeless. By exploring these themes through the Little Prince's encounters and adventures, children can develop a deeper appreciation for the emotional complexities of human relationships and the beauty of life's fleeting moments.\n",
      "\n",
      "In conclusion, \"The Little Prince\" continues to be a significant literary work for children in modern childhood, offering valuable lessons on imagination, empathy, and the human experience. By incorporating specific examples from the book, addressing counterarguments, and exploring its cultural relevance, it becomes evident that the timeless wisdom of \"The Little Prince\" transcends generations and remains a poignant and relevant read for children today. Educators and parents can leverage the profound themes of the book to nurture children's emotional intelligence, foster creativity, and cultivate empathy in a rapidly changing world."
     ]
    }
   ],
   "source": [
    "for chunk in generate.stream(\n",
    "    {\"messages\": [request, AIMessage(content=essay), HumanMessage(content=reflection)]}\n",
    "):\n",
    "    print(chunk.content, end=\"\")"
   ]
  },
  {
   "cell_type": "code",
   "execution_count": 7,
   "metadata": {},
   "outputs": [],
   "source": [
    "from typing import List, Sequence\n",
    "\n",
    "from langgraph.graph import END, MessageGraph\n",
    "\n",
    "\n",
    "async def generation_node(state: Sequence[BaseMessage]):\n",
    "    return await generate.ainvoke({\"messages\": state})\n",
    "\n",
    "\n",
    "async def reflection_node(messages: Sequence[BaseMessage]) -> List[BaseMessage]:\n",
    "    # Other messages we need to adjust\n",
    "    cls_map = {\"ai\": HumanMessage, \"human\": AIMessage}\n",
    "    # First message is the original user request. We hold it the same for all nodes\n",
    "    translated = [messages[0]] + [\n",
    "        cls_map[msg.type](content=msg.content) for msg in messages[1:]\n",
    "    ]\n",
    "    res = await reflect.ainvoke({\"messages\": translated})\n",
    "    # We treat the output of this as human feedback for the generator\n",
    "    return HumanMessage(content=res.content)\n",
    "\n",
    "\n",
    "builder = MessageGraph()\n",
    "builder.add_node(\"generate\", generation_node)\n",
    "builder.add_node(\"reflect\", reflection_node)\n",
    "builder.set_entry_point(\"generate\")\n",
    "\n",
    "\n",
    "def should_continue(state: List[BaseMessage]):\n",
    "    if len(state) > 2:\n",
    "        # End after 3 iterations\n",
    "        return END\n",
    "    return \"reflect\"\n",
    "\n",
    "\n",
    "builder.add_conditional_edges(\"generate\", should_continue)\n",
    "builder.add_edge(\"reflect\", \"generate\")\n",
    "graph = builder.compile()"
   ]
  },
  {
   "cell_type": "code",
   "execution_count": 8,
   "metadata": {},
   "outputs": [
    {
     "name": "stdout",
     "output_type": "stream",
     "text": [
      "{'generate': AIMessage(content='\"The Little Prince\" by Antoine de Saint-Exupéry is a timeless classic that continues to resonate with readers of all ages due to its profound messages and themes that are still relevant in modern life. The novella, first published in 1943, tells the story of a young prince who travels from planet to planet, meeting various characters and learning important life lessons along the way. The book\\'s enduring topicality can be attributed to its exploration of universal themes such as love, friendship, loneliness, and the complexities of human nature.\\n\\nOne of the central messages of \"The Little Prince\" that remains pertinent in today\\'s society is the importance of seeing beyond the surface and valuing what truly matters in life. In a world that often prioritizes material wealth and success, the little prince\\'s interactions with characters like the vain rose and the greedy businessman serve as a poignant reminder of the emptiness of such pursuits. The prince\\'s emphasis on cultivating meaningful connections and cherishing the beauty of the intangible speaks to the modern reader\\'s longing for authenticity and genuine human connection in an increasingly digital and superficial world.\\n\\nFurthermore, the novella\\'s exploration of the nature of relationships and the complexities of communication is highly relevant in the context of modern life. Through the prince\\'s encounters with characters like the fox, who teaches him the value of taming and forming bonds, readers are reminded of the transformative power of empathy, understanding, and emotional intimacy. In an age marked by social media and virtual interactions, the little prince\\'s quest for emotional connection and his ability to see with the heart rather than just the eyes offer a profound commentary on the importance of empathy and human connection in fostering meaningful relationships.\\n\\nMoreover, \"The Little Prince\" addresses the theme of innocence and the loss thereof, which is particularly poignant in today\\'s fast-paced and often cynical world. The little prince\\'s pure and childlike perspective challenges the jaded adults he encounters, prompting reflection on the loss of wonder and imagination that often accompanies the transition to adulthood. In an era marked by disillusionment and societal pressures, the prince\\'s unwavering belief in the power of imagination and the importance of holding onto one\\'s inner child serves as a powerful reminder of the value of innocence, curiosity, and wonder in navigating the complexities of modern life.\\n\\nIn conclusion, \"The Little Prince\" endures as a timeless and relevant work of literature due to its exploration of universal themes and its poignant messages that continue to resonate with readers in modern life. Through its profound meditations on love, friendship, human nature, and the pursuit of meaning and authenticity, the novella offers valuable insights and lessons that remain as pertinent today as they were when it was first published. By encouraging readers to see with their hearts, cherish meaningful connections, and hold onto their inner childlike wonder, \"The Little Prince\" serves as a timeless beacon of hope, empathy, and wisdom in a world that is ever-changing and often challenging.', response_metadata={'token_usage': {'completion_tokens': 589, 'prompt_tokens': 70, 'total_tokens': 659}, 'model_name': 'gpt-3.5-turbo', 'system_fingerprint': None, 'finish_reason': 'stop', 'logprobs': None}, id='run-d456fc3b-1d95-4bfd-87cc-1b359c1fe761-0', usage_metadata={'input_tokens': 70, 'output_tokens': 589, 'total_tokens': 659})}\n",
      "---\n",
      "{'reflect': HumanMessage(content='Your essay on the topicality of \"The Little Prince\" and its message in modern life is well-written and insightful. You effectively analyze the novella\\'s enduring relevance by discussing its exploration of universal themes such as love, friendship, loneliness, and the complexities of human nature. Your essay eloquently highlights how the little prince\\'s interactions with various characters serve as poignant reminders of the importance of seeing beyond material wealth, cultivating meaningful connections, and embracing empathy and emotional intimacy in today\\'s society.\\n\\nTo enhance your essay, consider delving deeper into specific examples from the novella that illustrate the themes you discuss. For instance, you could provide more detailed analyses of the prince\\'s interactions with characters like the rose, the fox, and the businessman to further showcase the relevance of their lessons in modern life. Additionally, consider incorporating quotes from the text to support your points and add textual evidence to strengthen your arguments.\\n\\nFurthermore, you could expand on the impact of societal influences on the loss of innocence and wonder, drawing connections between the little prince\\'s unwavering belief in imagination and the challenges faced by individuals in maintaining their sense of wonder in today\\'s fast-paced and cynical world. By exploring these connections in more depth, you can offer a more comprehensive analysis of the novella\\'s relevance to contemporary readers.\\n\\nAdditionally, consider structuring your essay with clearer topic sentences at the beginning of each paragraph to guide the reader through your analysis more effectively. This will help ensure that your points are well-organized and easy to follow, enhancing the overall coherence of your essay.\\n\\nOverall, your essay effectively conveys the enduring relevance of \"The Little Prince\" and its messages in modern life. By incorporating more specific examples, textual evidence, and a clearer organizational structure, you can further strengthen your analysis and provide a more comprehensive exploration of the novella\\'s timeless themes and insights. Great job!')}\n",
      "---\n",
      "{'generate': AIMessage(content='\"The Little Prince\" by Antoine de Saint-Exupéry continues to captivate readers with its timeless themes and messages that hold significant relevance in modern life. The novella\\'s exploration of universal concepts such as love, friendship, loneliness, and the complexities of human nature resonates deeply with audiences of all ages. Through the little prince\\'s interactions with various characters, the book imparts valuable lessons on the importance of looking beyond superficialities, nurturing meaningful connections, and embracing empathy and emotional intimacy in today\\'s society.\\n\\nOne of the central themes of \"The Little Prince\" is the idea of seeing beyond the surface and valuing what truly matters in life. The little prince\\'s encounters with characters like the vain rose and the greedy businessman highlight the emptiness of pursuing material wealth and superficial success. By emphasizing the significance of genuine human connection and cherishing the intangible aspects of life, the novella prompts readers to reflect on their own values and priorities in a world that often places undue emphasis on external achievements.\\n\\nFurthermore, the novella delves into the complexities of relationships and communication, which are particularly relevant in the digital age. Through the prince\\'s interactions with the fox, readers are reminded of the transformative power of empathy and understanding in fostering deep connections. The fox\\'s teachings on taming and forming bonds underscore the importance of emotional intimacy and meaningful relationships in a society marked by fleeting interactions and virtual connections. By encouraging readers to see with their hearts and cultivate authentic relationships, \"The Little Prince\" offers invaluable insights into navigating the complexities of modern interpersonal dynamics.\\n\\nMoreover, the theme of innocence and the loss thereof in \"The Little Prince\" resonates strongly in today\\'s fast-paced and often cynical world. The little prince\\'s unwavering belief in the power of imagination and the importance of maintaining a sense of wonder challenges readers to reflect on their own loss of innocence and wonder as they navigate adulthood. In a society that often values pragmatism over imagination, the novella serves as a poignant reminder of the vitality of holding onto one\\'s inner child and embracing curiosity and creativity in the face of societal pressures.\\n\\nIn conclusion, \"The Little Prince\" remains a poignant and relevant work of literature that continues to offer profound insights into the human experience in modern life. Through its exploration of universal themes and its timeless messages on love, friendship, human nature, and the pursuit of meaning, the novella serves as a beacon of wisdom and empathy in a world that is constantly evolving. By encouraging readers to reflect on their values, nurture genuine connections, and embrace their inner childlike wonder, \"The Little Prince\" inspires contemplation and introspection, making it a cherished and enduring classic for generations to come.', response_metadata={'token_usage': {'completion_tokens': 538, 'prompt_tokens': 1039, 'total_tokens': 1577}, 'model_name': 'gpt-3.5-turbo', 'system_fingerprint': None, 'finish_reason': 'stop', 'logprobs': None}, id='run-a2671735-566b-43b8-a09f-f315b215cccd-0', usage_metadata={'input_tokens': 1039, 'output_tokens': 538, 'total_tokens': 1577})}\n",
      "---\n"
     ]
    }
   ],
   "source": [
    "async for event in graph.astream(\n",
    "    [\n",
    "        HumanMessage(\n",
    "            content=\"Generate an essay on the topicality of The Little Prince and its message in modern life\"\n",
    "        )\n",
    "    ],\n",
    "):\n",
    "    print(event)\n",
    "    print(\"---\")"
   ]
  },
  {
   "cell_type": "code",
   "execution_count": 14,
   "metadata": {},
   "outputs": [
    {
     "name": "stdout",
     "output_type": "stream",
     "text": [
      "{'generate': AIMessage(content='\"The Little Prince\" by Antoine de Saint-Exupéry continues to captivate readers with its timeless themes and messages that hold significant relevance in modern life. The novella\\'s exploration of universal concepts such as love, friendship, loneliness, and the complexities of human nature resonates deeply with audiences of all ages. Through the little prince\\'s interactions with various characters, the book imparts valuable lessons on the importance of looking beyond superficialities, nurturing meaningful connections, and embracing empathy and emotional intimacy in today\\'s society.\\n\\nOne of the central themes of \"The Little Prince\" is the idea of seeing beyond the surface and valuing what truly matters in life. The little prince\\'s encounters with characters like the vain rose and the greedy businessman highlight the emptiness of pursuing material wealth and superficial success. By emphasizing the significance of genuine human connection and cherishing the intangible aspects of life, the novella prompts readers to reflect on their own values and priorities in a world that often places undue emphasis on external achievements.\\n\\nFurthermore, the novella delves into the complexities of relationships and communication, which are particularly relevant in the digital age. Through the prince\\'s interactions with the fox, readers are reminded of the transformative power of empathy and understanding in fostering deep connections. The fox\\'s teachings on taming and forming bonds underscore the importance of emotional intimacy and meaningful relationships in a society marked by fleeting interactions and virtual connections. By encouraging readers to see with their hearts and cultivate authentic relationships, \"The Little Prince\" offers invaluable insights into navigating the complexities of modern interpersonal dynamics.\\n\\nMoreover, the theme of innocence and the loss thereof in \"The Little Prince\" resonates strongly in today\\'s fast-paced and often cynical world. The little prince\\'s unwavering belief in the power of imagination and the importance of maintaining a sense of wonder challenges readers to reflect on their own loss of innocence and wonder as they navigate adulthood. In a society that often values pragmatism over imagination, the novella serves as a poignant reminder of the vitality of holding onto one\\'s inner child and embracing curiosity and creativity in the face of societal pressures.\\n\\nIn conclusion, \"The Little Prince\" remains a poignant and relevant work of literature that continues to offer profound insights into the human experience in modern life. Through its exploration of universal themes and its timeless messages on love, friendship, human nature, and the pursuit of meaning, the novella serves as a beacon of wisdom and empathy in a world that is constantly evolving. By encouraging readers to reflect on their values, nurture genuine connections, and embrace their inner childlike wonder, \"The Little Prince\" inspires contemplation and introspection, making it a cherished and enduring classic for generations to come.', response_metadata={'token_usage': {'completion_tokens': 538, 'prompt_tokens': 1039, 'total_tokens': 1577}, 'model_name': 'gpt-3.5-turbo', 'system_fingerprint': None, 'finish_reason': 'stop', 'logprobs': None}, id='run-a2671735-566b-43b8-a09f-f315b215cccd-0', usage_metadata={'input_tokens': 1039, 'output_tokens': 538, 'total_tokens': 1577})}\n"
     ]
    }
   ],
   "source": [
    "print(event)"
   ]
  },
  {
   "cell_type": "code",
   "execution_count": 9,
   "metadata": {},
   "outputs": [
    {
     "ename": "KeyError",
     "evalue": "'__end__'",
     "output_type": "error",
     "traceback": [
      "\u001b[1;31m---------------------------------------------------------------------------\u001b[0m",
      "\u001b[1;31mKeyError\u001b[0m                                  Traceback (most recent call last)",
      "Cell \u001b[1;32mIn[9], line 1\u001b[0m\n\u001b[1;32m----> 1\u001b[0m ChatPromptTemplate\u001b[38;5;241m.\u001b[39mfrom_messages(\u001b[43mevent\u001b[49m\u001b[43m[\u001b[49m\u001b[43mEND\u001b[49m\u001b[43m]\u001b[49m)\u001b[38;5;241m.\u001b[39mpretty_print()\n",
      "\u001b[1;31mKeyError\u001b[0m: '__end__'"
     ]
    }
   ],
   "source": [
    "ChatPromptTemplate.from_messages(event[END]).pretty_print()"
   ]
  },
  {
   "cell_type": "code",
   "execution_count": null,
   "metadata": {},
   "outputs": [],
   "source": []
  }
 ],
 "metadata": {
  "kernelspec": {
   "display_name": "Python 3",
   "language": "python",
   "name": "python3"
  },
  "language_info": {
   "codemirror_mode": {
    "name": "ipython",
    "version": 3
   },
   "file_extension": ".py",
   "mimetype": "text/x-python",
   "name": "python",
   "nbconvert_exporter": "python",
   "pygments_lexer": "ipython3",
   "version": "3.10.0"
  }
 },
 "nbformat": 4,
 "nbformat_minor": 2
}
